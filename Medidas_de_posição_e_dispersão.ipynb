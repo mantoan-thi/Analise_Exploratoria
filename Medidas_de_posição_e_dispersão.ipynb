{
  "nbformat": 4,
  "nbformat_minor": 0,
  "metadata": {
    "colab": {
      "name": "Medidas de posição e dispersão.ipynb",
      "provenance": [],
      "collapsed_sections": [
        "04mBFjDuptL7",
        "hkq_zae75joP",
        "BNb_PbIM5kk-",
        "sHVY0OeLEhk5"
      ],
      "include_colab_link": true
    },
    "kernelspec": {
      "name": "python3",
      "display_name": "Python 3"
    }
  },
  "cells": [
    {
      "cell_type": "markdown",
      "metadata": {
        "id": "view-in-github",
        "colab_type": "text"
      },
      "source": [
        "<a href=\"https://colab.research.google.com/github/mantoan-thi/Analise_Exploratoria/blob/main/Medidas_de_posi%C3%A7%C3%A3o_e_dispers%C3%A3o.ipynb\" target=\"_parent\"><img src=\"https://colab.research.google.com/assets/colab-badge.svg\" alt=\"Open In Colab\"/></a>"
      ]
    },
    {
      "cell_type": "markdown",
      "metadata": {
        "id": "A2a4Ps-RpmCv"
      },
      "source": [
        "# Medidas de posição e dispersão"
      ]
    },
    {
      "cell_type": "markdown",
      "metadata": {
        "id": "b-sJV-8TppJh"
      },
      "source": [
        "## Base de dados"
      ]
    },
    {
      "cell_type": "code",
      "metadata": {
        "id": "jk9u4BJ1Wqpa"
      },
      "source": [
        "import numpy as np\n",
        "import statistics\n",
        "from scipy import stats\n",
        "import math"
      ],
      "execution_count": 1,
      "outputs": []
    },
    {
      "cell_type": "code",
      "metadata": {
        "id": "-iizD18Hpe8P"
      },
      "source": [
        "dados = np.array([150, 151, 152, 152, 153, 154, 155, 155, 155, 155, 156, 156, 156,\n",
        "                  157, 158, 158, 160, 160, 160, 160, 160, 161, 161, 161, 161, 162,\n",
        "                  163, 163, 164, 164, 164, 165, 166, 167, 168, 168, 169, 170, 172,\n",
        "                  173])"
      ],
      "execution_count": 2,
      "outputs": []
    },
    {
      "cell_type": "markdown",
      "metadata": {
        "id": "04mBFjDuptL7"
      },
      "source": [
        "## Média aritmética simples"
      ]
    },
    {
      "cell_type": "code",
      "metadata": {
        "id": "C-39PNeqXMhx",
        "colab": {
          "base_uri": "https://localhost:8080/"
        },
        "outputId": "aace7a81-3acc-4381-a910-1e3fbec5202a"
      },
      "source": [
        "dados.sum() / len(dados)"
      ],
      "execution_count": 3,
      "outputs": [
        {
          "output_type": "execute_result",
          "data": {
            "text/plain": [
              "160.375"
            ]
          },
          "metadata": {},
          "execution_count": 3
        }
      ]
    },
    {
      "cell_type": "code",
      "metadata": {
        "id": "IJnw7O4FXYnC",
        "colab": {
          "base_uri": "https://localhost:8080/"
        },
        "outputId": "b21af5ab-cf3b-446a-90b1-b691ca719b5e"
      },
      "source": [
        "dados.mean()"
      ],
      "execution_count": 4,
      "outputs": [
        {
          "output_type": "execute_result",
          "data": {
            "text/plain": [
              "160.375"
            ]
          },
          "metadata": {},
          "execution_count": 4
        }
      ]
    },
    {
      "cell_type": "code",
      "metadata": {
        "id": "0ertqHN1Xc2H",
        "colab": {
          "base_uri": "https://localhost:8080/"
        },
        "outputId": "fe80b91d-8c38-4839-9a6b-18fce2e9ab2e"
      },
      "source": [
        "statistics.mean(dados)"
      ],
      "execution_count": 5,
      "outputs": [
        {
          "output_type": "execute_result",
          "data": {
            "text/plain": [
              "160"
            ]
          },
          "metadata": {},
          "execution_count": 5
        }
      ]
    },
    {
      "cell_type": "markdown",
      "metadata": {
        "id": "hkq_zae75joP"
      },
      "source": [
        "## Moda"
      ]
    },
    {
      "cell_type": "code",
      "metadata": {
        "id": "iCdM7KSjX1DD",
        "colab": {
          "base_uri": "https://localhost:8080/"
        },
        "outputId": "6485027e-9467-41d9-f1ac-2b59e75337c6"
      },
      "source": [
        "statistics.mode(dados)"
      ],
      "execution_count": 6,
      "outputs": [
        {
          "output_type": "execute_result",
          "data": {
            "text/plain": [
              "160"
            ]
          },
          "metadata": {},
          "execution_count": 6
        }
      ]
    },
    {
      "cell_type": "code",
      "metadata": {
        "id": "xEs8kq2GX7k_",
        "colab": {
          "base_uri": "https://localhost:8080/"
        },
        "outputId": "4e3560e5-2d0b-4bee-a4ed-6f38cefa617b"
      },
      "source": [
        "stats.mode(dados)"
      ],
      "execution_count": 7,
      "outputs": [
        {
          "output_type": "execute_result",
          "data": {
            "text/plain": [
              "ModeResult(mode=array([160]), count=array([5]))"
            ]
          },
          "metadata": {},
          "execution_count": 7
        }
      ]
    },
    {
      "cell_type": "markdown",
      "metadata": {
        "id": "BNb_PbIM5kk-"
      },
      "source": [
        "## Mediana"
      ]
    },
    {
      "cell_type": "code",
      "metadata": {
        "id": "WYauSw6b8HQs"
      },
      "source": [
        "dados_impar = [150, 151, 152, 152, 153, 154, 155, 155, 155]"
      ],
      "execution_count": 8,
      "outputs": []
    },
    {
      "cell_type": "markdown",
      "metadata": {
        "id": "yPHpvq0W-ABs"
      },
      "source": [
        "### Cálculo manual (ímpar)"
      ]
    },
    {
      "cell_type": "code",
      "metadata": {
        "id": "WugwDKtCYS0Y",
        "colab": {
          "base_uri": "https://localhost:8080/"
        },
        "outputId": "bacbd467-03c1-4261-80e0-bf54d630ab9c"
      },
      "source": [
        "posicao = len(dados_impar) / 2\n",
        "posicao"
      ],
      "execution_count": 9,
      "outputs": [
        {
          "output_type": "execute_result",
          "data": {
            "text/plain": [
              "4.5"
            ]
          },
          "metadata": {},
          "execution_count": 9
        }
      ]
    },
    {
      "cell_type": "code",
      "metadata": {
        "id": "EXZTOH_EYhtM",
        "colab": {
          "base_uri": "https://localhost:8080/"
        },
        "outputId": "3cae1579-4c32-46ec-d419-aa3c38944643"
      },
      "source": [
        "posicao = math.ceil(posicao)\n",
        "posicao"
      ],
      "execution_count": 10,
      "outputs": [
        {
          "output_type": "execute_result",
          "data": {
            "text/plain": [
              "5"
            ]
          },
          "metadata": {},
          "execution_count": 10
        }
      ]
    },
    {
      "cell_type": "code",
      "metadata": {
        "id": "938Gx7-vYm1s",
        "colab": {
          "base_uri": "https://localhost:8080/"
        },
        "outputId": "c1bbbbb8-0531-4058-d6d8-382fd3cae64f"
      },
      "source": [
        "dados_impar[posicao - 1]"
      ],
      "execution_count": 11,
      "outputs": [
        {
          "output_type": "execute_result",
          "data": {
            "text/plain": [
              "153"
            ]
          },
          "metadata": {},
          "execution_count": 11
        }
      ]
    },
    {
      "cell_type": "markdown",
      "metadata": {
        "id": "Y5WBJckZ-jlW"
      },
      "source": [
        "### Cálculo manual (par)"
      ]
    },
    {
      "cell_type": "code",
      "metadata": {
        "id": "sSN8Nf0fY4Zy",
        "colab": {
          "base_uri": "https://localhost:8080/"
        },
        "outputId": "ea712aac-3276-4783-a7a6-7f19c3bf079b"
      },
      "source": [
        "posicao = len(dados) // 2\n",
        "posicao"
      ],
      "execution_count": 12,
      "outputs": [
        {
          "output_type": "execute_result",
          "data": {
            "text/plain": [
              "20"
            ]
          },
          "metadata": {},
          "execution_count": 12
        }
      ]
    },
    {
      "cell_type": "code",
      "metadata": {
        "id": "wnGc44QuY8zP",
        "colab": {
          "base_uri": "https://localhost:8080/"
        },
        "outputId": "ac4c2bf6-5d22-497f-9c02-cbc69b4bad89"
      },
      "source": [
        "dados[posicao - 1], dados[posicao]"
      ],
      "execution_count": 13,
      "outputs": [
        {
          "output_type": "execute_result",
          "data": {
            "text/plain": [
              "(160, 160)"
            ]
          },
          "metadata": {},
          "execution_count": 13
        }
      ]
    },
    {
      "cell_type": "code",
      "metadata": {
        "id": "e1jeHsuRZKqh",
        "colab": {
          "base_uri": "https://localhost:8080/"
        },
        "outputId": "190babb6-7516-4407-8858-4c2ce372193c"
      },
      "source": [
        "mediana = (dados[posicao - 1] + dados[posicao]) / 2\n",
        "mediana"
      ],
      "execution_count": 14,
      "outputs": [
        {
          "output_type": "execute_result",
          "data": {
            "text/plain": [
              "160.0"
            ]
          },
          "metadata": {},
          "execution_count": 14
        }
      ]
    },
    {
      "cell_type": "markdown",
      "metadata": {
        "id": "K0JHhy5p_Lc4"
      },
      "source": [
        "### Bibliotecas"
      ]
    },
    {
      "cell_type": "code",
      "metadata": {
        "id": "jHHIhQCaZXjA",
        "colab": {
          "base_uri": "https://localhost:8080/"
        },
        "outputId": "676f24fa-920c-4ba4-eaf3-0b38788b36de"
      },
      "source": [
        "np.median(dados_impar)"
      ],
      "execution_count": 15,
      "outputs": [
        {
          "output_type": "execute_result",
          "data": {
            "text/plain": [
              "153.0"
            ]
          },
          "metadata": {},
          "execution_count": 15
        }
      ]
    },
    {
      "cell_type": "code",
      "metadata": {
        "id": "9ds6VVYVZdDX",
        "colab": {
          "base_uri": "https://localhost:8080/"
        },
        "outputId": "42975451-4412-4861-d012-54847e49f595"
      },
      "source": [
        "np.median(dados)"
      ],
      "execution_count": 16,
      "outputs": [
        {
          "output_type": "execute_result",
          "data": {
            "text/plain": [
              "160.0"
            ]
          },
          "metadata": {},
          "execution_count": 16
        }
      ]
    },
    {
      "cell_type": "code",
      "metadata": {
        "id": "dhV9QtgTZhDS",
        "colab": {
          "base_uri": "https://localhost:8080/"
        },
        "outputId": "e0df230d-7b01-45ff-953f-3f5d1d32c380"
      },
      "source": [
        "statistics.median(dados_impar)"
      ],
      "execution_count": 17,
      "outputs": [
        {
          "output_type": "execute_result",
          "data": {
            "text/plain": [
              "153"
            ]
          },
          "metadata": {},
          "execution_count": 17
        }
      ]
    },
    {
      "cell_type": "code",
      "metadata": {
        "id": "mwvGW0Z-Zl2p",
        "colab": {
          "base_uri": "https://localhost:8080/"
        },
        "outputId": "06050fd0-dc4c-4e9a-d034-970fb0e72327"
      },
      "source": [
        "statistics.median(dados)"
      ],
      "execution_count": 18,
      "outputs": [
        {
          "output_type": "execute_result",
          "data": {
            "text/plain": [
              "160.0"
            ]
          },
          "metadata": {},
          "execution_count": 18
        }
      ]
    },
    {
      "cell_type": "markdown",
      "metadata": {
        "id": "sHVY0OeLEhk5"
      },
      "source": [
        "## Média aritmética ponderada"
      ]
    },
    {
      "cell_type": "code",
      "metadata": {
        "id": "KdRONYgwbdSy"
      },
      "source": [
        "notas = np.array([9, 8, 7, 3])\n",
        "pesos = np.array([1, 2, 3, 4])"
      ],
      "execution_count": 19,
      "outputs": []
    },
    {
      "cell_type": "code",
      "metadata": {
        "id": "uVZvT4PQbm_F",
        "colab": {
          "base_uri": "https://localhost:8080/"
        },
        "outputId": "628b08bd-2fc2-4d07-81a4-612f2b4eb3fd"
      },
      "source": [
        "(9 * 1 + 8 * 2 + 7 * 3 + 3 * 4) / (1 + 2 + 3 + 4)"
      ],
      "execution_count": 20,
      "outputs": [
        {
          "output_type": "execute_result",
          "data": {
            "text/plain": [
              "5.8"
            ]
          },
          "metadata": {},
          "execution_count": 20
        }
      ]
    },
    {
      "cell_type": "code",
      "metadata": {
        "id": "t0PCioI9b0J7",
        "colab": {
          "base_uri": "https://localhost:8080/"
        },
        "outputId": "99eca207-48ce-40b3-c211-907f7253471d"
      },
      "source": [
        "media_ponderada = (notas * pesos).sum() / pesos.sum()\n",
        "media_ponderada"
      ],
      "execution_count": 21,
      "outputs": [
        {
          "output_type": "execute_result",
          "data": {
            "text/plain": [
              "5.8"
            ]
          },
          "metadata": {},
          "execution_count": 21
        }
      ]
    },
    {
      "cell_type": "code",
      "metadata": {
        "id": "gimBCIWFcEcy",
        "colab": {
          "base_uri": "https://localhost:8080/"
        },
        "outputId": "dd206e44-319b-43c3-af39-6370485bfe46"
      },
      "source": [
        "np.average(notas, weights=pesos)"
      ],
      "execution_count": 22,
      "outputs": [
        {
          "output_type": "execute_result",
          "data": {
            "text/plain": [
              "5.8"
            ]
          },
          "metadata": {},
          "execution_count": 22
        }
      ]
    },
    {
      "cell_type": "markdown",
      "metadata": {
        "id": "7EZ602jEqI8o"
      },
      "source": [
        "## Média aritmética, moda e mediana com distribuição de frequência (dados agrupados)"
      ]
    },
    {
      "cell_type": "code",
      "metadata": {
        "id": "u6NbLnwdqQSw"
      },
      "source": [
        "dados = {'inferior': [150, 154, 158, 162, 166, 170],\n",
        "         'superior': [154, 158, 162, 166, 170, 174],\n",
        "         'fi': [5, 9, 11, 7, 5, 3]}"
      ],
      "execution_count": 23,
      "outputs": []
    },
    {
      "cell_type": "code",
      "metadata": {
        "id": "k28o28rEq_iU",
        "colab": {
          "base_uri": "https://localhost:8080/",
          "height": 234
        },
        "outputId": "7687230f-8b70-4d3c-d45b-91d67b602282"
      },
      "source": [
        "import pandas as pd\n",
        "dataset = pd.DataFrame(dados)\n",
        "dataset"
      ],
      "execution_count": 24,
      "outputs": [
        {
          "output_type": "execute_result",
          "data": {
            "text/html": [
              "<div>\n",
              "<style scoped>\n",
              "    .dataframe tbody tr th:only-of-type {\n",
              "        vertical-align: middle;\n",
              "    }\n",
              "\n",
              "    .dataframe tbody tr th {\n",
              "        vertical-align: top;\n",
              "    }\n",
              "\n",
              "    .dataframe thead th {\n",
              "        text-align: right;\n",
              "    }\n",
              "</style>\n",
              "<table border=\"1\" class=\"dataframe\">\n",
              "  <thead>\n",
              "    <tr style=\"text-align: right;\">\n",
              "      <th></th>\n",
              "      <th>inferior</th>\n",
              "      <th>superior</th>\n",
              "      <th>fi</th>\n",
              "    </tr>\n",
              "  </thead>\n",
              "  <tbody>\n",
              "    <tr>\n",
              "      <th>0</th>\n",
              "      <td>150</td>\n",
              "      <td>154</td>\n",
              "      <td>5</td>\n",
              "    </tr>\n",
              "    <tr>\n",
              "      <th>1</th>\n",
              "      <td>154</td>\n",
              "      <td>158</td>\n",
              "      <td>9</td>\n",
              "    </tr>\n",
              "    <tr>\n",
              "      <th>2</th>\n",
              "      <td>158</td>\n",
              "      <td>162</td>\n",
              "      <td>11</td>\n",
              "    </tr>\n",
              "    <tr>\n",
              "      <th>3</th>\n",
              "      <td>162</td>\n",
              "      <td>166</td>\n",
              "      <td>7</td>\n",
              "    </tr>\n",
              "    <tr>\n",
              "      <th>4</th>\n",
              "      <td>166</td>\n",
              "      <td>170</td>\n",
              "      <td>5</td>\n",
              "    </tr>\n",
              "    <tr>\n",
              "      <th>5</th>\n",
              "      <td>170</td>\n",
              "      <td>174</td>\n",
              "      <td>3</td>\n",
              "    </tr>\n",
              "  </tbody>\n",
              "</table>\n",
              "</div>"
            ],
            "text/plain": [
              "   inferior  superior  fi\n",
              "0       150       154   5\n",
              "1       154       158   9\n",
              "2       158       162  11\n",
              "3       162       166   7\n",
              "4       166       170   5\n",
              "5       170       174   3"
            ]
          },
          "metadata": {},
          "execution_count": 24
        }
      ]
    },
    {
      "cell_type": "code",
      "metadata": {
        "id": "DGKVKzR-rHLS",
        "colab": {
          "base_uri": "https://localhost:8080/",
          "height": 234
        },
        "outputId": "3fb37f24-e051-4fae-cc94-237998cb987f"
      },
      "source": [
        "dataset['xi'] = (dataset['superior'] + dataset['inferior']) / 2\n",
        "dataset"
      ],
      "execution_count": 25,
      "outputs": [
        {
          "output_type": "execute_result",
          "data": {
            "text/html": [
              "<div>\n",
              "<style scoped>\n",
              "    .dataframe tbody tr th:only-of-type {\n",
              "        vertical-align: middle;\n",
              "    }\n",
              "\n",
              "    .dataframe tbody tr th {\n",
              "        vertical-align: top;\n",
              "    }\n",
              "\n",
              "    .dataframe thead th {\n",
              "        text-align: right;\n",
              "    }\n",
              "</style>\n",
              "<table border=\"1\" class=\"dataframe\">\n",
              "  <thead>\n",
              "    <tr style=\"text-align: right;\">\n",
              "      <th></th>\n",
              "      <th>inferior</th>\n",
              "      <th>superior</th>\n",
              "      <th>fi</th>\n",
              "      <th>xi</th>\n",
              "    </tr>\n",
              "  </thead>\n",
              "  <tbody>\n",
              "    <tr>\n",
              "      <th>0</th>\n",
              "      <td>150</td>\n",
              "      <td>154</td>\n",
              "      <td>5</td>\n",
              "      <td>152.0</td>\n",
              "    </tr>\n",
              "    <tr>\n",
              "      <th>1</th>\n",
              "      <td>154</td>\n",
              "      <td>158</td>\n",
              "      <td>9</td>\n",
              "      <td>156.0</td>\n",
              "    </tr>\n",
              "    <tr>\n",
              "      <th>2</th>\n",
              "      <td>158</td>\n",
              "      <td>162</td>\n",
              "      <td>11</td>\n",
              "      <td>160.0</td>\n",
              "    </tr>\n",
              "    <tr>\n",
              "      <th>3</th>\n",
              "      <td>162</td>\n",
              "      <td>166</td>\n",
              "      <td>7</td>\n",
              "      <td>164.0</td>\n",
              "    </tr>\n",
              "    <tr>\n",
              "      <th>4</th>\n",
              "      <td>166</td>\n",
              "      <td>170</td>\n",
              "      <td>5</td>\n",
              "      <td>168.0</td>\n",
              "    </tr>\n",
              "    <tr>\n",
              "      <th>5</th>\n",
              "      <td>170</td>\n",
              "      <td>174</td>\n",
              "      <td>3</td>\n",
              "      <td>172.0</td>\n",
              "    </tr>\n",
              "  </tbody>\n",
              "</table>\n",
              "</div>"
            ],
            "text/plain": [
              "   inferior  superior  fi     xi\n",
              "0       150       154   5  152.0\n",
              "1       154       158   9  156.0\n",
              "2       158       162  11  160.0\n",
              "3       162       166   7  164.0\n",
              "4       166       170   5  168.0\n",
              "5       170       174   3  172.0"
            ]
          },
          "metadata": {},
          "execution_count": 25
        }
      ]
    },
    {
      "cell_type": "code",
      "metadata": {
        "id": "zq7Ok3L3rXGh",
        "colab": {
          "base_uri": "https://localhost:8080/",
          "height": 234
        },
        "outputId": "a04b3660-1ae0-4859-f866-25a7b62d02da"
      },
      "source": [
        "dataset['fi.xi'] = dataset['fi'] * dataset['xi']\n",
        "dataset"
      ],
      "execution_count": 26,
      "outputs": [
        {
          "output_type": "execute_result",
          "data": {
            "text/html": [
              "<div>\n",
              "<style scoped>\n",
              "    .dataframe tbody tr th:only-of-type {\n",
              "        vertical-align: middle;\n",
              "    }\n",
              "\n",
              "    .dataframe tbody tr th {\n",
              "        vertical-align: top;\n",
              "    }\n",
              "\n",
              "    .dataframe thead th {\n",
              "        text-align: right;\n",
              "    }\n",
              "</style>\n",
              "<table border=\"1\" class=\"dataframe\">\n",
              "  <thead>\n",
              "    <tr style=\"text-align: right;\">\n",
              "      <th></th>\n",
              "      <th>inferior</th>\n",
              "      <th>superior</th>\n",
              "      <th>fi</th>\n",
              "      <th>xi</th>\n",
              "      <th>fi.xi</th>\n",
              "    </tr>\n",
              "  </thead>\n",
              "  <tbody>\n",
              "    <tr>\n",
              "      <th>0</th>\n",
              "      <td>150</td>\n",
              "      <td>154</td>\n",
              "      <td>5</td>\n",
              "      <td>152.0</td>\n",
              "      <td>760.0</td>\n",
              "    </tr>\n",
              "    <tr>\n",
              "      <th>1</th>\n",
              "      <td>154</td>\n",
              "      <td>158</td>\n",
              "      <td>9</td>\n",
              "      <td>156.0</td>\n",
              "      <td>1404.0</td>\n",
              "    </tr>\n",
              "    <tr>\n",
              "      <th>2</th>\n",
              "      <td>158</td>\n",
              "      <td>162</td>\n",
              "      <td>11</td>\n",
              "      <td>160.0</td>\n",
              "      <td>1760.0</td>\n",
              "    </tr>\n",
              "    <tr>\n",
              "      <th>3</th>\n",
              "      <td>162</td>\n",
              "      <td>166</td>\n",
              "      <td>7</td>\n",
              "      <td>164.0</td>\n",
              "      <td>1148.0</td>\n",
              "    </tr>\n",
              "    <tr>\n",
              "      <th>4</th>\n",
              "      <td>166</td>\n",
              "      <td>170</td>\n",
              "      <td>5</td>\n",
              "      <td>168.0</td>\n",
              "      <td>840.0</td>\n",
              "    </tr>\n",
              "    <tr>\n",
              "      <th>5</th>\n",
              "      <td>170</td>\n",
              "      <td>174</td>\n",
              "      <td>3</td>\n",
              "      <td>172.0</td>\n",
              "      <td>516.0</td>\n",
              "    </tr>\n",
              "  </tbody>\n",
              "</table>\n",
              "</div>"
            ],
            "text/plain": [
              "   inferior  superior  fi     xi   fi.xi\n",
              "0       150       154   5  152.0   760.0\n",
              "1       154       158   9  156.0  1404.0\n",
              "2       158       162  11  160.0  1760.0\n",
              "3       162       166   7  164.0  1148.0\n",
              "4       166       170   5  168.0   840.0\n",
              "5       170       174   3  172.0   516.0"
            ]
          },
          "metadata": {},
          "execution_count": 26
        }
      ]
    },
    {
      "cell_type": "code",
      "metadata": {
        "id": "kSY1e8Zsrl1z",
        "colab": {
          "base_uri": "https://localhost:8080/",
          "height": 234
        },
        "outputId": "d9b8f768-cdc6-404d-8ddc-55c7d8967f2a"
      },
      "source": [
        "dataset['Fi'] = 0\n",
        "dataset"
      ],
      "execution_count": 27,
      "outputs": [
        {
          "output_type": "execute_result",
          "data": {
            "text/html": [
              "<div>\n",
              "<style scoped>\n",
              "    .dataframe tbody tr th:only-of-type {\n",
              "        vertical-align: middle;\n",
              "    }\n",
              "\n",
              "    .dataframe tbody tr th {\n",
              "        vertical-align: top;\n",
              "    }\n",
              "\n",
              "    .dataframe thead th {\n",
              "        text-align: right;\n",
              "    }\n",
              "</style>\n",
              "<table border=\"1\" class=\"dataframe\">\n",
              "  <thead>\n",
              "    <tr style=\"text-align: right;\">\n",
              "      <th></th>\n",
              "      <th>inferior</th>\n",
              "      <th>superior</th>\n",
              "      <th>fi</th>\n",
              "      <th>xi</th>\n",
              "      <th>fi.xi</th>\n",
              "      <th>Fi</th>\n",
              "    </tr>\n",
              "  </thead>\n",
              "  <tbody>\n",
              "    <tr>\n",
              "      <th>0</th>\n",
              "      <td>150</td>\n",
              "      <td>154</td>\n",
              "      <td>5</td>\n",
              "      <td>152.0</td>\n",
              "      <td>760.0</td>\n",
              "      <td>0</td>\n",
              "    </tr>\n",
              "    <tr>\n",
              "      <th>1</th>\n",
              "      <td>154</td>\n",
              "      <td>158</td>\n",
              "      <td>9</td>\n",
              "      <td>156.0</td>\n",
              "      <td>1404.0</td>\n",
              "      <td>0</td>\n",
              "    </tr>\n",
              "    <tr>\n",
              "      <th>2</th>\n",
              "      <td>158</td>\n",
              "      <td>162</td>\n",
              "      <td>11</td>\n",
              "      <td>160.0</td>\n",
              "      <td>1760.0</td>\n",
              "      <td>0</td>\n",
              "    </tr>\n",
              "    <tr>\n",
              "      <th>3</th>\n",
              "      <td>162</td>\n",
              "      <td>166</td>\n",
              "      <td>7</td>\n",
              "      <td>164.0</td>\n",
              "      <td>1148.0</td>\n",
              "      <td>0</td>\n",
              "    </tr>\n",
              "    <tr>\n",
              "      <th>4</th>\n",
              "      <td>166</td>\n",
              "      <td>170</td>\n",
              "      <td>5</td>\n",
              "      <td>168.0</td>\n",
              "      <td>840.0</td>\n",
              "      <td>0</td>\n",
              "    </tr>\n",
              "    <tr>\n",
              "      <th>5</th>\n",
              "      <td>170</td>\n",
              "      <td>174</td>\n",
              "      <td>3</td>\n",
              "      <td>172.0</td>\n",
              "      <td>516.0</td>\n",
              "      <td>0</td>\n",
              "    </tr>\n",
              "  </tbody>\n",
              "</table>\n",
              "</div>"
            ],
            "text/plain": [
              "   inferior  superior  fi     xi   fi.xi  Fi\n",
              "0       150       154   5  152.0   760.0   0\n",
              "1       154       158   9  156.0  1404.0   0\n",
              "2       158       162  11  160.0  1760.0   0\n",
              "3       162       166   7  164.0  1148.0   0\n",
              "4       166       170   5  168.0   840.0   0\n",
              "5       170       174   3  172.0   516.0   0"
            ]
          },
          "metadata": {},
          "execution_count": 27
        }
      ]
    },
    {
      "cell_type": "code",
      "metadata": {
        "id": "iH2a4ZwSr3PA"
      },
      "source": [
        "frequencia_acumulada = []\n",
        "somatorio = 0\n",
        "for linha in dataset.iterrows():\n",
        "  #print(linha[1])\n",
        "  #print(linha[1][2])\n",
        "  somatorio += linha[1][2]\n",
        "  frequencia_acumulada.append(somatorio)"
      ],
      "execution_count": 28,
      "outputs": []
    },
    {
      "cell_type": "code",
      "metadata": {
        "id": "Q_JqxfeNsowd",
        "colab": {
          "base_uri": "https://localhost:8080/"
        },
        "outputId": "c4e662d9-6a07-4c38-a06b-6ac69e3ce387"
      },
      "source": [
        "frequencia_acumulada"
      ],
      "execution_count": 29,
      "outputs": [
        {
          "output_type": "execute_result",
          "data": {
            "text/plain": [
              "[5.0, 14.0, 25.0, 32.0, 37.0, 40.0]"
            ]
          },
          "metadata": {},
          "execution_count": 29
        }
      ]
    },
    {
      "cell_type": "code",
      "metadata": {
        "id": "U1uHNbFasu3A",
        "colab": {
          "base_uri": "https://localhost:8080/",
          "height": 234
        },
        "outputId": "5dfb543e-e6f7-4593-bc0d-c07ed066b0c6"
      },
      "source": [
        "dataset['Fi'] = frequencia_acumulada\n",
        "dataset"
      ],
      "execution_count": 30,
      "outputs": [
        {
          "output_type": "execute_result",
          "data": {
            "text/html": [
              "<div>\n",
              "<style scoped>\n",
              "    .dataframe tbody tr th:only-of-type {\n",
              "        vertical-align: middle;\n",
              "    }\n",
              "\n",
              "    .dataframe tbody tr th {\n",
              "        vertical-align: top;\n",
              "    }\n",
              "\n",
              "    .dataframe thead th {\n",
              "        text-align: right;\n",
              "    }\n",
              "</style>\n",
              "<table border=\"1\" class=\"dataframe\">\n",
              "  <thead>\n",
              "    <tr style=\"text-align: right;\">\n",
              "      <th></th>\n",
              "      <th>inferior</th>\n",
              "      <th>superior</th>\n",
              "      <th>fi</th>\n",
              "      <th>xi</th>\n",
              "      <th>fi.xi</th>\n",
              "      <th>Fi</th>\n",
              "    </tr>\n",
              "  </thead>\n",
              "  <tbody>\n",
              "    <tr>\n",
              "      <th>0</th>\n",
              "      <td>150</td>\n",
              "      <td>154</td>\n",
              "      <td>5</td>\n",
              "      <td>152.0</td>\n",
              "      <td>760.0</td>\n",
              "      <td>5.0</td>\n",
              "    </tr>\n",
              "    <tr>\n",
              "      <th>1</th>\n",
              "      <td>154</td>\n",
              "      <td>158</td>\n",
              "      <td>9</td>\n",
              "      <td>156.0</td>\n",
              "      <td>1404.0</td>\n",
              "      <td>14.0</td>\n",
              "    </tr>\n",
              "    <tr>\n",
              "      <th>2</th>\n",
              "      <td>158</td>\n",
              "      <td>162</td>\n",
              "      <td>11</td>\n",
              "      <td>160.0</td>\n",
              "      <td>1760.0</td>\n",
              "      <td>25.0</td>\n",
              "    </tr>\n",
              "    <tr>\n",
              "      <th>3</th>\n",
              "      <td>162</td>\n",
              "      <td>166</td>\n",
              "      <td>7</td>\n",
              "      <td>164.0</td>\n",
              "      <td>1148.0</td>\n",
              "      <td>32.0</td>\n",
              "    </tr>\n",
              "    <tr>\n",
              "      <th>4</th>\n",
              "      <td>166</td>\n",
              "      <td>170</td>\n",
              "      <td>5</td>\n",
              "      <td>168.0</td>\n",
              "      <td>840.0</td>\n",
              "      <td>37.0</td>\n",
              "    </tr>\n",
              "    <tr>\n",
              "      <th>5</th>\n",
              "      <td>170</td>\n",
              "      <td>174</td>\n",
              "      <td>3</td>\n",
              "      <td>172.0</td>\n",
              "      <td>516.0</td>\n",
              "      <td>40.0</td>\n",
              "    </tr>\n",
              "  </tbody>\n",
              "</table>\n",
              "</div>"
            ],
            "text/plain": [
              "   inferior  superior  fi     xi   fi.xi    Fi\n",
              "0       150       154   5  152.0   760.0   5.0\n",
              "1       154       158   9  156.0  1404.0  14.0\n",
              "2       158       162  11  160.0  1760.0  25.0\n",
              "3       162       166   7  164.0  1148.0  32.0\n",
              "4       166       170   5  168.0   840.0  37.0\n",
              "5       170       174   3  172.0   516.0  40.0"
            ]
          },
          "metadata": {},
          "execution_count": 30
        }
      ]
    },
    {
      "cell_type": "markdown",
      "metadata": {
        "id": "tdRnWXaKs5VH"
      },
      "source": [
        "### Média"
      ]
    },
    {
      "cell_type": "code",
      "metadata": {
        "id": "V1FXRYTStA5V",
        "colab": {
          "base_uri": "https://localhost:8080/"
        },
        "outputId": "11640e9d-a5ce-4228-d8ae-f4e3966ab6c2"
      },
      "source": [
        "dataset['fi'].sum(), dataset['fi.xi'].sum()"
      ],
      "execution_count": 31,
      "outputs": [
        {
          "output_type": "execute_result",
          "data": {
            "text/plain": [
              "(40, 6428.0)"
            ]
          },
          "metadata": {},
          "execution_count": 31
        }
      ]
    },
    {
      "cell_type": "code",
      "metadata": {
        "id": "W47Mr5cPtPGr",
        "colab": {
          "base_uri": "https://localhost:8080/"
        },
        "outputId": "3fcf0b34-d391-4e94-ede8-369a603de861"
      },
      "source": [
        "dataset['fi.xi'].sum() / dataset['fi'].sum()"
      ],
      "execution_count": 32,
      "outputs": [
        {
          "output_type": "execute_result",
          "data": {
            "text/plain": [
              "160.7"
            ]
          },
          "metadata": {},
          "execution_count": 32
        }
      ]
    },
    {
      "cell_type": "markdown",
      "metadata": {
        "id": "Qbel3_ais65D"
      },
      "source": [
        "### Moda"
      ]
    },
    {
      "cell_type": "code",
      "metadata": {
        "id": "hEVZdbrytUgH",
        "colab": {
          "base_uri": "https://localhost:8080/"
        },
        "outputId": "dc8cd789-cba2-44a4-c2c3-b3321b4b2806"
      },
      "source": [
        "dataset['fi'].max()"
      ],
      "execution_count": 33,
      "outputs": [
        {
          "output_type": "execute_result",
          "data": {
            "text/plain": [
              "11"
            ]
          },
          "metadata": {},
          "execution_count": 33
        }
      ]
    },
    {
      "cell_type": "code",
      "metadata": {
        "id": "Yz3s-hsdtf2U",
        "colab": {
          "base_uri": "https://localhost:8080/",
          "height": 80
        },
        "outputId": "a3feb6fc-ae18-4703-da7f-41a52b0dfdb3"
      },
      "source": [
        "dataset[dataset['fi'] == dataset['fi'].max()]"
      ],
      "execution_count": 34,
      "outputs": [
        {
          "output_type": "execute_result",
          "data": {
            "text/html": [
              "<div>\n",
              "<style scoped>\n",
              "    .dataframe tbody tr th:only-of-type {\n",
              "        vertical-align: middle;\n",
              "    }\n",
              "\n",
              "    .dataframe tbody tr th {\n",
              "        vertical-align: top;\n",
              "    }\n",
              "\n",
              "    .dataframe thead th {\n",
              "        text-align: right;\n",
              "    }\n",
              "</style>\n",
              "<table border=\"1\" class=\"dataframe\">\n",
              "  <thead>\n",
              "    <tr style=\"text-align: right;\">\n",
              "      <th></th>\n",
              "      <th>inferior</th>\n",
              "      <th>superior</th>\n",
              "      <th>fi</th>\n",
              "      <th>xi</th>\n",
              "      <th>fi.xi</th>\n",
              "      <th>Fi</th>\n",
              "    </tr>\n",
              "  </thead>\n",
              "  <tbody>\n",
              "    <tr>\n",
              "      <th>2</th>\n",
              "      <td>158</td>\n",
              "      <td>162</td>\n",
              "      <td>11</td>\n",
              "      <td>160.0</td>\n",
              "      <td>1760.0</td>\n",
              "      <td>25.0</td>\n",
              "    </tr>\n",
              "  </tbody>\n",
              "</table>\n",
              "</div>"
            ],
            "text/plain": [
              "   inferior  superior  fi     xi   fi.xi    Fi\n",
              "2       158       162  11  160.0  1760.0  25.0"
            ]
          },
          "metadata": {},
          "execution_count": 34
        }
      ]
    },
    {
      "cell_type": "code",
      "metadata": {
        "id": "dIvxTcg_tuNc",
        "colab": {
          "base_uri": "https://localhost:8080/"
        },
        "outputId": "c15b1b0c-de7c-4593-cf9d-78980bbe8354"
      },
      "source": [
        "dataset[dataset['fi'] == dataset['fi'].max()]['xi'].values[0]"
      ],
      "execution_count": 35,
      "outputs": [
        {
          "output_type": "execute_result",
          "data": {
            "text/plain": [
              "160.0"
            ]
          },
          "metadata": {},
          "execution_count": 35
        }
      ]
    },
    {
      "cell_type": "markdown",
      "metadata": {
        "id": "VVh_EdZVs8A4"
      },
      "source": [
        "### Mediana"
      ]
    },
    {
      "cell_type": "code",
      "metadata": {
        "id": "7XAc0k9ft9st",
        "colab": {
          "base_uri": "https://localhost:8080/",
          "height": 234
        },
        "outputId": "d91f63d5-c643-4eb4-cd5a-cc88b7b3687b"
      },
      "source": [
        "dataset"
      ],
      "execution_count": 36,
      "outputs": [
        {
          "output_type": "execute_result",
          "data": {
            "text/html": [
              "<div>\n",
              "<style scoped>\n",
              "    .dataframe tbody tr th:only-of-type {\n",
              "        vertical-align: middle;\n",
              "    }\n",
              "\n",
              "    .dataframe tbody tr th {\n",
              "        vertical-align: top;\n",
              "    }\n",
              "\n",
              "    .dataframe thead th {\n",
              "        text-align: right;\n",
              "    }\n",
              "</style>\n",
              "<table border=\"1\" class=\"dataframe\">\n",
              "  <thead>\n",
              "    <tr style=\"text-align: right;\">\n",
              "      <th></th>\n",
              "      <th>inferior</th>\n",
              "      <th>superior</th>\n",
              "      <th>fi</th>\n",
              "      <th>xi</th>\n",
              "      <th>fi.xi</th>\n",
              "      <th>Fi</th>\n",
              "    </tr>\n",
              "  </thead>\n",
              "  <tbody>\n",
              "    <tr>\n",
              "      <th>0</th>\n",
              "      <td>150</td>\n",
              "      <td>154</td>\n",
              "      <td>5</td>\n",
              "      <td>152.0</td>\n",
              "      <td>760.0</td>\n",
              "      <td>5.0</td>\n",
              "    </tr>\n",
              "    <tr>\n",
              "      <th>1</th>\n",
              "      <td>154</td>\n",
              "      <td>158</td>\n",
              "      <td>9</td>\n",
              "      <td>156.0</td>\n",
              "      <td>1404.0</td>\n",
              "      <td>14.0</td>\n",
              "    </tr>\n",
              "    <tr>\n",
              "      <th>2</th>\n",
              "      <td>158</td>\n",
              "      <td>162</td>\n",
              "      <td>11</td>\n",
              "      <td>160.0</td>\n",
              "      <td>1760.0</td>\n",
              "      <td>25.0</td>\n",
              "    </tr>\n",
              "    <tr>\n",
              "      <th>3</th>\n",
              "      <td>162</td>\n",
              "      <td>166</td>\n",
              "      <td>7</td>\n",
              "      <td>164.0</td>\n",
              "      <td>1148.0</td>\n",
              "      <td>32.0</td>\n",
              "    </tr>\n",
              "    <tr>\n",
              "      <th>4</th>\n",
              "      <td>166</td>\n",
              "      <td>170</td>\n",
              "      <td>5</td>\n",
              "      <td>168.0</td>\n",
              "      <td>840.0</td>\n",
              "      <td>37.0</td>\n",
              "    </tr>\n",
              "    <tr>\n",
              "      <th>5</th>\n",
              "      <td>170</td>\n",
              "      <td>174</td>\n",
              "      <td>3</td>\n",
              "      <td>172.0</td>\n",
              "      <td>516.0</td>\n",
              "      <td>40.0</td>\n",
              "    </tr>\n",
              "  </tbody>\n",
              "</table>\n",
              "</div>"
            ],
            "text/plain": [
              "   inferior  superior  fi     xi   fi.xi    Fi\n",
              "0       150       154   5  152.0   760.0   5.0\n",
              "1       154       158   9  156.0  1404.0  14.0\n",
              "2       158       162  11  160.0  1760.0  25.0\n",
              "3       162       166   7  164.0  1148.0  32.0\n",
              "4       166       170   5  168.0   840.0  37.0\n",
              "5       170       174   3  172.0   516.0  40.0"
            ]
          },
          "metadata": {},
          "execution_count": 36
        }
      ]
    },
    {
      "cell_type": "code",
      "metadata": {
        "id": "0wzJiSOBuFtQ",
        "colab": {
          "base_uri": "https://localhost:8080/"
        },
        "outputId": "3dfa9f76-9b09-416d-f3f2-cea019340053"
      },
      "source": [
        "fi_2 = dataset['fi'].sum() / 2\n",
        "fi_2"
      ],
      "execution_count": 37,
      "outputs": [
        {
          "output_type": "execute_result",
          "data": {
            "text/plain": [
              "20.0"
            ]
          },
          "metadata": {},
          "execution_count": 37
        }
      ]
    },
    {
      "cell_type": "code",
      "metadata": {
        "id": "tMoZdwCwuhGh"
      },
      "source": [
        "limite_inferior, frequencia_classe, id_frequencia_anterior = 0, 0, 0\n",
        "for linha in dataset.iterrows():\n",
        "  #print(linha)\n",
        "  limite_inferior = linha[1][0]\n",
        "  frequencia_classe = linha[1][2]\n",
        "  id_frequencia_anterior = linha[0]\n",
        "  if linha[1][5] >= fi_2:\n",
        "    id_frequencia_anterior -= 1\n",
        "    break"
      ],
      "execution_count": 38,
      "outputs": []
    },
    {
      "cell_type": "code",
      "metadata": {
        "id": "epjTjW9mvgFB",
        "colab": {
          "base_uri": "https://localhost:8080/"
        },
        "outputId": "4e9c0046-529d-46d3-9ea0-0c8f47b3adbb"
      },
      "source": [
        "limite_inferior, frequencia_classe, id_frequencia_anterior"
      ],
      "execution_count": 39,
      "outputs": [
        {
          "output_type": "execute_result",
          "data": {
            "text/plain": [
              "(158.0, 11.0, 1)"
            ]
          },
          "metadata": {},
          "execution_count": 39
        }
      ]
    },
    {
      "cell_type": "code",
      "metadata": {
        "id": "IVEonk5uvpWJ",
        "colab": {
          "base_uri": "https://localhost:8080/"
        },
        "outputId": "8f67c694-3eff-40aa-cc96-1919f570951b"
      },
      "source": [
        "Fi_anterior = dataset.iloc[[id_frequencia_anterior]]['Fi'].values[0]\n",
        "Fi_anterior"
      ],
      "execution_count": 40,
      "outputs": [
        {
          "output_type": "execute_result",
          "data": {
            "text/plain": [
              "14.0"
            ]
          },
          "metadata": {},
          "execution_count": 40
        }
      ]
    },
    {
      "cell_type": "code",
      "metadata": {
        "id": "sHR6I53lv2e1",
        "colab": {
          "base_uri": "https://localhost:8080/"
        },
        "outputId": "1ab0af4c-4a61-4519-eb21-74a47ed0d4ed"
      },
      "source": [
        "mediana = limite_inferior + ((fi_2 - Fi_anterior) * 4) / frequencia_classe\n",
        "mediana"
      ],
      "execution_count": 41,
      "outputs": [
        {
          "output_type": "execute_result",
          "data": {
            "text/plain": [
              "160.1818181818182"
            ]
          },
          "metadata": {},
          "execution_count": 41
        }
      ]
    },
    {
      "cell_type": "markdown",
      "metadata": {
        "id": "uh7NCu1iwIPa"
      },
      "source": [
        "### Função completa"
      ]
    },
    {
      "cell_type": "code",
      "metadata": {
        "id": "hNMHtdsXwH5s"
      },
      "source": [
        "def get_estatisticas(dataframe):\n",
        "  media = dataset['fi.xi'].sum() / dataset['fi'].sum()\n",
        "  moda = dataset[dataset['fi'] == dataset['fi'].max()]['xi'].values[0]\n",
        "\n",
        "  fi_2 = dataset['fi'].sum() / 2\n",
        "  limite_inferior, frequencia_classe, id_frequencia_anterior = 0, 0, 0\n",
        "  for i, linha in enumerate(dataset.iterrows()):\n",
        "    limite_inferior = linha[1][0]\n",
        "    frequencia_classe = linha[1][2]\n",
        "    id_frequencia_anterior = linha[0]\n",
        "    if linha[1][5] >= fi_2:\n",
        "      id_frequencia_anterior -= 1\n",
        "      break\n",
        "  Fi_anterior = dataset.iloc[[id_frequencia_anterior]]['Fi'].values[0]\n",
        "  mediana = limite_inferior + ((fi_2 - Fi_anterior) * 4) / frequencia_classe\n",
        "\n",
        "  return media, moda, mediana"
      ],
      "execution_count": 42,
      "outputs": []
    },
    {
      "cell_type": "code",
      "metadata": {
        "id": "A1KzRLFDwMJq",
        "colab": {
          "base_uri": "https://localhost:8080/"
        },
        "outputId": "160d91f4-885e-4bba-fa20-0dca48ac7bc8"
      },
      "source": [
        "get_estatisticas(dataset)"
      ],
      "execution_count": 43,
      "outputs": [
        {
          "output_type": "execute_result",
          "data": {
            "text/plain": [
              "(160.7, 160.0, 160.1818181818182)"
            ]
          },
          "metadata": {},
          "execution_count": 43
        }
      ]
    },
    {
      "cell_type": "markdown",
      "metadata": {
        "id": "HznAR-NSzsLR"
      },
      "source": [
        "## Média geométrica, harmônica e quadrática"
      ]
    },
    {
      "cell_type": "markdown",
      "metadata": {
        "id": "BQD7WwSt2tF9"
      },
      "source": [
        "### Média geométrica"
      ]
    },
    {
      "cell_type": "code",
      "metadata": {
        "id": "Sp-mdKhPzvTE"
      },
      "source": [
        "from scipy.stats.mstats import gmean"
      ],
      "execution_count": 46,
      "outputs": []
    },
    {
      "cell_type": "code",
      "metadata": {
        "id": "KpECLAAQ283I",
        "colab": {
          "base_uri": "https://localhost:8080/",
          "height": 363
        },
        "outputId": "93bd9ba3-493f-4543-9efa-6daa6e6683ec"
      },
      "source": [
        "gmean(dados)"
      ],
      "execution_count": 47,
      "outputs": [
        {
          "output_type": "error",
          "ename": "TypeError",
          "evalue": "ignored",
          "traceback": [
            "\u001b[0;31m---------------------------------------------------------------------------\u001b[0m",
            "\u001b[0;31mAttributeError\u001b[0m                            Traceback (most recent call last)",
            "\u001b[0;31mAttributeError\u001b[0m: 'dict' object has no attribute 'log'",
            "\nThe above exception was the direct cause of the following exception:\n",
            "\u001b[0;31mTypeError\u001b[0m                                 Traceback (most recent call last)",
            "\u001b[0;32m<ipython-input-47-15551413fa41>\u001b[0m in \u001b[0;36m<module>\u001b[0;34m()\u001b[0m\n\u001b[0;32m----> 1\u001b[0;31m \u001b[0mgmean\u001b[0m\u001b[0;34m(\u001b[0m\u001b[0mdados\u001b[0m\u001b[0;34m)\u001b[0m\u001b[0;34m\u001b[0m\u001b[0;34m\u001b[0m\u001b[0m\n\u001b[0m",
            "\u001b[0;32m/usr/local/lib/python3.7/dist-packages/scipy/stats/stats.py\u001b[0m in \u001b[0;36mgmean\u001b[0;34m(a, axis, dtype)\u001b[0m\n\u001b[1;32m    328\u001b[0m     \u001b[0;32mif\u001b[0m \u001b[0;32mnot\u001b[0m \u001b[0misinstance\u001b[0m\u001b[0;34m(\u001b[0m\u001b[0ma\u001b[0m\u001b[0;34m,\u001b[0m \u001b[0mnp\u001b[0m\u001b[0;34m.\u001b[0m\u001b[0mndarray\u001b[0m\u001b[0;34m)\u001b[0m\u001b[0;34m:\u001b[0m\u001b[0;34m\u001b[0m\u001b[0;34m\u001b[0m\u001b[0m\n\u001b[1;32m    329\u001b[0m         \u001b[0;31m# if not an ndarray object attempt to convert it\u001b[0m\u001b[0;34m\u001b[0m\u001b[0;34m\u001b[0m\u001b[0;34m\u001b[0m\u001b[0m\n\u001b[0;32m--> 330\u001b[0;31m         \u001b[0mlog_a\u001b[0m \u001b[0;34m=\u001b[0m \u001b[0mnp\u001b[0m\u001b[0;34m.\u001b[0m\u001b[0mlog\u001b[0m\u001b[0;34m(\u001b[0m\u001b[0mnp\u001b[0m\u001b[0;34m.\u001b[0m\u001b[0marray\u001b[0m\u001b[0;34m(\u001b[0m\u001b[0ma\u001b[0m\u001b[0;34m,\u001b[0m \u001b[0mdtype\u001b[0m\u001b[0;34m=\u001b[0m\u001b[0mdtype\u001b[0m\u001b[0;34m)\u001b[0m\u001b[0;34m)\u001b[0m\u001b[0;34m\u001b[0m\u001b[0;34m\u001b[0m\u001b[0m\n\u001b[0m\u001b[1;32m    331\u001b[0m     \u001b[0;32melif\u001b[0m \u001b[0mdtype\u001b[0m\u001b[0;34m:\u001b[0m\u001b[0;34m\u001b[0m\u001b[0;34m\u001b[0m\u001b[0m\n\u001b[1;32m    332\u001b[0m         \u001b[0;31m# Must change the default dtype allowing array type\u001b[0m\u001b[0;34m\u001b[0m\u001b[0;34m\u001b[0m\u001b[0;34m\u001b[0m\u001b[0m\n",
            "\u001b[0;31mTypeError\u001b[0m: loop of ufunc does not support argument 0 of type dict which has no callable log method"
          ]
        }
      ]
    },
    {
      "cell_type": "markdown",
      "metadata": {
        "id": "40vHtt4v2u8P"
      },
      "source": [
        "### Média harmônica"
      ]
    },
    {
      "cell_type": "code",
      "metadata": {
        "id": "aG3D2PzG3DLp"
      },
      "source": [
        "from scipy.stats.mstats import hmean"
      ],
      "execution_count": null,
      "outputs": []
    },
    {
      "cell_type": "code",
      "metadata": {
        "id": "H3FILKX33HsR"
      },
      "source": [
        "hmean(dados)"
      ],
      "execution_count": null,
      "outputs": []
    },
    {
      "cell_type": "markdown",
      "metadata": {
        "id": "CGYgxqjs2xsm"
      },
      "source": [
        "### Média quadrática"
      ]
    },
    {
      "cell_type": "code",
      "metadata": {
        "id": "yUKEqqH53Odl"
      },
      "source": [
        "def quadratic_mean(dados):\n",
        "  return math.sqrt(sum(n * n for n in dados) / len(dados))"
      ],
      "execution_count": null,
      "outputs": []
    },
    {
      "cell_type": "code",
      "metadata": {
        "id": "HRwZPEAg3lRZ"
      },
      "source": [
        "quadratic_mean(dados)"
      ],
      "execution_count": null,
      "outputs": []
    },
    {
      "cell_type": "markdown",
      "metadata": {
        "id": "VyF_516h54sn"
      },
      "source": [
        "## Quartis"
      ]
    },
    {
      "cell_type": "code",
      "metadata": {
        "id": "4cYJ4s3856Wg"
      },
      "source": [
        "dados_impar = [150, 151, 152, 152, 153, 154, 155, 155, 155]"
      ],
      "execution_count": null,
      "outputs": []
    },
    {
      "cell_type": "markdown",
      "metadata": {
        "id": "9BZwV9mY5-u1"
      },
      "source": [
        "### Cálculo manual"
      ]
    },
    {
      "cell_type": "code",
      "metadata": {
        "id": "RyvlO0Y66cbq"
      },
      "source": [
        "np.median(dados_impar)"
      ],
      "execution_count": null,
      "outputs": []
    },
    {
      "cell_type": "code",
      "metadata": {
        "id": "9onAwzrU6qSL"
      },
      "source": [
        "posicao_mediana = math.floor(len(dados_impar) / 2)\n",
        "posicao_mediana"
      ],
      "execution_count": null,
      "outputs": []
    },
    {
      "cell_type": "code",
      "metadata": {
        "id": "5OXuJgwx62EM"
      },
      "source": [
        "esquerda = dados_impar[0:posicao_mediana]\n",
        "esquerda"
      ],
      "execution_count": null,
      "outputs": []
    },
    {
      "cell_type": "code",
      "metadata": {
        "id": "8uaADedN7END"
      },
      "source": [
        "np.median(esquerda)"
      ],
      "execution_count": null,
      "outputs": []
    },
    {
      "cell_type": "code",
      "metadata": {
        "id": "rku5WV_v7KJO"
      },
      "source": [
        "direita = dados_impar[posicao_mediana + 1:]\n",
        "direita"
      ],
      "execution_count": null,
      "outputs": []
    },
    {
      "cell_type": "code",
      "metadata": {
        "id": "FUgD6WvY7Vvk"
      },
      "source": [
        "np.median(direita)"
      ],
      "execution_count": null,
      "outputs": []
    },
    {
      "cell_type": "markdown",
      "metadata": {
        "id": "13w9k3dl6Bqc"
      },
      "source": [
        "### Bibliotecas"
      ]
    },
    {
      "cell_type": "markdown",
      "metadata": {
        "id": "-Kt4Xxvf6DHv"
      },
      "source": [
        "#### numpy"
      ]
    },
    {
      "cell_type": "code",
      "metadata": {
        "id": "e0O7axSm7eHc"
      },
      "source": [
        "np.quantile(dados_impar, 0.5)"
      ],
      "execution_count": null,
      "outputs": []
    },
    {
      "cell_type": "code",
      "metadata": {
        "id": "hAdVsrD_7khd"
      },
      "source": [
        "np.quantile(dados_impar, 0.75)"
      ],
      "execution_count": null,
      "outputs": []
    },
    {
      "cell_type": "code",
      "metadata": {
        "id": "PsJ_B8na7omh"
      },
      "source": [
        "np.quantile(dados_impar, 0.25)"
      ],
      "execution_count": null,
      "outputs": []
    },
    {
      "cell_type": "code",
      "metadata": {
        "id": "1zvFaUQn74EQ"
      },
      "source": [
        "esquerda2 = dados_impar[0:posicao_mediana + 1]\n",
        "esquerda2"
      ],
      "execution_count": null,
      "outputs": []
    },
    {
      "cell_type": "code",
      "metadata": {
        "id": "DWUO2FTb7-A6"
      },
      "source": [
        "np.median(esquerda2)"
      ],
      "execution_count": null,
      "outputs": []
    },
    {
      "cell_type": "code",
      "metadata": {
        "id": "slThBXsj8CA6"
      },
      "source": [
        "np.quantile(dados, 0.25), np.quantile(dados, 0.50), np.quantile(dados, 0.75)"
      ],
      "execution_count": null,
      "outputs": []
    },
    {
      "cell_type": "markdown",
      "metadata": {
        "id": "N9sKA2GP6FNy"
      },
      "source": [
        "#### scipy"
      ]
    },
    {
      "cell_type": "code",
      "metadata": {
        "id": "nhswmwGL8PQ6"
      },
      "source": [
        "stats.scoreatpercentile(dados, 25), stats.scoreatpercentile(dados, 50), stats.scoreatpercentile(dados, 75)"
      ],
      "execution_count": null,
      "outputs": []
    },
    {
      "cell_type": "markdown",
      "metadata": {
        "id": "k3MtyYZl6HBb"
      },
      "source": [
        "#### pandas"
      ]
    },
    {
      "cell_type": "code",
      "metadata": {
        "id": "Ti0Zldxh8b8-"
      },
      "source": [
        "import pandas as pd\n",
        "dataset = pd.DataFrame(dados)\n",
        "dataset.head()"
      ],
      "execution_count": null,
      "outputs": []
    },
    {
      "cell_type": "code",
      "metadata": {
        "id": "UIqDiuW98lOl"
      },
      "source": [
        "dataset.quantile([0.25, 0.5, 0.75])"
      ],
      "execution_count": null,
      "outputs": []
    },
    {
      "cell_type": "code",
      "metadata": {
        "id": "R906LS198tyn"
      },
      "source": [
        "dataset.describe()"
      ],
      "execution_count": null,
      "outputs": []
    },
    {
      "cell_type": "markdown",
      "metadata": {
        "id": "Y6ZlMtoN_GEm"
      },
      "source": [
        "## Quartis com distribuição de frequência (dados agrupados)"
      ]
    },
    {
      "cell_type": "code",
      "metadata": {
        "id": "EALDkKwt_JmJ"
      },
      "source": [
        "dataset"
      ],
      "execution_count": null,
      "outputs": []
    },
    {
      "cell_type": "code",
      "metadata": {
        "id": "fPOp-JQC_cJ9"
      },
      "source": [
        "def get_quartil(dataframe, q1 = True):\n",
        "  if q1 == True:\n",
        "    fi_4 = dataset['fi'].sum() / 4\n",
        "  else:\n",
        "    fi_4 = (3 * dataset['fi'].sum()) / 4\n",
        "  \n",
        "  limite_inferior, frequencia_classe, id_frequencia_anterior = 0, 0, 0\n",
        "  for linha in dataset.iterrows():\n",
        "    limite_inferior = linha[1][0]\n",
        "    frequencia_classe = linha[1][2]\n",
        "    id_frequencia_anterior = linha[0]\n",
        "    if linha[1][5] >= fi_4:\n",
        "      id_frequencia_anterior -= 1\n",
        "      break\n",
        "  Fi_anterior = dataset.iloc[[id_frequencia_anterior]]['Fi'].values[0]\n",
        "  q = limite_inferior + ((fi_4 - Fi_anterior) * 4) / frequencia_classe\n",
        "\n",
        "  return q"
      ],
      "execution_count": null,
      "outputs": []
    },
    {
      "cell_type": "code",
      "metadata": {
        "id": "urVpW2Qw_ePt"
      },
      "source": [
        "get_quartil(dados), get_quartil(dados, q1 = False)"
      ],
      "execution_count": null,
      "outputs": []
    },
    {
      "cell_type": "markdown",
      "metadata": {
        "id": "40X2rZ6KA0rW"
      },
      "source": [
        "## Percentis"
      ]
    },
    {
      "cell_type": "code",
      "metadata": {
        "id": "BNt-XeoiC4tX"
      },
      "source": [
        "np.median(dados)"
      ],
      "execution_count": null,
      "outputs": []
    },
    {
      "cell_type": "code",
      "metadata": {
        "id": "ekvq8XaMDJZX"
      },
      "source": [
        "np.quantile(dados, 0.5)"
      ],
      "execution_count": null,
      "outputs": []
    },
    {
      "cell_type": "code",
      "metadata": {
        "id": "RVZB3gJ8DOhJ"
      },
      "source": [
        "np.percentile(dados, 50)"
      ],
      "execution_count": null,
      "outputs": []
    },
    {
      "cell_type": "code",
      "metadata": {
        "id": "EGZlSML1DTt6"
      },
      "source": [
        "np.percentile(dados, 5), np.percentile(dados, 10), np.percentile(dados, 90)"
      ],
      "execution_count": null,
      "outputs": []
    },
    {
      "cell_type": "code",
      "metadata": {
        "id": "FMs5kbKnDqFQ"
      },
      "source": [
        "stats.scoreatpercentile(dados, 5), stats.scoreatpercentile(dados, 10), stats.scoreatpercentile(dados, 90)"
      ],
      "execution_count": null,
      "outputs": []
    },
    {
      "cell_type": "code",
      "metadata": {
        "id": "QEdIDmpaD4uI"
      },
      "source": [
        "import pandas as pd\n",
        "dataset = pd.DataFrame(dados)\n",
        "dataset.head()"
      ],
      "execution_count": null,
      "outputs": []
    },
    {
      "cell_type": "code",
      "metadata": {
        "id": "5_JpPm-3EAt9"
      },
      "source": [
        "dataset.quantile([0.05, 0.10, 0.90])"
      ],
      "execution_count": null,
      "outputs": []
    },
    {
      "cell_type": "markdown",
      "metadata": {
        "id": "dkvpLKH6EkIF"
      },
      "source": [
        "## Exercício"
      ]
    },
    {
      "cell_type": "code",
      "metadata": {
        "id": "7xux7mrbElW4"
      },
      "source": [
        "dataset = pd.read_csv('census.csv')"
      ],
      "execution_count": null,
      "outputs": []
    },
    {
      "cell_type": "code",
      "metadata": {
        "id": "bHmKVQLcEo3H"
      },
      "source": [
        "dataset.head()"
      ],
      "execution_count": null,
      "outputs": []
    },
    {
      "cell_type": "code",
      "metadata": {
        "id": "MfhaV5NWEsS-"
      },
      "source": [
        "dataset['age'].mean()"
      ],
      "execution_count": null,
      "outputs": []
    },
    {
      "cell_type": "code",
      "metadata": {
        "id": "O7muz31-EuFa"
      },
      "source": [
        "stats.hmean(dataset['age'])"
      ],
      "execution_count": null,
      "outputs": []
    },
    {
      "cell_type": "code",
      "metadata": {
        "id": "i_K1VMSAEvwo"
      },
      "source": [
        "from scipy.stats.mstats import gmean\n",
        "gmean(dataset['age'])"
      ],
      "execution_count": null,
      "outputs": []
    },
    {
      "cell_type": "code",
      "metadata": {
        "id": "0TQUWrCmExaQ"
      },
      "source": [
        "quadratic_mean(dataset['age'])"
      ],
      "execution_count": null,
      "outputs": []
    },
    {
      "cell_type": "code",
      "metadata": {
        "id": "abJhV98pEzK3"
      },
      "source": [
        "dataset['age'].median()"
      ],
      "execution_count": null,
      "outputs": []
    },
    {
      "cell_type": "code",
      "metadata": {
        "id": "49NfNl9UE0qG"
      },
      "source": [
        "statistics.mode(dataset['age'])"
      ],
      "execution_count": null,
      "outputs": []
    },
    {
      "cell_type": "markdown",
      "metadata": {
        "id": "-dopP1kEKPLp"
      },
      "source": [
        "## Medidas de dispersão"
      ]
    },
    {
      "cell_type": "markdown",
      "metadata": {
        "id": "bTJuo1fhKabw"
      },
      "source": [
        "### Amplitude total e diferença interquartil"
      ]
    },
    {
      "cell_type": "code",
      "metadata": {
        "id": "Ev6ZLHJaKfRO"
      },
      "source": [
        "dados"
      ],
      "execution_count": null,
      "outputs": []
    },
    {
      "cell_type": "code",
      "metadata": {
        "id": "Wy_4jziLK0LP"
      },
      "source": [
        "dados.max() - dados.min()"
      ],
      "execution_count": null,
      "outputs": []
    },
    {
      "cell_type": "code",
      "metadata": {
        "id": "exbPoyqzK6bQ"
      },
      "source": [
        "q1 = np.quantile(dados, 0.25)\n",
        "q3 = np.quantile(dados, 0.75)\n",
        "q1, q3"
      ],
      "execution_count": null,
      "outputs": []
    },
    {
      "cell_type": "code",
      "metadata": {
        "id": "NZBb9ENXLGs-"
      },
      "source": [
        "diferenca_interquartil = q3 - q1\n",
        "diferenca_interquartil"
      ],
      "execution_count": null,
      "outputs": []
    },
    {
      "cell_type": "code",
      "metadata": {
        "id": "9pu9q8uWLQ0X"
      },
      "source": [
        "inferior = q1 - (1.5 * diferenca_interquartil)\n",
        "inferior"
      ],
      "execution_count": null,
      "outputs": []
    },
    {
      "cell_type": "code",
      "metadata": {
        "id": "ZEiVhtd1Lalh"
      },
      "source": [
        "superior = q3 + (1.5 * diferenca_interquartil)\n",
        "superior"
      ],
      "execution_count": null,
      "outputs": []
    },
    {
      "cell_type": "markdown",
      "metadata": {
        "id": "C2TRnsP6PINq"
      },
      "source": [
        "### Variância, desvio padrão e coeficiente de variação"
      ]
    },
    {
      "cell_type": "code",
      "metadata": {
        "id": "XtvrTH_KPVrj"
      },
      "source": [
        "dados_impar = np.array([150, 151, 152, 152, 153, 154, 155, 155, 155])"
      ],
      "execution_count": null,
      "outputs": []
    },
    {
      "cell_type": "markdown",
      "metadata": {
        "id": "w_PKhpBFPMpe"
      },
      "source": [
        "#### Cálculo manual"
      ]
    },
    {
      "cell_type": "code",
      "metadata": {
        "id": "CghU9wNFPgZd"
      },
      "source": [
        "media = dados_impar.sum() / len(dados_impar)\n",
        "media"
      ],
      "execution_count": null,
      "outputs": []
    },
    {
      "cell_type": "code",
      "metadata": {
        "id": "rIEceGDNQERu"
      },
      "source": [
        "desvio = abs(dados_impar - media)\n",
        "desvio"
      ],
      "execution_count": null,
      "outputs": []
    },
    {
      "cell_type": "code",
      "metadata": {
        "id": "zZvtvDIUQWq6"
      },
      "source": [
        "desvio = desvio ** 2\n",
        "desvio"
      ],
      "execution_count": null,
      "outputs": []
    },
    {
      "cell_type": "code",
      "metadata": {
        "id": "YkfDmtQeQgD1"
      },
      "source": [
        "soma_desvio = desvio.sum()\n",
        "soma_desvio"
      ],
      "execution_count": null,
      "outputs": []
    },
    {
      "cell_type": "code",
      "metadata": {
        "id": "kzpWXvrMQk--"
      },
      "source": [
        "v = soma_desvio / len(dados_impar)\n",
        "v"
      ],
      "execution_count": null,
      "outputs": []
    },
    {
      "cell_type": "code",
      "metadata": {
        "id": "xTVUeK9wTKMs"
      },
      "source": [
        "dp = math.sqrt(v)\n",
        "dp"
      ],
      "execution_count": null,
      "outputs": []
    },
    {
      "cell_type": "code",
      "metadata": {
        "id": "qk1ByuaoVdFs"
      },
      "source": [
        "cv = (dp / media) * 100\n",
        "cv"
      ],
      "execution_count": null,
      "outputs": []
    },
    {
      "cell_type": "code",
      "metadata": {
        "id": "vdCkODt5QzoD"
      },
      "source": [
        "def get_variancia_desvio_padrao_coeficiente(dataset):\n",
        "  media = dataset.sum() / len(dataset)\n",
        "  desvio = abs(dados_impar - media)\n",
        "  desvio = desvio ** 2\n",
        "  soma_desvio = desvio.sum()\n",
        "  variancia = soma_desvio / len(dados_impar)\n",
        "  dp = math.sqrt(variancia)\n",
        "  return variancia, dp, (dp / media) * 100"
      ],
      "execution_count": null,
      "outputs": []
    },
    {
      "cell_type": "code",
      "metadata": {
        "id": "Mx8qt1epRDdc"
      },
      "source": [
        "get_variancia_desvio_padrao_coeficiente(dados_impar)"
      ],
      "execution_count": null,
      "outputs": []
    },
    {
      "cell_type": "markdown",
      "metadata": {
        "id": "VxDOYNX3POJN"
      },
      "source": [
        "#### Bibliotecas"
      ]
    },
    {
      "cell_type": "code",
      "metadata": {
        "id": "hAe47WyIQwvW"
      },
      "source": [
        "np.var(dados_impar)"
      ],
      "execution_count": null,
      "outputs": []
    },
    {
      "cell_type": "code",
      "metadata": {
        "id": "1yYefrfsTfes"
      },
      "source": [
        "np.std(dados_impar)"
      ],
      "execution_count": null,
      "outputs": []
    },
    {
      "cell_type": "code",
      "metadata": {
        "id": "4Ilo1yOlRWjG"
      },
      "source": [
        "np.var(dados)"
      ],
      "execution_count": null,
      "outputs": []
    },
    {
      "cell_type": "code",
      "metadata": {
        "id": "3RG-BmxCTjmc"
      },
      "source": [
        "np.std(dados)"
      ],
      "execution_count": null,
      "outputs": []
    },
    {
      "cell_type": "code",
      "metadata": {
        "id": "TuJ8ZCHaRiv3"
      },
      "source": [
        "statistics.variance(dados)"
      ],
      "execution_count": null,
      "outputs": []
    },
    {
      "cell_type": "code",
      "metadata": {
        "id": "4nJ9mXjET_Ap"
      },
      "source": [
        "statistics.stdev(dados)"
      ],
      "execution_count": null,
      "outputs": []
    },
    {
      "cell_type": "code",
      "metadata": {
        "id": "RevDXM8qRm-Q"
      },
      "source": [
        "from scipy import ndimage\n",
        "ndimage.variance(dados)"
      ],
      "execution_count": null,
      "outputs": []
    },
    {
      "cell_type": "code",
      "metadata": {
        "id": "q3roW8SmUEG-"
      },
      "source": [
        "stats.tstd(dados, ddof = 0)"
      ],
      "execution_count": null,
      "outputs": []
    },
    {
      "cell_type": "code",
      "metadata": {
        "id": "e9pyRHARV5oW"
      },
      "source": [
        "stats.variation(dados_impar) * 100"
      ],
      "execution_count": null,
      "outputs": []
    },
    {
      "cell_type": "code",
      "metadata": {
        "id": "a3ha8ug4WD0r"
      },
      "source": [
        "stats.variation(dados) * 100"
      ],
      "execution_count": null,
      "outputs": []
    },
    {
      "cell_type": "markdown",
      "metadata": {
        "id": "nbRc_liRwkMb"
      },
      "source": [
        "### Desvio padrão com dados agrupados"
      ]
    },
    {
      "cell_type": "code",
      "metadata": {
        "id": "bWMOMa3AwmqN"
      },
      "source": [
        "dataset"
      ],
      "execution_count": null,
      "outputs": []
    },
    {
      "cell_type": "code",
      "metadata": {
        "id": "sTuvXlo6w74i"
      },
      "source": [
        "dataset['xi_2'] = dataset['xi'] * dataset['xi']\n",
        "dataset"
      ],
      "execution_count": null,
      "outputs": []
    },
    {
      "cell_type": "code",
      "metadata": {
        "id": "hgzzFzyqxGNg"
      },
      "source": [
        "dataset['fi_xi_2'] = dataset['fi'] * dataset['xi_2']\n",
        "dataset"
      ],
      "execution_count": null,
      "outputs": []
    },
    {
      "cell_type": "code",
      "metadata": {
        "id": "MwHCwxw4xRiq"
      },
      "source": [
        "dataset.columns"
      ],
      "execution_count": null,
      "outputs": []
    },
    {
      "cell_type": "code",
      "metadata": {
        "id": "dOdfiIrGxVfR"
      },
      "source": [
        "colunas_ordenadas = ['inferior', 'superior', 'fi', 'xi', 'fi.xi', 'xi_2', 'fi_xi_2', 'Fi']"
      ],
      "execution_count": null,
      "outputs": []
    },
    {
      "cell_type": "code",
      "metadata": {
        "id": "nCojKch6xbOk"
      },
      "source": [
        "dataset = dataset[colunas_ordenadas]\n",
        "dataset"
      ],
      "execution_count": null,
      "outputs": []
    },
    {
      "cell_type": "code",
      "metadata": {
        "id": "6cLVZIJdxkZA"
      },
      "source": [
        "dp = math.sqrt(dataset['fi_xi_2'].sum() / dataset['fi'].sum() - math.pow(dataset['fi.xi'].sum() / dataset['fi'].sum(), 2))\n",
        "dp"
      ],
      "execution_count": null,
      "outputs": []
    },
    {
      "cell_type": "markdown",
      "metadata": {
        "id": "ePujRo6pyghq"
      },
      "source": [
        "## Testes com algoritmos de classificação"
      ]
    },
    {
      "cell_type": "code",
      "metadata": {
        "id": "VzqiqKfByjbm"
      },
      "source": [
        "import pandas as pd\n",
        "dataset = pd.read_csv('credit_data.csv')"
      ],
      "execution_count": null,
      "outputs": []
    },
    {
      "cell_type": "code",
      "metadata": {
        "id": "WiprqgUSy_Sh"
      },
      "source": [
        "dataset.dropna(inplace=True)\n",
        "dataset.shape"
      ],
      "execution_count": null,
      "outputs": []
    },
    {
      "cell_type": "code",
      "metadata": {
        "id": "1NnHdB05zQY8"
      },
      "source": [
        "dataset"
      ],
      "execution_count": null,
      "outputs": []
    },
    {
      "cell_type": "code",
      "metadata": {
        "id": "90hxJ95tzZMM"
      },
      "source": [
        "X = dataset.iloc[:, 1:4].values\n",
        "X"
      ],
      "execution_count": null,
      "outputs": []
    },
    {
      "cell_type": "code",
      "metadata": {
        "id": "J9Ph7PSVzkBy"
      },
      "source": [
        "y = dataset.iloc[:, 4].values\n",
        "y"
      ],
      "execution_count": null,
      "outputs": []
    },
    {
      "cell_type": "code",
      "metadata": {
        "id": "aghDBikCzuO5"
      },
      "source": [
        "from sklearn.model_selection import train_test_split\n",
        "from sklearn.naive_bayes import GaussianNB\n",
        "from sklearn.linear_model import LogisticRegression\n",
        "from sklearn.ensemble import RandomForestClassifier\n",
        "from sklearn.metrics import accuracy_score"
      ],
      "execution_count": null,
      "outputs": []
    },
    {
      "cell_type": "code",
      "metadata": {
        "id": "klvWRkUc0FlG"
      },
      "source": [
        "resultados_naive_bayes = []\n",
        "resultados_logistica = []\n",
        "resultados_forest = []\n",
        "for i in range(30):\n",
        "  X_treinamento, X_teste, y_treinamento, y_teste = train_test_split(X, y, test_size = 0.2,\n",
        "                                                                    stratify = y, random_state = i)\n",
        "  naive_bayes = GaussianNB()\n",
        "  naive_bayes.fit(X_treinamento, y_treinamento)\n",
        "  resultados_naive_bayes.append(accuracy_score(y_teste, naive_bayes.predict(X_teste)))\n",
        "\n",
        "  logistica = LogisticRegression()\n",
        "  logistica.fit(X_treinamento, y_treinamento)\n",
        "  resultados_logistica.append(accuracy_score(y_teste, logistica.predict(X_teste)))\n",
        "\n",
        "  random_forest = RandomForestClassifier()\n",
        "  random_forest.fit(X_treinamento, y_treinamento)\n",
        "  resultados_forest.append(accuracy_score(y_teste, random_forest.predict(X_teste)))"
      ],
      "execution_count": null,
      "outputs": []
    },
    {
      "cell_type": "code",
      "metadata": {
        "id": "9W1hLSxy1hbr"
      },
      "source": [
        "print(resultados_naive_bayes)"
      ],
      "execution_count": null,
      "outputs": []
    },
    {
      "cell_type": "code",
      "metadata": {
        "id": "T0cII_yB1r6M"
      },
      "source": [
        "print(resultados_logistica)"
      ],
      "execution_count": null,
      "outputs": []
    },
    {
      "cell_type": "code",
      "metadata": {
        "id": "EdLwOmBG1uZI"
      },
      "source": [
        "print(resultados_forest)"
      ],
      "execution_count": null,
      "outputs": []
    },
    {
      "cell_type": "code",
      "metadata": {
        "id": "C3Dzn2E92Wf_"
      },
      "source": [
        "type(resultados_naive_bayes)"
      ],
      "execution_count": null,
      "outputs": []
    },
    {
      "cell_type": "code",
      "metadata": {
        "id": "oBma_2WJ2fdE"
      },
      "source": [
        "resultados_naive_bayes = np.array(resultados_naive_bayes)\n",
        "resultados_logistica = np.array(resultados_logistica)\n",
        "resultados_forest = np.array(resultados_forest)"
      ],
      "execution_count": null,
      "outputs": []
    },
    {
      "cell_type": "code",
      "metadata": {
        "id": "uPGXYwiy2qE-"
      },
      "source": [
        "type(resultados_naive_bayes)"
      ],
      "execution_count": null,
      "outputs": []
    },
    {
      "cell_type": "markdown",
      "metadata": {
        "id": "fQuRYRDP2CHj"
      },
      "source": [
        "### Média"
      ]
    },
    {
      "cell_type": "code",
      "metadata": {
        "id": "ZsyDNpP32tWt"
      },
      "source": [
        "resultados_naive_bayes.mean(), resultados_logistica.mean(), resultados_forest.mean()"
      ],
      "execution_count": null,
      "outputs": []
    },
    {
      "cell_type": "markdown",
      "metadata": {
        "id": "kCg0wERn2DZb"
      },
      "source": [
        "### Moda"
      ]
    },
    {
      "cell_type": "code",
      "metadata": {
        "id": "yLg-d5jT3PP6"
      },
      "source": [
        "statistics.mode(resultados_naive_bayes)"
      ],
      "execution_count": null,
      "outputs": []
    },
    {
      "cell_type": "code",
      "metadata": {
        "id": "z0-YT7ka3bbL"
      },
      "source": [
        "stats.mode(resultados_naive_bayes), stats.mode(resultados_logistica), stats.mode(resultados_forest)"
      ],
      "execution_count": null,
      "outputs": []
    },
    {
      "cell_type": "markdown",
      "metadata": {
        "id": "iSqnFBWA2FEM"
      },
      "source": [
        "### Mediana"
      ]
    },
    {
      "cell_type": "code",
      "metadata": {
        "id": "XKoCUMPF361G"
      },
      "source": [
        "np.median(resultados_naive_bayes), np.median(resultados_logistica), np.median(resultados_forest)"
      ],
      "execution_count": null,
      "outputs": []
    },
    {
      "cell_type": "markdown",
      "metadata": {
        "id": "vkh8P6DG2GQJ"
      },
      "source": [
        "### Variância"
      ]
    },
    {
      "cell_type": "code",
      "metadata": {
        "id": "vmtrthlf4SFQ"
      },
      "source": [
        "np.set_printoptions(suppress=True)\n",
        "np.var(resultados_naive_bayes), np.var(resultados_logistica), np.var(resultados_forest)"
      ],
      "execution_count": null,
      "outputs": []
    },
    {
      "cell_type": "code",
      "metadata": {
        "id": "Pi3PxgWA4s1O"
      },
      "source": [
        "np.min([8.756250000000001e-05, 0.00020933333333333337, 2.9229166666666637e-05])"
      ],
      "execution_count": null,
      "outputs": []
    },
    {
      "cell_type": "code",
      "metadata": {
        "id": "KFJJgeZJ5CZt"
      },
      "source": [
        "np.max([8.756250000000001e-05, 0.00020933333333333337, 2.9229166666666637e-05])"
      ],
      "execution_count": null,
      "outputs": []
    },
    {
      "cell_type": "code",
      "metadata": {
        "id": "1IpABqi35YXZ"
      },
      "source": [
        "resultados_forest"
      ],
      "execution_count": null,
      "outputs": []
    },
    {
      "cell_type": "markdown",
      "metadata": {
        "id": "t5vg3rkk2IBR"
      },
      "source": [
        "### Desvio padrão"
      ]
    },
    {
      "cell_type": "code",
      "metadata": {
        "id": "KGJVmSOK6MLQ"
      },
      "source": [
        "np.std(resultados_naive_bayes), np.std(resultados_logistica), np.std(resultados_forest)"
      ],
      "execution_count": null,
      "outputs": []
    },
    {
      "cell_type": "markdown",
      "metadata": {
        "id": "DlyyyiSG2Jg2"
      },
      "source": [
        "### Coeficiente de variação"
      ]
    },
    {
      "cell_type": "code",
      "metadata": {
        "id": "whH5Yu906jk-"
      },
      "source": [
        "stats.variation(resultados_naive_bayes) * 100, stats.variation(resultados_logistica) * 100, stats.variation(resultados_forest) * 100"
      ],
      "execution_count": null,
      "outputs": []
    },
    {
      "cell_type": "markdown",
      "metadata": {
        "id": "eOncpyNh7Prs"
      },
      "source": [
        "### Exercício: validação cruzada"
      ]
    },
    {
      "cell_type": "code",
      "metadata": {
        "id": "H3hWn9-17Qb1"
      },
      "source": [
        "from sklearn.model_selection import cross_val_score, KFold"
      ],
      "execution_count": null,
      "outputs": []
    },
    {
      "cell_type": "code",
      "metadata": {
        "id": "YnS9UAj67T8U"
      },
      "source": [
        "resultados_naive_bayes_cv = []\n",
        "resultados_logistica_cv = []\n",
        "resultados_forest_cv = []\n",
        "for i in range(30):\n",
        "  kfold = KFold(n_splits = 10, shuffle = True, random_state = i)\n",
        "  \n",
        "  naive_bayes = GaussianNB()\n",
        "  scores = cross_val_score(naive_bayes, X, y, cv = kfold)\n",
        "  resultados_naive_bayes_cv.append(scores.mean())\n",
        "\n",
        "  logistica = LogisticRegression()\n",
        "  scores = cross_val_score(logistica, X, y, cv = kfold)\n",
        "  resultados_logistica_cv.append(scores.mean())\n",
        "  \n",
        "  random_forest = RandomForestClassifier()\n",
        "  scores = cross_val_score(random_forest, X, y, cv = kfold)\n",
        "  resultados_forest_cv.append(scores.mean())"
      ],
      "execution_count": null,
      "outputs": []
    },
    {
      "cell_type": "code",
      "metadata": {
        "id": "Bio40lGl7WCh"
      },
      "source": [
        "scores, 10 * 30"
      ],
      "execution_count": null,
      "outputs": []
    },
    {
      "cell_type": "code",
      "metadata": {
        "id": "NEo_S1BN7Xr-"
      },
      "source": [
        "scores.mean()"
      ],
      "execution_count": null,
      "outputs": []
    },
    {
      "cell_type": "code",
      "metadata": {
        "id": "_UfB93za7ZP1"
      },
      "source": [
        "print(resultados_naive_bayes_cv)"
      ],
      "execution_count": null,
      "outputs": []
    },
    {
      "cell_type": "code",
      "metadata": {
        "id": "SstT0gGu7aqQ"
      },
      "source": [
        "print(resultados_logistica_cv)"
      ],
      "execution_count": null,
      "outputs": []
    },
    {
      "cell_type": "code",
      "metadata": {
        "id": "D1ppw9Xk7cD-"
      },
      "source": [
        "print(resultados_forest_cv)"
      ],
      "execution_count": null,
      "outputs": []
    },
    {
      "cell_type": "code",
      "metadata": {
        "id": "eoSoUaTC7eK6"
      },
      "source": [
        "stats.variation(resultados_naive_bayes) * 100, stats.variation(resultados_logistica) * 100, stats.variation(resultados_forest) * 100"
      ],
      "execution_count": null,
      "outputs": []
    },
    {
      "cell_type": "code",
      "metadata": {
        "id": "RSPzHvj07gIY"
      },
      "source": [
        "stats.variation(resultados_naive_bayes_cv) * 100, stats.variation(resultados_logistica_cv) * 100, stats.variation(resultados_forest_cv) * 100"
      ],
      "execution_count": null,
      "outputs": []
    },
    {
      "cell_type": "markdown",
      "metadata": {
        "id": "1tKAIfl8Bzy2"
      },
      "source": [
        "### Seleção de atributos utilizando variância"
      ]
    },
    {
      "cell_type": "code",
      "metadata": {
        "id": "nN6Byt5IBy8N"
      },
      "source": [
        "np.random.rand(50)"
      ],
      "execution_count": null,
      "outputs": []
    },
    {
      "cell_type": "code",
      "metadata": {
        "id": "jexQeV90CPJV"
      },
      "source": [
        "np.random.randint(0, 2)"
      ],
      "execution_count": null,
      "outputs": []
    },
    {
      "cell_type": "code",
      "metadata": {
        "id": "NnB4w1NACVxD"
      },
      "source": [
        "base_selecao = {'a': np.random.rand(20),\n",
        "                'b': np.array([0.5] * 20),\n",
        "                'classe': np.random.randint(0, 2, size = 20)}"
      ],
      "execution_count": null,
      "outputs": []
    },
    {
      "cell_type": "code",
      "metadata": {
        "id": "9_Z72m3XCk3U"
      },
      "source": [
        "base_selecao"
      ],
      "execution_count": null,
      "outputs": []
    },
    {
      "cell_type": "code",
      "metadata": {
        "id": "Jzoiu9_SDAD_"
      },
      "source": [
        "dataset = pd.DataFrame(base_selecao)\n",
        "dataset.head()"
      ],
      "execution_count": null,
      "outputs": []
    },
    {
      "cell_type": "code",
      "metadata": {
        "id": "6359-vT6DJyT"
      },
      "source": [
        "dataset.describe()"
      ],
      "execution_count": null,
      "outputs": []
    },
    {
      "cell_type": "code",
      "metadata": {
        "id": "vCAxk5YJDkUZ"
      },
      "source": [
        "math.sqrt(0.08505323963215053)"
      ],
      "execution_count": null,
      "outputs": []
    },
    {
      "cell_type": "code",
      "metadata": {
        "id": "pFcLNoUPDdrC"
      },
      "source": [
        "np.var(dataset['a']), np.var(dataset['b'])"
      ],
      "execution_count": null,
      "outputs": []
    },
    {
      "cell_type": "code",
      "metadata": {
        "id": "lCP0UKB6DsP_"
      },
      "source": [
        "X = dataset.iloc[:, 0:2].values\n",
        "X"
      ],
      "execution_count": null,
      "outputs": []
    },
    {
      "cell_type": "code",
      "metadata": {
        "id": "3zR5zZJTD4Ua"
      },
      "source": [
        "from sklearn.feature_selection import VarianceThreshold"
      ],
      "execution_count": null,
      "outputs": []
    },
    {
      "cell_type": "code",
      "metadata": {
        "id": "oQSpnXg4D-80"
      },
      "source": [
        "selecao = VarianceThreshold(threshold=0.07)\n",
        "X_novo = selecao.fit_transform(X)"
      ],
      "execution_count": null,
      "outputs": []
    },
    {
      "cell_type": "code",
      "metadata": {
        "id": "7j2Gbt9dEe3N"
      },
      "source": [
        "X_novo, X_novo.shape"
      ],
      "execution_count": null,
      "outputs": []
    },
    {
      "cell_type": "code",
      "metadata": {
        "id": "12UD3-BZEogI"
      },
      "source": [
        "selecao.variances_"
      ],
      "execution_count": null,
      "outputs": []
    },
    {
      "cell_type": "code",
      "metadata": {
        "id": "6OitxuabEtKh"
      },
      "source": [
        "indices = np.where(selecao.variances_ > 0.07)\n",
        "indices"
      ],
      "execution_count": null,
      "outputs": []
    },
    {
      "cell_type": "markdown",
      "metadata": {
        "id": "ahBg3cQTGDiE"
      },
      "source": [
        "#### Exercício seleção de atributos utilizando variância"
      ]
    },
    {
      "cell_type": "code",
      "metadata": {
        "id": "JkX0LRiIGEOc"
      },
      "source": [
        "dataset = pd.read_csv('credit_data.csv')"
      ],
      "execution_count": null,
      "outputs": []
    },
    {
      "cell_type": "code",
      "metadata": {
        "id": "VoPqzVgkGHR1"
      },
      "source": [
        "dataset.dropna(inplace=True)"
      ],
      "execution_count": null,
      "outputs": []
    },
    {
      "cell_type": "code",
      "metadata": {
        "id": "eQPJ9mNDGJG7"
      },
      "source": [
        "dataset.head()"
      ],
      "execution_count": null,
      "outputs": []
    },
    {
      "cell_type": "code",
      "metadata": {
        "id": "ZKMV2lI6GLAG"
      },
      "source": [
        "dataset.describe()"
      ],
      "execution_count": null,
      "outputs": []
    },
    {
      "cell_type": "code",
      "metadata": {
        "id": "oh2hMqgtGM7O"
      },
      "source": [
        "X = dataset.iloc[:, 1:4].values\n",
        "X"
      ],
      "execution_count": null,
      "outputs": []
    },
    {
      "cell_type": "code",
      "metadata": {
        "id": "35mB72FrGOwX"
      },
      "source": [
        "y = dataset.iloc[:, 4].values\n",
        "y"
      ],
      "execution_count": null,
      "outputs": []
    },
    {
      "cell_type": "code",
      "metadata": {
        "id": "mGKHxX8HGRq4"
      },
      "source": [
        "from sklearn.preprocessing import MinMaxScaler\n",
        "scaler = MinMaxScaler()\n",
        "X = scaler.fit_transform(X)"
      ],
      "execution_count": null,
      "outputs": []
    },
    {
      "cell_type": "code",
      "metadata": {
        "id": "mOQPZZakGSpi"
      },
      "source": [
        "X"
      ],
      "execution_count": null,
      "outputs": []
    },
    {
      "cell_type": "code",
      "metadata": {
        "id": "kfVY3zmmGUuC"
      },
      "source": [
        "selecao = VarianceThreshold(threshold=0.027)\n",
        "X_novo = selecao.fit_transform(X)"
      ],
      "execution_count": null,
      "outputs": []
    },
    {
      "cell_type": "code",
      "metadata": {
        "id": "64AXRXbsGXc9"
      },
      "source": [
        "X_novo"
      ],
      "execution_count": null,
      "outputs": []
    },
    {
      "cell_type": "code",
      "metadata": {
        "id": "N7Av6hEcGZRk"
      },
      "source": [
        "np.var(X[0]), np.var(X[1]), np.var(X[2])"
      ],
      "execution_count": null,
      "outputs": []
    },
    {
      "cell_type": "code",
      "metadata": {
        "id": "5Eufsm-fGa3u"
      },
      "source": [
        "from sklearn.naive_bayes import GaussianNB\n",
        "from sklearn.metrics import accuracy_score\n",
        "naive_sem_selecao = GaussianNB()\n",
        "naive_sem_selecao.fit(X, y)\n",
        "previsoes = naive_sem_selecao.predict(X)\n",
        "accuracy_score(previsoes, y)"
      ],
      "execution_count": null,
      "outputs": []
    },
    {
      "cell_type": "code",
      "metadata": {
        "id": "RArMja4gGcZ3"
      },
      "source": [
        "naive_com_selecao = GaussianNB()\n",
        "naive_com_selecao.fit(X_novo, y)\n",
        "previsoes = naive_com_selecao.predict(X_novo)\n",
        "accuracy_score(previsoes, y)"
      ],
      "execution_count": null,
      "outputs": []
    },
    {
      "cell_type": "markdown",
      "metadata": {
        "id": "FucWtM1UINBt"
      },
      "source": [
        "## Valores faltantes com média e moda"
      ]
    },
    {
      "cell_type": "markdown",
      "metadata": {
        "id": "q1UvdIgOMkzs"
      },
      "source": [
        "### Média"
      ]
    },
    {
      "cell_type": "code",
      "metadata": {
        "id": "Fghxs5ElRQy-"
      },
      "source": [
        "import pandas as pd\n",
        "dataset = pd.read_csv('credit_data.csv')"
      ],
      "execution_count": null,
      "outputs": []
    },
    {
      "cell_type": "code",
      "metadata": {
        "id": "ewwh0g-wSYXZ"
      },
      "source": [
        "dataset.isnull().sum()"
      ],
      "execution_count": null,
      "outputs": []
    },
    {
      "cell_type": "code",
      "metadata": {
        "id": "WXYTEDYcShUn"
      },
      "source": [
        "nulos = dataset[dataset.isnull().any(axis=1)]\n",
        "nulos"
      ],
      "execution_count": null,
      "outputs": []
    },
    {
      "cell_type": "code",
      "metadata": {
        "id": "03QOQyIbSyHG"
      },
      "source": [
        "dataset['age'].mean(), dataset['age'].median()"
      ],
      "execution_count": null,
      "outputs": []
    },
    {
      "cell_type": "code",
      "metadata": {
        "id": "uhT8A3s7TLkO"
      },
      "source": [
        "dataset['age'] = dataset['age'].replace(to_replace = np.nan, value = dataset['age'].mean())"
      ],
      "execution_count": null,
      "outputs": []
    },
    {
      "cell_type": "code",
      "metadata": {
        "id": "QWOy3G2hTZyN"
      },
      "source": [
        "dataset[dataset.isnull().any(axis=1)]"
      ],
      "execution_count": null,
      "outputs": []
    },
    {
      "cell_type": "markdown",
      "metadata": {
        "id": "iiI50BpDMnEg"
      },
      "source": [
        "### Moda"
      ]
    },
    {
      "cell_type": "code",
      "metadata": {
        "id": "zJh4xMKdRRSZ"
      },
      "source": [
        "dataset = pd.read_csv('autos.csv', encoding='ISO-8859-1')"
      ],
      "execution_count": null,
      "outputs": []
    },
    {
      "cell_type": "code",
      "metadata": {
        "id": "bWntwbTfTsUx"
      },
      "source": [
        "dataset.head()"
      ],
      "execution_count": null,
      "outputs": []
    },
    {
      "cell_type": "code",
      "metadata": {
        "id": "vsa8_228T6Lk"
      },
      "source": [
        "dataset.isnull().sum()"
      ],
      "execution_count": null,
      "outputs": []
    },
    {
      "cell_type": "code",
      "metadata": {
        "id": "O1zfnEqyUH9y"
      },
      "source": [
        "dataset['fuelType'].unique()"
      ],
      "execution_count": null,
      "outputs": []
    },
    {
      "cell_type": "code",
      "metadata": {
        "id": "94oWsxg_UVzd"
      },
      "source": [
        "stats.mode(dataset['fuelType'])"
      ],
      "execution_count": null,
      "outputs": []
    },
    {
      "cell_type": "code",
      "metadata": {
        "id": "-zb48XClUb4d"
      },
      "source": [
        "statistics.mode(dataset['fuelType'])"
      ],
      "execution_count": null,
      "outputs": []
    },
    {
      "cell_type": "code",
      "metadata": {
        "id": "iPdkclRQUi6g"
      },
      "source": [
        "dataset['fuelType'] = dataset['fuelType'].replace(to_replace = np.nan, value = statistics.mode(dataset['fuelType']))"
      ],
      "execution_count": null,
      "outputs": []
    },
    {
      "cell_type": "code",
      "metadata": {
        "id": "WQqn4od_Uv16"
      },
      "source": [
        "dataset['fuelType'].unique()"
      ],
      "execution_count": null,
      "outputs": []
    }
  ]
}