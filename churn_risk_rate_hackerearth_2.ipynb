{
  "nbformat": 4,
  "nbformat_minor": 0,
  "metadata": {
    "colab": {
      "name": "churn-risk-rate-hackerearth_2.ipynb",
      "provenance": [],
      "authorship_tag": "ABX9TyPXZLjxhrkpHQM8OfrTmayZ",
      "include_colab_link": true
    },
    "kernelspec": {
      "name": "python3",
      "display_name": "Python 3"
    },
    "language_info": {
      "name": "python"
    }
  },
  "cells": [
    {
      "cell_type": "markdown",
      "metadata": {
        "id": "view-in-github",
        "colab_type": "text"
      },
      "source": [
        "<a href=\"https://colab.research.google.com/github/mantoan-thi/Analise_Exploratoria/blob/main/churn_risk_rate_hackerearth_2.ipynb\" target=\"_parent\"><img src=\"https://colab.research.google.com/assets/colab-badge.svg\" alt=\"Open In Colab\"/></a>"
      ]
    },
    {
      "cell_type": "code",
      "metadata": {
        "id": "xoZ8eu5Vx7-k"
      },
      "source": [
        "# Essa base de dados foi obtidas no kaggle\n",
        "# Link: https://www.kaggle.com/imsparsh/churn-risk-rate-hackerearth-ml"
      ],
      "execution_count": 12,
      "outputs": []
    },
    {
      "cell_type": "code",
      "metadata": {
        "id": "s8zi-w_cyZsj"
      },
      "source": [
        "''' Decrisção no kaggle\n",
        "Contexto\n",
        "A taxa de rotatividade é uma métrica de marketing que descreve o número de clientes que deixam uma empresa durante um período de tempo específico. . Cada usuário recebe um valor de previsão que estima seu estado de rotatividade a qualquer momento. Este valor é baseado em:\n",
        "\n",
        "Informações demográficas do usuário\n",
        "Comportamento de navegação\n",
        "Dados históricos de compras, entre outras informações\n",
        "Ele leva em consideração nossas previsões exclusivas e proprietárias de quanto tempo um usuário permanecerá como cliente. Essa pontuação é atualizada todos os dias para todos os usuários que têm no mínimo uma conversão. Os valores atribuídos estão entre 1 e 5.\n",
        "\n",
        "Tarefa\n",
        "Sua tarefa é prever a pontuação de rotatividade de um site com base nos recursos fornecidos no conjunto de dados.\n",
        "'''"
      ],
      "execution_count": null,
      "outputs": []
    },
    {
      "cell_type": "code",
      "metadata": {
        "id": "NNv6cIxCtudF"
      },
      "source": [
        "import pandas as pd\n",
        "import seaborn as sns\n",
        "import matplotlib.pyplot as plt\n",
        "%matplotlib inline"
      ],
      "execution_count": 93,
      "outputs": []
    },
    {
      "cell_type": "code",
      "metadata": {
        "id": "G1k4ZiQvuGOt"
      },
      "source": [
        "df = pd.read_csv('/content/train.csv')"
      ],
      "execution_count": 74,
      "outputs": []
    },
    {
      "cell_type": "code",
      "metadata": {
        "colab": {
          "base_uri": "https://localhost:8080/"
        },
        "id": "9PxPlHZGuoe5",
        "outputId": "f4b39779-6458-44e6-ae45-9b7a9185ed53"
      },
      "source": [
        "df.columns"
      ],
      "execution_count": 75,
      "outputs": [
        {
          "output_type": "execute_result",
          "data": {
            "text/plain": [
              "Index(['customer_id', 'Name', 'age', 'gender', 'security_no',\n",
              "       'region_category', 'membership_category', 'joining_date',\n",
              "       'joined_through_referral', 'referral_id', 'preferred_offer_types',\n",
              "       'medium_of_operation', 'internet_option', 'last_visit_time',\n",
              "       'days_since_last_login', 'avg_time_spent', 'avg_transaction_value',\n",
              "       'avg_frequency_login_days', 'points_in_wallet', 'used_special_discount',\n",
              "       'offer_application_preference', 'past_complaint', 'complaint_status',\n",
              "       'feedback', 'churn_risk_score'],\n",
              "      dtype='object')"
            ]
          },
          "metadata": {
            "tags": []
          },
          "execution_count": 75
        }
      ]
    },
    {
      "cell_type": "code",
      "metadata": {
        "id": "DUZLjbEnvLo2"
      },
      "source": [
        "# Traduzindo as colunas...\n",
        "df.rename(columns={'customer_id':'Identificação do Cliente', \n",
        "                   'Name':'Nome', 'age':'Idade', 'gender':'Gênero sexual',\n",
        "                   'security_no':'Sem seguro','region_category':'categoria de região', \n",
        "                   'membership_category':'categoria de associação', \n",
        "                   'joining_date':'Data de ingresso','joined_through_referral':'juntou-se por referência', \n",
        "                   'referral_id':'id de referência', 'preferred_offer_types':'tipos de oferta preferidos',\n",
        "                   'medium_of_operation':'meio de operação', 'internet_option':'opção de internet', \n",
        "                   'last_visit_time':'hora da última visita','days_since_last_login':'dias desde o último login',\n",
        "                   'avg_time_spent':'tempo médio gasto','avg_transaction_value':'valor médio de transação',\n",
        "                   'avg_frequency_login_days':'média de freqüência de dias de login', \n",
        "                   'points_in_wallet':'pontos na carteira', 'used_special_discount':'desconto especial usado',\n",
        "                   'offer_application_preference':'oferecer preferência de aplicativo', 'past_complaint':'reclamação anterior', \n",
        "                   'complaint_status':'status de reclamação','feedback':'comentários', \n",
        "                   'churn_risk_score':'pontuação de risco de rotatividade'},inplace=True)"
      ],
      "execution_count": 76,
      "outputs": []
    },
    {
      "cell_type": "code",
      "metadata": {
        "colab": {
          "base_uri": "https://localhost:8080/",
          "height": 312
        },
        "id": "LVvq84i2uTLC",
        "outputId": "c733e1e8-3ffd-4e29-fcec-67778ccc55b8"
      },
      "source": [
        "df.describe()"
      ],
      "execution_count": 77,
      "outputs": [
        {
          "output_type": "execute_result",
          "data": {
            "text/html": [
              "<div>\n",
              "<style scoped>\n",
              "    .dataframe tbody tr th:only-of-type {\n",
              "        vertical-align: middle;\n",
              "    }\n",
              "\n",
              "    .dataframe tbody tr th {\n",
              "        vertical-align: top;\n",
              "    }\n",
              "\n",
              "    .dataframe thead th {\n",
              "        text-align: right;\n",
              "    }\n",
              "</style>\n",
              "<table border=\"1\" class=\"dataframe\">\n",
              "  <thead>\n",
              "    <tr style=\"text-align: right;\">\n",
              "      <th></th>\n",
              "      <th>Idade</th>\n",
              "      <th>dias desde o último login</th>\n",
              "      <th>tempo médio gasto</th>\n",
              "      <th>valor médio de transação</th>\n",
              "      <th>pontos na carteira</th>\n",
              "      <th>pontuação de risco de rotatividade</th>\n",
              "    </tr>\n",
              "  </thead>\n",
              "  <tbody>\n",
              "    <tr>\n",
              "      <th>count</th>\n",
              "      <td>36992.000000</td>\n",
              "      <td>36992.000000</td>\n",
              "      <td>36992.000000</td>\n",
              "      <td>36992.000000</td>\n",
              "      <td>33549.000000</td>\n",
              "      <td>36992.000000</td>\n",
              "    </tr>\n",
              "    <tr>\n",
              "      <th>mean</th>\n",
              "      <td>37.118161</td>\n",
              "      <td>-41.915576</td>\n",
              "      <td>243.472334</td>\n",
              "      <td>29271.194003</td>\n",
              "      <td>686.882199</td>\n",
              "      <td>3.463397</td>\n",
              "    </tr>\n",
              "    <tr>\n",
              "      <th>std</th>\n",
              "      <td>15.867412</td>\n",
              "      <td>228.819900</td>\n",
              "      <td>398.289149</td>\n",
              "      <td>19444.806226</td>\n",
              "      <td>194.063624</td>\n",
              "      <td>1.409661</td>\n",
              "    </tr>\n",
              "    <tr>\n",
              "      <th>min</th>\n",
              "      <td>10.000000</td>\n",
              "      <td>-999.000000</td>\n",
              "      <td>-2814.109110</td>\n",
              "      <td>800.460000</td>\n",
              "      <td>-760.661236</td>\n",
              "      <td>-1.000000</td>\n",
              "    </tr>\n",
              "    <tr>\n",
              "      <th>25%</th>\n",
              "      <td>23.000000</td>\n",
              "      <td>8.000000</td>\n",
              "      <td>60.102500</td>\n",
              "      <td>14177.540000</td>\n",
              "      <td>616.150000</td>\n",
              "      <td>3.000000</td>\n",
              "    </tr>\n",
              "    <tr>\n",
              "      <th>50%</th>\n",
              "      <td>37.000000</td>\n",
              "      <td>12.000000</td>\n",
              "      <td>161.765000</td>\n",
              "      <td>27554.485000</td>\n",
              "      <td>697.620000</td>\n",
              "      <td>4.000000</td>\n",
              "    </tr>\n",
              "    <tr>\n",
              "      <th>75%</th>\n",
              "      <td>51.000000</td>\n",
              "      <td>16.000000</td>\n",
              "      <td>356.515000</td>\n",
              "      <td>40855.110000</td>\n",
              "      <td>763.950000</td>\n",
              "      <td>5.000000</td>\n",
              "    </tr>\n",
              "    <tr>\n",
              "      <th>max</th>\n",
              "      <td>64.000000</td>\n",
              "      <td>26.000000</td>\n",
              "      <td>3235.578521</td>\n",
              "      <td>99914.050000</td>\n",
              "      <td>2069.069761</td>\n",
              "      <td>5.000000</td>\n",
              "    </tr>\n",
              "  </tbody>\n",
              "</table>\n",
              "</div>"
            ],
            "text/plain": [
              "              Idade  ...  pontuação de risco de rotatividade\n",
              "count  36992.000000  ...                        36992.000000\n",
              "mean      37.118161  ...                            3.463397\n",
              "std       15.867412  ...                            1.409661\n",
              "min       10.000000  ...                           -1.000000\n",
              "25%       23.000000  ...                            3.000000\n",
              "50%       37.000000  ...                            4.000000\n",
              "75%       51.000000  ...                            5.000000\n",
              "max       64.000000  ...                            5.000000\n",
              "\n",
              "[8 rows x 6 columns]"
            ]
          },
          "metadata": {
            "tags": []
          },
          "execution_count": 77
        }
      ]
    },
    {
      "cell_type": "code",
      "metadata": {
        "id": "7bhy_I1C0W9Z",
        "outputId": "1d1ba4ac-0c7d-46cf-84c2-c5fdcd53e406",
        "colab": {
          "base_uri": "https://localhost:8080/",
          "height": 234
        }
      },
      "source": [
        "df.describe().transpose()"
      ],
      "execution_count": 78,
      "outputs": [
        {
          "output_type": "execute_result",
          "data": {
            "text/html": [
              "<div>\n",
              "<style scoped>\n",
              "    .dataframe tbody tr th:only-of-type {\n",
              "        vertical-align: middle;\n",
              "    }\n",
              "\n",
              "    .dataframe tbody tr th {\n",
              "        vertical-align: top;\n",
              "    }\n",
              "\n",
              "    .dataframe thead th {\n",
              "        text-align: right;\n",
              "    }\n",
              "</style>\n",
              "<table border=\"1\" class=\"dataframe\">\n",
              "  <thead>\n",
              "    <tr style=\"text-align: right;\">\n",
              "      <th></th>\n",
              "      <th>count</th>\n",
              "      <th>mean</th>\n",
              "      <th>std</th>\n",
              "      <th>min</th>\n",
              "      <th>25%</th>\n",
              "      <th>50%</th>\n",
              "      <th>75%</th>\n",
              "      <th>max</th>\n",
              "    </tr>\n",
              "  </thead>\n",
              "  <tbody>\n",
              "    <tr>\n",
              "      <th>Idade</th>\n",
              "      <td>36992.0</td>\n",
              "      <td>37.118161</td>\n",
              "      <td>15.867412</td>\n",
              "      <td>10.000000</td>\n",
              "      <td>23.0000</td>\n",
              "      <td>37.000</td>\n",
              "      <td>51.000</td>\n",
              "      <td>64.000000</td>\n",
              "    </tr>\n",
              "    <tr>\n",
              "      <th>dias desde o último login</th>\n",
              "      <td>36992.0</td>\n",
              "      <td>-41.915576</td>\n",
              "      <td>228.819900</td>\n",
              "      <td>-999.000000</td>\n",
              "      <td>8.0000</td>\n",
              "      <td>12.000</td>\n",
              "      <td>16.000</td>\n",
              "      <td>26.000000</td>\n",
              "    </tr>\n",
              "    <tr>\n",
              "      <th>tempo médio gasto</th>\n",
              "      <td>36992.0</td>\n",
              "      <td>243.472334</td>\n",
              "      <td>398.289149</td>\n",
              "      <td>-2814.109110</td>\n",
              "      <td>60.1025</td>\n",
              "      <td>161.765</td>\n",
              "      <td>356.515</td>\n",
              "      <td>3235.578521</td>\n",
              "    </tr>\n",
              "    <tr>\n",
              "      <th>valor médio de transação</th>\n",
              "      <td>36992.0</td>\n",
              "      <td>29271.194003</td>\n",
              "      <td>19444.806226</td>\n",
              "      <td>800.460000</td>\n",
              "      <td>14177.5400</td>\n",
              "      <td>27554.485</td>\n",
              "      <td>40855.110</td>\n",
              "      <td>99914.050000</td>\n",
              "    </tr>\n",
              "    <tr>\n",
              "      <th>pontos na carteira</th>\n",
              "      <td>33549.0</td>\n",
              "      <td>686.882199</td>\n",
              "      <td>194.063624</td>\n",
              "      <td>-760.661236</td>\n",
              "      <td>616.1500</td>\n",
              "      <td>697.620</td>\n",
              "      <td>763.950</td>\n",
              "      <td>2069.069761</td>\n",
              "    </tr>\n",
              "    <tr>\n",
              "      <th>pontuação de risco de rotatividade</th>\n",
              "      <td>36992.0</td>\n",
              "      <td>3.463397</td>\n",
              "      <td>1.409661</td>\n",
              "      <td>-1.000000</td>\n",
              "      <td>3.0000</td>\n",
              "      <td>4.000</td>\n",
              "      <td>5.000</td>\n",
              "      <td>5.000000</td>\n",
              "    </tr>\n",
              "  </tbody>\n",
              "</table>\n",
              "</div>"
            ],
            "text/plain": [
              "                                      count  ...           max\n",
              "Idade                               36992.0  ...     64.000000\n",
              "dias desde o último login           36992.0  ...     26.000000\n",
              "tempo médio gasto                   36992.0  ...   3235.578521\n",
              "valor médio de transação            36992.0  ...  99914.050000\n",
              "pontos na carteira                  33549.0  ...   2069.069761\n",
              "pontuação de risco de rotatividade  36992.0  ...      5.000000\n",
              "\n",
              "[6 rows x 8 columns]"
            ]
          },
          "metadata": {
            "tags": []
          },
          "execution_count": 78
        }
      ]
    },
    {
      "cell_type": "code",
      "metadata": {
        "id": "CzQmnTu_9-Ah"
      },
      "source": [
        "# Como temos 4456 dados e temos somentes 159 com pontuação de risco de rotatividade -1."
      ],
      "execution_count": 79,
      "outputs": []
    },
    {
      "cell_type": "code",
      "metadata": {
        "id": "vObkVhb49u8e"
      },
      "source": [
        "df = df[df['pontuação de risco de rotatividade']>1]"
      ],
      "execution_count": 80,
      "outputs": []
    },
    {
      "cell_type": "code",
      "metadata": {
        "id": "q4d2kRSz1W6F",
        "outputId": "67ed9759-add1-48de-9f16-781ef1b6e885",
        "colab": {
          "base_uri": "https://localhost:8080/"
        }
      },
      "source": [
        "df.isnull().mean()*100"
      ],
      "execution_count": 81,
      "outputs": [
        {
          "output_type": "execute_result",
          "data": {
            "text/plain": [
              "Identificação do Cliente                 0.000000\n",
              "Nome                                     0.000000\n",
              "Idade                                    0.000000\n",
              "Gênero sexual                            0.000000\n",
              "Sem seguro                               0.000000\n",
              "categoria de região                     14.733098\n",
              "categoria de associação                  0.000000\n",
              "Data de ingresso                         0.000000\n",
              "juntou-se por referência                 0.000000\n",
              "id de referência                         0.000000\n",
              "tipos de oferta preferidos               0.795732\n",
              "meio de operação                         0.000000\n",
              "opção de internet                        0.000000\n",
              "hora da última visita                    0.000000\n",
              "dias desde o último login                0.000000\n",
              "tempo médio gasto                        0.000000\n",
              "valor médio de transação                 0.000000\n",
              "média de freqüência de dias de login     0.000000\n",
              "pontos na carteira                       9.289568\n",
              "desconto especial usado                  0.000000\n",
              "oferecer preferência de aplicativo       0.000000\n",
              "reclamação anterior                      0.000000\n",
              "status de reclamação                     0.000000\n",
              "comentários                              0.000000\n",
              "pontuação de risco de rotatividade       0.000000\n",
              "dtype: float64"
            ]
          },
          "metadata": {
            "tags": []
          },
          "execution_count": 81
        }
      ]
    },
    {
      "cell_type": "code",
      "metadata": {
        "id": "BR4if-W7-rdF",
        "outputId": "f6798589-c36d-496d-c71c-caeacfaa5514",
        "colab": {
          "base_uri": "https://localhost:8080/",
          "height": 421
        }
      },
      "source": [
        "plt.figure(figsize=(12,6))\n",
        "plt.subplot(1,2,1)\n",
        "fig = sns.boxplot(x='Idade',data=df,orient='V',color ='#ffffb2')\n",
        "fig.set_title('Idade')\n",
        "fig.set_ylabel('Valores da idade')\n",
        "\n",
        "plt.subplot(1,2,2)\n",
        "fig = sns.boxplot(x='pontuação de risco de rotatividade',data=df,orient='V',color ='#54278f')\n",
        "fig.set_title('Rotatividade')\n",
        "fig.set_ylabel('Valores da Rotatividade')"
      ],
      "execution_count": 94,
      "outputs": [
        {
          "output_type": "execute_result",
          "data": {
            "text/plain": [
              "Text(0, 0.5, 'Valores da Rotatividade')"
            ]
          },
          "metadata": {
            "tags": []
          },
          "execution_count": 94
        },
        {
          "output_type": "display_data",
          "data": {
            "image/png": "[encoded data removed]",
            "text/plain": [
              "<Figure size 864x432 with 2 Axes>"
            ]
          },
          "metadata": {
            "tags": [],
            "needs_background": "light"
          }
        }
      ]
    }
  ]
}