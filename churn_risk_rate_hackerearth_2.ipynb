{
  "nbformat": 4,
  "nbformat_minor": 0,
  "metadata": {
    "colab": {
      "name": "churn-risk-rate-hackerearth_2.ipynb",
      "provenance": [],
      "authorship_tag": "ABX9TyM2LjPkYAGcRRtUkCGKir/0",
      "include_colab_link": true
    },
    "kernelspec": {
      "name": "python3",
      "display_name": "Python 3"
    },
    "language_info": {
      "name": "python"
    }
  },
  "cells": [
    {
      "cell_type": "markdown",
      "metadata": {
        "id": "view-in-github",
        "colab_type": "text"
      },
      "source": [
        "<a href=\"https://colab.research.google.com/github/mantoan-thi/Analise_Exploratoria/blob/main/churn_risk_rate_hackerearth_2.ipynb\" target=\"_parent\"><img src=\"https://colab.research.google.com/assets/colab-badge.svg\" alt=\"Open In Colab\"/></a>"
      ]
    },
    {
      "cell_type": "code",
      "metadata": {
        "id": "xoZ8eu5Vx7-k"
      },
      "source": [
        "# Essa base de dados foi obtidas no kaggle\n",
        "# Link: https://www.kaggle.com/imsparsh/churn-risk-rate-hackerearth-ml"
      ],
      "execution_count": 2,
      "outputs": []
    },
    {
      "cell_type": "code",
      "metadata": {
        "colab": {
          "base_uri": "https://localhost:8080/",
          "height": 102
        },
        "id": "s8zi-w_cyZsj",
        "outputId": "610a4b95-3253-435d-a242-e7dd812576ed"
      },
      "source": [
        "''' Decrisção no kaggle\n",
        "Contexto\n",
        "A taxa de rotatividade é uma métrica de marketing que descreve o número de clientes que deixam uma empresa durante um período de tempo específico. . Cada usuário recebe um valor de previsão que estima seu estado de rotatividade a qualquer momento. Este valor é baseado em:\n",
        "\n",
        "Informações demográficas do usuário\n",
        "Comportamento de navegação\n",
        "Dados históricos de compras, entre outras informações\n",
        "Ele leva em consideração nossas previsões exclusivas e proprietárias de quanto tempo um usuário permanecerá como cliente. Essa pontuação é atualizada todos os dias para todos os usuários que têm no mínimo uma conversão. Os valores atribuídos estão entre 1 e 5.\n",
        "\n",
        "Tarefa\n",
        "Sua tarefa é prever a pontuação de rotatividade de um site com base nos recursos fornecidos no conjunto de dados.\n",
        "'''"
      ],
      "execution_count": 3,
      "outputs": [
        {
          "output_type": "execute_result",
          "data": {
            "application/vnd.google.colaboratory.intrinsic+json": {
              "type": "string"
            },
            "text/plain": [
              "' Decrisção no kaggle\\nContexto\\nA taxa de rotatividade é uma métrica de marketing que descreve o número de clientes que deixam uma empresa durante um período de tempo específico. . Cada usuário recebe um valor de previsão que estima seu estado de rotatividade a qualquer momento. Este valor é baseado em:\\n\\nInformações demográficas do usuário\\nComportamento de navegação\\nDados históricos de compras, entre outras informações\\nEle leva em consideração nossas previsões exclusivas e proprietárias de quanto tempo um usuário permanecerá como cliente. Essa pontuação é atualizada todos os dias para todos os usuários que têm no mínimo uma conversão. Os valores atribuídos estão entre 1 e 5.\\n\\nTarefa\\nSua tarefa é prever a pontuação de rotatividade de um site com base nos recursos fornecidos no conjunto de dados.\\n'"
            ]
          },
          "metadata": {
            "tags": []
          },
          "execution_count": 3
        }
      ]
    },
    {
      "cell_type": "code",
      "metadata": {
        "id": "NNv6cIxCtudF"
      },
      "source": [
        "import pandas as pd\n",
        "import seaborn as sns\n",
        "import matplotlib.pyplot as plt\n",
        "%matplotlib inline"
      ],
      "execution_count": 4,
      "outputs": []
    },
    {
      "cell_type": "code",
      "metadata": {
        "id": "G1k4ZiQvuGOt"
      },
      "source": [
        "df = pd.read_csv('/content/train.csv')"
      ],
      "execution_count": 178,
      "outputs": []
    },
    {
      "cell_type": "code",
      "metadata": {
        "id": "DUZLjbEnvLo2"
      },
      "source": [
        "# Traduzindo as colunas...\n",
        "df.rename(columns={'customer_id':'Identificação do Cliente', \n",
        "                   'Name':'Nome', 'age':'Idade', 'gender':'Gênero sexual',\n",
        "                   'security_no':'Sem seguro','region_category':'categoria de região', \n",
        "                   'membership_category':'categoria de associação', \n",
        "                   'joining_date':'Data de ingresso','joined_through_referral':'juntou-se por referência', \n",
        "                   'referral_id':'id de referência', 'preferred_offer_types':'tipos de oferta preferidos',\n",
        "                   'medium_of_operation':'meio de operação', 'internet_option':'opção de internet', \n",
        "                   'last_visit_time':'hora da última visita','days_since_last_login':'dias desde o último login',\n",
        "                   'avg_time_spent':'tempo médio gasto','avg_transaction_value':'valor médio de transação',\n",
        "                   'avg_frequency_login_days':'média de freqüência de dias de login', \n",
        "                   'points_in_wallet':'pontos na carteira', 'used_special_discount':'desconto especial usado',\n",
        "                   'offer_application_preference':'oferecer preferência de aplicativo', 'past_complaint':'reclamação anterior', \n",
        "                   'complaint_status':'status de reclamação','feedback':'comentários', \n",
        "                   'churn_risk_score':'pontuação de risco de rotatividade'},inplace=True)"
      ],
      "execution_count": 179,
      "outputs": []
    },
    {
      "cell_type": "code",
      "metadata": {
        "colab": {
          "base_uri": "https://localhost:8080/",
          "height": 234
        },
        "id": "7bhy_I1C0W9Z",
        "outputId": "896a11ec-eb9f-453a-aca4-a9c67c0d7084"
      },
      "source": [
        "df.describe().transpose()"
      ],
      "execution_count": 180,
      "outputs": [
        {
          "output_type": "execute_result",
          "data": {
            "text/html": [
              "<div>\n",
              "<style scoped>\n",
              "    .dataframe tbody tr th:only-of-type {\n",
              "        vertical-align: middle;\n",
              "    }\n",
              "\n",
              "    .dataframe tbody tr th {\n",
              "        vertical-align: top;\n",
              "    }\n",
              "\n",
              "    .dataframe thead th {\n",
              "        text-align: right;\n",
              "    }\n",
              "</style>\n",
              "<table border=\"1\" class=\"dataframe\">\n",
              "  <thead>\n",
              "    <tr style=\"text-align: right;\">\n",
              "      <th></th>\n",
              "      <th>count</th>\n",
              "      <th>mean</th>\n",
              "      <th>std</th>\n",
              "      <th>min</th>\n",
              "      <th>25%</th>\n",
              "      <th>50%</th>\n",
              "      <th>75%</th>\n",
              "      <th>max</th>\n",
              "    </tr>\n",
              "  </thead>\n",
              "  <tbody>\n",
              "    <tr>\n",
              "      <th>Idade</th>\n",
              "      <td>36992.0</td>\n",
              "      <td>37.118161</td>\n",
              "      <td>15.867412</td>\n",
              "      <td>10.000000</td>\n",
              "      <td>23.0000</td>\n",
              "      <td>37.000</td>\n",
              "      <td>51.000</td>\n",
              "      <td>64.000000</td>\n",
              "    </tr>\n",
              "    <tr>\n",
              "      <th>dias desde o último login</th>\n",
              "      <td>36992.0</td>\n",
              "      <td>-41.915576</td>\n",
              "      <td>228.819900</td>\n",
              "      <td>-999.000000</td>\n",
              "      <td>8.0000</td>\n",
              "      <td>12.000</td>\n",
              "      <td>16.000</td>\n",
              "      <td>26.000000</td>\n",
              "    </tr>\n",
              "    <tr>\n",
              "      <th>tempo médio gasto</th>\n",
              "      <td>36992.0</td>\n",
              "      <td>243.472334</td>\n",
              "      <td>398.289149</td>\n",
              "      <td>-2814.109110</td>\n",
              "      <td>60.1025</td>\n",
              "      <td>161.765</td>\n",
              "      <td>356.515</td>\n",
              "      <td>3235.578521</td>\n",
              "    </tr>\n",
              "    <tr>\n",
              "      <th>valor médio de transação</th>\n",
              "      <td>36992.0</td>\n",
              "      <td>29271.194003</td>\n",
              "      <td>19444.806226</td>\n",
              "      <td>800.460000</td>\n",
              "      <td>14177.5400</td>\n",
              "      <td>27554.485</td>\n",
              "      <td>40855.110</td>\n",
              "      <td>99914.050000</td>\n",
              "    </tr>\n",
              "    <tr>\n",
              "      <th>pontos na carteira</th>\n",
              "      <td>33549.0</td>\n",
              "      <td>686.882199</td>\n",
              "      <td>194.063624</td>\n",
              "      <td>-760.661236</td>\n",
              "      <td>616.1500</td>\n",
              "      <td>697.620</td>\n",
              "      <td>763.950</td>\n",
              "      <td>2069.069761</td>\n",
              "    </tr>\n",
              "    <tr>\n",
              "      <th>pontuação de risco de rotatividade</th>\n",
              "      <td>36992.0</td>\n",
              "      <td>3.463397</td>\n",
              "      <td>1.409661</td>\n",
              "      <td>-1.000000</td>\n",
              "      <td>3.0000</td>\n",
              "      <td>4.000</td>\n",
              "      <td>5.000</td>\n",
              "      <td>5.000000</td>\n",
              "    </tr>\n",
              "  </tbody>\n",
              "</table>\n",
              "</div>"
            ],
            "text/plain": [
              "                                      count  ...           max\n",
              "Idade                               36992.0  ...     64.000000\n",
              "dias desde o último login           36992.0  ...     26.000000\n",
              "tempo médio gasto                   36992.0  ...   3235.578521\n",
              "valor médio de transação            36992.0  ...  99914.050000\n",
              "pontos na carteira                  33549.0  ...   2069.069761\n",
              "pontuação de risco de rotatividade  36992.0  ...      5.000000\n",
              "\n",
              "[6 rows x 8 columns]"
            ]
          },
          "metadata": {
            "tags": []
          },
          "execution_count": 180
        }
      ]
    },
    {
      "cell_type": "code",
      "metadata": {
        "id": "XF42vEedJTSH",
        "outputId": "785e2763-50b9-4aab-d473-d6120b09b139",
        "colab": {
          "base_uri": "https://localhost:8080/",
          "height": 408
        }
      },
      "source": [
        "df.head()"
      ],
      "execution_count": 181,
      "outputs": [
        {
          "output_type": "execute_result",
          "data": {
            "text/html": [
              "<div>\n",
              "<style scoped>\n",
              "    .dataframe tbody tr th:only-of-type {\n",
              "        vertical-align: middle;\n",
              "    }\n",
              "\n",
              "    .dataframe tbody tr th {\n",
              "        vertical-align: top;\n",
              "    }\n",
              "\n",
              "    .dataframe thead th {\n",
              "        text-align: right;\n",
              "    }\n",
              "</style>\n",
              "<table border=\"1\" class=\"dataframe\">\n",
              "  <thead>\n",
              "    <tr style=\"text-align: right;\">\n",
              "      <th></th>\n",
              "      <th>Identificação do Cliente</th>\n",
              "      <th>Nome</th>\n",
              "      <th>Idade</th>\n",
              "      <th>Gênero sexual</th>\n",
              "      <th>Sem seguro</th>\n",
              "      <th>categoria de região</th>\n",
              "      <th>categoria de associação</th>\n",
              "      <th>Data de ingresso</th>\n",
              "      <th>juntou-se por referência</th>\n",
              "      <th>id de referência</th>\n",
              "      <th>tipos de oferta preferidos</th>\n",
              "      <th>meio de operação</th>\n",
              "      <th>opção de internet</th>\n",
              "      <th>hora da última visita</th>\n",
              "      <th>dias desde o último login</th>\n",
              "      <th>tempo médio gasto</th>\n",
              "      <th>valor médio de transação</th>\n",
              "      <th>média de freqüência de dias de login</th>\n",
              "      <th>pontos na carteira</th>\n",
              "      <th>desconto especial usado</th>\n",
              "      <th>oferecer preferência de aplicativo</th>\n",
              "      <th>reclamação anterior</th>\n",
              "      <th>status de reclamação</th>\n",
              "      <th>comentários</th>\n",
              "      <th>pontuação de risco de rotatividade</th>\n",
              "    </tr>\n",
              "  </thead>\n",
              "  <tbody>\n",
              "    <tr>\n",
              "      <th>0</th>\n",
              "      <td>fffe4300490044003600300030003800</td>\n",
              "      <td>Pattie Morrisey</td>\n",
              "      <td>18</td>\n",
              "      <td>F</td>\n",
              "      <td>XW0DQ7H</td>\n",
              "      <td>Village</td>\n",
              "      <td>Platinum Membership</td>\n",
              "      <td>2017-08-17</td>\n",
              "      <td>No</td>\n",
              "      <td>xxxxxxxx</td>\n",
              "      <td>Gift Vouchers/Coupons</td>\n",
              "      <td>?</td>\n",
              "      <td>Wi-Fi</td>\n",
              "      <td>16:08:02</td>\n",
              "      <td>17</td>\n",
              "      <td>300.63</td>\n",
              "      <td>53005.25</td>\n",
              "      <td>17.0</td>\n",
              "      <td>781.75</td>\n",
              "      <td>Yes</td>\n",
              "      <td>Yes</td>\n",
              "      <td>No</td>\n",
              "      <td>Not Applicable</td>\n",
              "      <td>Products always in Stock</td>\n",
              "      <td>2</td>\n",
              "    </tr>\n",
              "    <tr>\n",
              "      <th>1</th>\n",
              "      <td>fffe43004900440032003100300035003700</td>\n",
              "      <td>Traci Peery</td>\n",
              "      <td>32</td>\n",
              "      <td>F</td>\n",
              "      <td>5K0N3X1</td>\n",
              "      <td>City</td>\n",
              "      <td>Premium Membership</td>\n",
              "      <td>2017-08-28</td>\n",
              "      <td>?</td>\n",
              "      <td>CID21329</td>\n",
              "      <td>Gift Vouchers/Coupons</td>\n",
              "      <td>Desktop</td>\n",
              "      <td>Mobile_Data</td>\n",
              "      <td>12:38:13</td>\n",
              "      <td>16</td>\n",
              "      <td>306.34</td>\n",
              "      <td>12838.38</td>\n",
              "      <td>10.0</td>\n",
              "      <td>NaN</td>\n",
              "      <td>Yes</td>\n",
              "      <td>No</td>\n",
              "      <td>Yes</td>\n",
              "      <td>Solved</td>\n",
              "      <td>Quality Customer Care</td>\n",
              "      <td>1</td>\n",
              "    </tr>\n",
              "    <tr>\n",
              "      <th>2</th>\n",
              "      <td>fffe4300490044003100390032003600</td>\n",
              "      <td>Merideth Mcmeen</td>\n",
              "      <td>44</td>\n",
              "      <td>F</td>\n",
              "      <td>1F2TCL3</td>\n",
              "      <td>Town</td>\n",
              "      <td>No Membership</td>\n",
              "      <td>2016-11-11</td>\n",
              "      <td>Yes</td>\n",
              "      <td>CID12313</td>\n",
              "      <td>Gift Vouchers/Coupons</td>\n",
              "      <td>Desktop</td>\n",
              "      <td>Wi-Fi</td>\n",
              "      <td>22:53:21</td>\n",
              "      <td>14</td>\n",
              "      <td>516.16</td>\n",
              "      <td>21027.00</td>\n",
              "      <td>22.0</td>\n",
              "      <td>500.69</td>\n",
              "      <td>No</td>\n",
              "      <td>Yes</td>\n",
              "      <td>Yes</td>\n",
              "      <td>Solved in Follow-up</td>\n",
              "      <td>Poor Website</td>\n",
              "      <td>5</td>\n",
              "    </tr>\n",
              "    <tr>\n",
              "      <th>3</th>\n",
              "      <td>fffe43004900440036003000330031003600</td>\n",
              "      <td>Eufemia Cardwell</td>\n",
              "      <td>37</td>\n",
              "      <td>M</td>\n",
              "      <td>VJGJ33N</td>\n",
              "      <td>City</td>\n",
              "      <td>No Membership</td>\n",
              "      <td>2016-10-29</td>\n",
              "      <td>Yes</td>\n",
              "      <td>CID3793</td>\n",
              "      <td>Gift Vouchers/Coupons</td>\n",
              "      <td>Desktop</td>\n",
              "      <td>Mobile_Data</td>\n",
              "      <td>15:57:50</td>\n",
              "      <td>11</td>\n",
              "      <td>53.27</td>\n",
              "      <td>25239.56</td>\n",
              "      <td>6.0</td>\n",
              "      <td>567.66</td>\n",
              "      <td>No</td>\n",
              "      <td>Yes</td>\n",
              "      <td>Yes</td>\n",
              "      <td>Unsolved</td>\n",
              "      <td>Poor Website</td>\n",
              "      <td>5</td>\n",
              "    </tr>\n",
              "    <tr>\n",
              "      <th>4</th>\n",
              "      <td>fffe43004900440031003900350030003600</td>\n",
              "      <td>Meghan Kosak</td>\n",
              "      <td>31</td>\n",
              "      <td>F</td>\n",
              "      <td>SVZXCWB</td>\n",
              "      <td>City</td>\n",
              "      <td>No Membership</td>\n",
              "      <td>2017-09-12</td>\n",
              "      <td>No</td>\n",
              "      <td>xxxxxxxx</td>\n",
              "      <td>Credit/Debit Card Offers</td>\n",
              "      <td>Smartphone</td>\n",
              "      <td>Mobile_Data</td>\n",
              "      <td>15:46:44</td>\n",
              "      <td>20</td>\n",
              "      <td>113.13</td>\n",
              "      <td>24483.66</td>\n",
              "      <td>16.0</td>\n",
              "      <td>663.06</td>\n",
              "      <td>No</td>\n",
              "      <td>Yes</td>\n",
              "      <td>Yes</td>\n",
              "      <td>Solved</td>\n",
              "      <td>Poor Website</td>\n",
              "      <td>5</td>\n",
              "    </tr>\n",
              "  </tbody>\n",
              "</table>\n",
              "</div>"
            ],
            "text/plain": [
              "               Identificação do Cliente  ... pontuação de risco de rotatividade\n",
              "0      fffe4300490044003600300030003800  ...                                  2\n",
              "1  fffe43004900440032003100300035003700  ...                                  1\n",
              "2      fffe4300490044003100390032003600  ...                                  5\n",
              "3  fffe43004900440036003000330031003600  ...                                  5\n",
              "4  fffe43004900440031003900350030003600  ...                                  5\n",
              "\n",
              "[5 rows x 25 columns]"
            ]
          },
          "metadata": {
            "tags": []
          },
          "execution_count": 181
        }
      ]
    },
    {
      "cell_type": "code",
      "metadata": {
        "colab": {
          "base_uri": "https://localhost:8080/"
        },
        "id": "q4d2kRSz1W6F",
        "outputId": "8694ac3d-7360-4c2d-a38c-4f73450daf81"
      },
      "source": [
        "# Existe valores nulos?\n",
        "df.isnull().sum()>0"
      ],
      "execution_count": 182,
      "outputs": [
        {
          "output_type": "execute_result",
          "data": {
            "text/plain": [
              "Identificação do Cliente                False\n",
              "Nome                                    False\n",
              "Idade                                   False\n",
              "Gênero sexual                           False\n",
              "Sem seguro                              False\n",
              "categoria de região                      True\n",
              "categoria de associação                 False\n",
              "Data de ingresso                        False\n",
              "juntou-se por referência                False\n",
              "id de referência                        False\n",
              "tipos de oferta preferidos               True\n",
              "meio de operação                        False\n",
              "opção de internet                       False\n",
              "hora da última visita                   False\n",
              "dias desde o último login               False\n",
              "tempo médio gasto                       False\n",
              "valor médio de transação                False\n",
              "média de freqüência de dias de login    False\n",
              "pontos na carteira                       True\n",
              "desconto especial usado                 False\n",
              "oferecer preferência de aplicativo      False\n",
              "reclamação anterior                     False\n",
              "status de reclamação                    False\n",
              "comentários                             False\n",
              "pontuação de risco de rotatividade      False\n",
              "dtype: bool"
            ]
          },
          "metadata": {
            "tags": []
          },
          "execution_count": 182
        }
      ]
    },
    {
      "cell_type": "code",
      "metadata": {
        "id": "uYea_7tWKNDa",
        "outputId": "cf23e278-128d-4a46-fc5c-db87ce95c903",
        "colab": {
          "base_uri": "https://localhost:8080/"
        }
      },
      "source": [
        "df.isnull().sum()"
      ],
      "execution_count": 183,
      "outputs": [
        {
          "output_type": "execute_result",
          "data": {
            "text/plain": [
              "Identificação do Cliente                   0\n",
              "Nome                                       0\n",
              "Idade                                      0\n",
              "Gênero sexual                              0\n",
              "Sem seguro                                 0\n",
              "categoria de região                     5428\n",
              "categoria de associação                    0\n",
              "Data de ingresso                           0\n",
              "juntou-se por referência                   0\n",
              "id de referência                           0\n",
              "tipos de oferta preferidos               288\n",
              "meio de operação                           0\n",
              "opção de internet                          0\n",
              "hora da última visita                      0\n",
              "dias desde o último login                  0\n",
              "tempo médio gasto                          0\n",
              "valor médio de transação                   0\n",
              "média de freqüência de dias de login       0\n",
              "pontos na carteira                      3443\n",
              "desconto especial usado                    0\n",
              "oferecer preferência de aplicativo         0\n",
              "reclamação anterior                        0\n",
              "status de reclamação                       0\n",
              "comentários                                0\n",
              "pontuação de risco de rotatividade         0\n",
              "dtype: int64"
            ]
          },
          "metadata": {
            "tags": []
          },
          "execution_count": 183
        }
      ]
    },
    {
      "cell_type": "code",
      "metadata": {
        "id": "Vc_KRGl1MbKz"
      },
      "source": [
        "# Retirando os valores null\n",
        "df.dropna(axis=0,inplace=True)"
      ],
      "execution_count": 184,
      "outputs": []
    },
    {
      "cell_type": "code",
      "metadata": {
        "id": "QpLcrClHNIuD",
        "outputId": "935af5ae-0b69-4290-9df0-416f8047310b",
        "colab": {
          "base_uri": "https://localhost:8080/"
        }
      },
      "source": [
        "# Checando!!!\n",
        "df.isnull().sum()"
      ],
      "execution_count": 185,
      "outputs": [
        {
          "output_type": "execute_result",
          "data": {
            "text/plain": [
              "Identificação do Cliente                0\n",
              "Nome                                    0\n",
              "Idade                                   0\n",
              "Gênero sexual                           0\n",
              "Sem seguro                              0\n",
              "categoria de região                     0\n",
              "categoria de associação                 0\n",
              "Data de ingresso                        0\n",
              "juntou-se por referência                0\n",
              "id de referência                        0\n",
              "tipos de oferta preferidos              0\n",
              "meio de operação                        0\n",
              "opção de internet                       0\n",
              "hora da última visita                   0\n",
              "dias desde o último login               0\n",
              "tempo médio gasto                       0\n",
              "valor médio de transação                0\n",
              "média de freqüência de dias de login    0\n",
              "pontos na carteira                      0\n",
              "desconto especial usado                 0\n",
              "oferecer preferência de aplicativo      0\n",
              "reclamação anterior                     0\n",
              "status de reclamação                    0\n",
              "comentários                             0\n",
              "pontuação de risco de rotatividade      0\n",
              "dtype: int64"
            ]
          },
          "metadata": {
            "tags": []
          },
          "execution_count": 185
        }
      ]
    },
    {
      "cell_type": "code",
      "metadata": {
        "id": "EUQ-R0hTNLgg",
        "outputId": "bbeb4978-1841-491f-ecdd-6878c1976066",
        "colab": {
          "base_uri": "https://localhost:8080/",
          "height": 295
        }
      },
      "source": [
        "df.describe()\n",
        "# Agora precisamos trabalhar com o valor negativos em várias colunas"
      ],
      "execution_count": 186,
      "outputs": [
        {
          "output_type": "execute_result",
          "data": {
            "text/html": [
              "<div>\n",
              "<style scoped>\n",
              "    .dataframe tbody tr th:only-of-type {\n",
              "        vertical-align: middle;\n",
              "    }\n",
              "\n",
              "    .dataframe tbody tr th {\n",
              "        vertical-align: top;\n",
              "    }\n",
              "\n",
              "    .dataframe thead th {\n",
              "        text-align: right;\n",
              "    }\n",
              "</style>\n",
              "<table border=\"1\" class=\"dataframe\">\n",
              "  <thead>\n",
              "    <tr style=\"text-align: right;\">\n",
              "      <th></th>\n",
              "      <th>Idade</th>\n",
              "      <th>dias desde o último login</th>\n",
              "      <th>tempo médio gasto</th>\n",
              "      <th>valor médio de transação</th>\n",
              "      <th>pontos na carteira</th>\n",
              "      <th>pontuação de risco de rotatividade</th>\n",
              "    </tr>\n",
              "  </thead>\n",
              "  <tbody>\n",
              "    <tr>\n",
              "      <th>count</th>\n",
              "      <td>28373.000000</td>\n",
              "      <td>28373.000000</td>\n",
              "      <td>28373.000000</td>\n",
              "      <td>28373.000000</td>\n",
              "      <td>28373.000000</td>\n",
              "      <td>28373.000000</td>\n",
              "    </tr>\n",
              "    <tr>\n",
              "      <th>mean</th>\n",
              "      <td>37.081310</td>\n",
              "      <td>-42.587319</td>\n",
              "      <td>243.610043</td>\n",
              "      <td>29314.556610</td>\n",
              "      <td>688.008287</td>\n",
              "      <td>3.458253</td>\n",
              "    </tr>\n",
              "    <tr>\n",
              "      <th>std</th>\n",
              "      <td>15.894149</td>\n",
              "      <td>230.134583</td>\n",
              "      <td>401.153815</td>\n",
              "      <td>19509.169615</td>\n",
              "      <td>194.227585</td>\n",
              "      <td>1.411966</td>\n",
              "    </tr>\n",
              "    <tr>\n",
              "      <th>min</th>\n",
              "      <td>10.000000</td>\n",
              "      <td>-999.000000</td>\n",
              "      <td>-2814.109110</td>\n",
              "      <td>800.460000</td>\n",
              "      <td>-760.661236</td>\n",
              "      <td>-1.000000</td>\n",
              "    </tr>\n",
              "    <tr>\n",
              "      <th>25%</th>\n",
              "      <td>23.000000</td>\n",
              "      <td>8.000000</td>\n",
              "      <td>59.840000</td>\n",
              "      <td>14191.820000</td>\n",
              "      <td>616.620000</td>\n",
              "      <td>3.000000</td>\n",
              "    </tr>\n",
              "    <tr>\n",
              "      <th>50%</th>\n",
              "      <td>37.000000</td>\n",
              "      <td>12.000000</td>\n",
              "      <td>161.670000</td>\n",
              "      <td>27562.670000</td>\n",
              "      <td>698.480000</td>\n",
              "      <td>4.000000</td>\n",
              "    </tr>\n",
              "    <tr>\n",
              "      <th>75%</th>\n",
              "      <td>51.000000</td>\n",
              "      <td>16.000000</td>\n",
              "      <td>356.580000</td>\n",
              "      <td>40901.120000</td>\n",
              "      <td>764.960000</td>\n",
              "      <td>5.000000</td>\n",
              "    </tr>\n",
              "    <tr>\n",
              "      <th>max</th>\n",
              "      <td>64.000000</td>\n",
              "      <td>26.000000</td>\n",
              "      <td>3040.410000</td>\n",
              "      <td>99914.050000</td>\n",
              "      <td>2069.069761</td>\n",
              "      <td>5.000000</td>\n",
              "    </tr>\n",
              "  </tbody>\n",
              "</table>\n",
              "</div>"
            ],
            "text/plain": [
              "              Idade  ...  pontuação de risco de rotatividade\n",
              "count  28373.000000  ...                        28373.000000\n",
              "mean      37.081310  ...                            3.458253\n",
              "std       15.894149  ...                            1.411966\n",
              "min       10.000000  ...                           -1.000000\n",
              "25%       23.000000  ...                            3.000000\n",
              "50%       37.000000  ...                            4.000000\n",
              "75%       51.000000  ...                            5.000000\n",
              "max       64.000000  ...                            5.000000\n",
              "\n",
              "[8 rows x 6 columns]"
            ]
          },
          "metadata": {
            "tags": []
          },
          "execution_count": 186
        }
      ]
    },
    {
      "cell_type": "code",
      "metadata": {
        "id": "h-KvyRKNPZmH",
        "outputId": "3af45013-50f6-4273-d1c9-36a58625e2c7",
        "colab": {
          "base_uri": "https://localhost:8080/"
        }
      },
      "source": [
        "# Checando a quantidade de valores negativos nas três colunas.\n",
        "df[df['dias desde o último login']<0].shape[0],df[df['tempo médio gasto']<0].shape[0],df[df['pontos na carteira']<0].shape[0],df[df['pontuação de risco de rotatividade']<0].shape[0]"
      ],
      "execution_count": 187,
      "outputs": [
        {
          "output_type": "execute_result",
          "data": {
            "text/plain": [
              "(1552, 1345, 116, 901)"
            ]
          },
          "metadata": {
            "tags": []
          },
          "execution_count": 187
        }
      ]
    },
    {
      "cell_type": "code",
      "metadata": {
        "id": "jUj3G_3lUaVz"
      },
      "source": [
        "# Vamos retirar esses valores negativos do nosso dataset.\n",
        "\n",
        "df = df[df['dias desde o último login']>0]\n",
        "df = df[df['tempo médio gasto']>0]\n",
        "df = df[df['pontos na carteira']>0]\n",
        "df = df[df['pontuação de risco de rotatividade']>0]"
      ],
      "execution_count": 188,
      "outputs": []
    },
    {
      "cell_type": "code",
      "metadata": {
        "id": "EnGALNSeUxZ7",
        "outputId": "cff5c110-72de-4718-c09d-d7677ac3c702",
        "colab": {
          "base_uri": "https://localhost:8080/",
          "height": 295
        }
      },
      "source": [
        " # Checando...\n",
        "df.describe()"
      ],
      "execution_count": 189,
      "outputs": [
        {
          "output_type": "execute_result",
          "data": {
            "text/html": [
              "<div>\n",
              "<style scoped>\n",
              "    .dataframe tbody tr th:only-of-type {\n",
              "        vertical-align: middle;\n",
              "    }\n",
              "\n",
              "    .dataframe tbody tr th {\n",
              "        vertical-align: top;\n",
              "    }\n",
              "\n",
              "    .dataframe thead th {\n",
              "        text-align: right;\n",
              "    }\n",
              "</style>\n",
              "<table border=\"1\" class=\"dataframe\">\n",
              "  <thead>\n",
              "    <tr style=\"text-align: right;\">\n",
              "      <th></th>\n",
              "      <th>Idade</th>\n",
              "      <th>dias desde o último login</th>\n",
              "      <th>tempo médio gasto</th>\n",
              "      <th>valor médio de transação</th>\n",
              "      <th>pontos na carteira</th>\n",
              "      <th>pontuação de risco de rotatividade</th>\n",
              "    </tr>\n",
              "  </thead>\n",
              "  <tbody>\n",
              "    <tr>\n",
              "      <th>count</th>\n",
              "      <td>24631.000000</td>\n",
              "      <td>24631.000000</td>\n",
              "      <td>24631.000000</td>\n",
              "      <td>24631.000000</td>\n",
              "      <td>24631.000000</td>\n",
              "      <td>24631.000000</td>\n",
              "    </tr>\n",
              "    <tr>\n",
              "      <th>mean</th>\n",
              "      <td>37.061589</td>\n",
              "      <td>12.756323</td>\n",
              "      <td>293.902082</td>\n",
              "      <td>29379.296757</td>\n",
              "      <td>691.643431</td>\n",
              "      <td>3.600544</td>\n",
              "    </tr>\n",
              "    <tr>\n",
              "      <th>std</th>\n",
              "      <td>15.880274</td>\n",
              "      <td>5.576812</td>\n",
              "      <td>333.153218</td>\n",
              "      <td>19555.041120</td>\n",
              "      <td>186.149205</td>\n",
              "      <td>1.178450</td>\n",
              "    </tr>\n",
              "    <tr>\n",
              "      <th>min</th>\n",
              "      <td>10.000000</td>\n",
              "      <td>1.000000</td>\n",
              "      <td>1.837399</td>\n",
              "      <td>800.460000</td>\n",
              "      <td>6.432208</td>\n",
              "      <td>1.000000</td>\n",
              "    </tr>\n",
              "    <tr>\n",
              "      <th>25%</th>\n",
              "      <td>23.000000</td>\n",
              "      <td>9.000000</td>\n",
              "      <td>71.635000</td>\n",
              "      <td>14287.765000</td>\n",
              "      <td>618.120000</td>\n",
              "      <td>3.000000</td>\n",
              "    </tr>\n",
              "    <tr>\n",
              "      <th>50%</th>\n",
              "      <td>37.000000</td>\n",
              "      <td>13.000000</td>\n",
              "      <td>173.990000</td>\n",
              "      <td>27602.740000</td>\n",
              "      <td>699.930000</td>\n",
              "      <td>4.000000</td>\n",
              "    </tr>\n",
              "    <tr>\n",
              "      <th>75%</th>\n",
              "      <td>51.000000</td>\n",
              "      <td>17.000000</td>\n",
              "      <td>372.095000</td>\n",
              "      <td>40895.025000</td>\n",
              "      <td>765.355000</td>\n",
              "      <td>5.000000</td>\n",
              "    </tr>\n",
              "    <tr>\n",
              "      <th>max</th>\n",
              "      <td>64.000000</td>\n",
              "      <td>26.000000</td>\n",
              "      <td>3040.410000</td>\n",
              "      <td>99914.050000</td>\n",
              "      <td>2069.069761</td>\n",
              "      <td>5.000000</td>\n",
              "    </tr>\n",
              "  </tbody>\n",
              "</table>\n",
              "</div>"
            ],
            "text/plain": [
              "              Idade  ...  pontuação de risco de rotatividade\n",
              "count  24631.000000  ...                        24631.000000\n",
              "mean      37.061589  ...                            3.600544\n",
              "std       15.880274  ...                            1.178450\n",
              "min       10.000000  ...                            1.000000\n",
              "25%       23.000000  ...                            3.000000\n",
              "50%       37.000000  ...                            4.000000\n",
              "75%       51.000000  ...                            5.000000\n",
              "max       64.000000  ...                            5.000000\n",
              "\n",
              "[8 rows x 6 columns]"
            ]
          },
          "metadata": {
            "tags": []
          },
          "execution_count": 189
        }
      ]
    }
  ]
}