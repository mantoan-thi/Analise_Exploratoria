{
  "nbformat": 4,
  "nbformat_minor": 0,
  "metadata": {
    "colab": {
      "name": "churn-risk-rate-hackerearth_2.ipynb",
      "provenance": [],
      "authorship_tag": "ABX9TyMB8hxtZ29vWBbgB7cPsKqt",
      "include_colab_link": true
    },
    "kernelspec": {
      "name": "python3",
      "display_name": "Python 3"
    },
    "language_info": {
      "name": "python"
    }
  },
  "cells": [
    {
      "cell_type": "markdown",
      "metadata": {
        "id": "view-in-github",
        "colab_type": "text"
      },
      "source": [
        "<a href=\"https://colab.research.google.com/github/mantoan-thi/Analise_Exploratoria/blob/main/churn_risk_rate_hackerearth_2.ipynb\" target=\"_parent\"><img src=\"https://colab.research.google.com/assets/colab-badge.svg\" alt=\"Open In Colab\"/></a>"
      ]
    },
    {
      "cell_type": "code",
      "metadata": {
        "id": "xoZ8eu5Vx7-k"
      },
      "source": [
        "# Essa base de dados foi obtidas no kaggle\n",
        "# Link: https://www.kaggle.com/imsparsh/churn-risk-rate-hackerearth-ml"
      ],
      "execution_count": null,
      "outputs": []
    },
    {
      "cell_type": "code",
      "metadata": {
        "colab": {
          "base_uri": "https://localhost:8080/",
          "height": 102
        },
        "id": "s8zi-w_cyZsj",
        "outputId": "610a4b95-3253-435d-a242-e7dd812576ed"
      },
      "source": [
        "''' Decrisção no kaggle\n",
        "Contexto\n",
        "A taxa de rotatividade é uma métrica de marketing que descreve o número de clientes que deixam uma empresa durante um período de tempo específico. . Cada usuário recebe um valor de previsão que estima seu estado de rotatividade a qualquer momento. Este valor é baseado em:\n",
        "\n",
        "Informações demográficas do usuário\n",
        "Comportamento de navegação\n",
        "Dados históricos de compras, entre outras informações\n",
        "Ele leva em consideração nossas previsões exclusivas e proprietárias de quanto tempo um usuário permanecerá como cliente. Essa pontuação é atualizada todos os dias para todos os usuários que têm no mínimo uma conversão. Os valores atribuídos estão entre 1 e 5.\n",
        "\n",
        "Tarefa\n",
        "Sua tarefa é prever a pontuação de rotatividade de um site com base nos recursos fornecidos no conjunto de dados.\n",
        "'''"
      ],
      "execution_count": null,
      "outputs": [
        {
          "output_type": "execute_result",
          "data": {
            "application/vnd.google.colaboratory.intrinsic+json": {
              "type": "string"
            },
            "text/plain": [
              "' Decrisção no kaggle\\nContexto\\nA taxa de rotatividade é uma métrica de marketing que descreve o número de clientes que deixam uma empresa durante um período de tempo específico. . Cada usuário recebe um valor de previsão que estima seu estado de rotatividade a qualquer momento. Este valor é baseado em:\\n\\nInformações demográficas do usuário\\nComportamento de navegação\\nDados históricos de compras, entre outras informações\\nEle leva em consideração nossas previsões exclusivas e proprietárias de quanto tempo um usuário permanecerá como cliente. Essa pontuação é atualizada todos os dias para todos os usuários que têm no mínimo uma conversão. Os valores atribuídos estão entre 1 e 5.\\n\\nTarefa\\nSua tarefa é prever a pontuação de rotatividade de um site com base nos recursos fornecidos no conjunto de dados.\\n'"
            ]
          },
          "metadata": {
            "tags": []
          },
          "execution_count": 3
        }
      ]
    },
    {
      "cell_type": "code",
      "metadata": {
        "id": "NNv6cIxCtudF"
      },
      "source": [
        "import pandas as pd\n",
        "import seaborn as sns\n",
        "import matplotlib.pyplot as plt\n",
        "%matplotlib inline"
      ],
      "execution_count": 1,
      "outputs": []
    },
    {
      "cell_type": "code",
      "metadata": {
        "id": "G1k4ZiQvuGOt"
      },
      "source": [
        "df = pd.read_csv('/content/train.csv')"
      ],
      "execution_count": 2,
      "outputs": []
    },
    {
      "cell_type": "code",
      "metadata": {
        "id": "DUZLjbEnvLo2"
      },
      "source": [
        "# Traduzindo as colunas...\n",
        "df.rename(columns={'customer_id':'Identificação do Cliente', \n",
        "                   'Name':'Nome', 'age':'Idade', 'gender':'Gênero sexual',\n",
        "                   'security_no':'Sem seguro','region_category':'categoria de região', \n",
        "                   'membership_category':'categoria de associação', \n",
        "                   'joining_date':'Data de ingresso','joined_through_referral':'juntou-se por referência', \n",
        "                   'referral_id':'id de referência', 'preferred_offer_types':'tipos de oferta preferidos',\n",
        "                   'medium_of_operation':'meio de operação', 'internet_option':'opção de internet', \n",
        "                   'last_visit_time':'hora da última visita','days_since_last_login':'dias desde o último login',\n",
        "                   'avg_time_spent':'tempo médio gasto','avg_transaction_value':'valor médio de transação',\n",
        "                   'avg_frequency_login_days':'média de freqüência de dias de login', \n",
        "                   'points_in_wallet':'pontos na carteira', 'used_special_discount':'desconto especial usado',\n",
        "                   'offer_application_preference':'oferecer preferência de aplicativo', 'past_complaint':'reclamação anterior', \n",
        "                   'complaint_status':'status de reclamação','feedback':'comentários', \n",
        "                   'churn_risk_score':'pontuação de risco de rotatividade'},inplace=True)"
      ],
      "execution_count": 3,
      "outputs": []
    },
    {
      "cell_type": "code",
      "metadata": {
        "colab": {
          "base_uri": "https://localhost:8080/",
          "height": 234
        },
        "id": "7bhy_I1C0W9Z",
        "outputId": "263f8c3e-c13c-4f0c-c877-0570dcf8a0eb"
      },
      "source": [
        "df.describe().transpose()"
      ],
      "execution_count": 4,
      "outputs": [
        {
          "output_type": "execute_result",
          "data": {
            "text/html": [
              "<div>\n",
              "<style scoped>\n",
              "    .dataframe tbody tr th:only-of-type {\n",
              "        vertical-align: middle;\n",
              "    }\n",
              "\n",
              "    .dataframe tbody tr th {\n",
              "        vertical-align: top;\n",
              "    }\n",
              "\n",
              "    .dataframe thead th {\n",
              "        text-align: right;\n",
              "    }\n",
              "</style>\n",
              "<table border=\"1\" class=\"dataframe\">\n",
              "  <thead>\n",
              "    <tr style=\"text-align: right;\">\n",
              "      <th></th>\n",
              "      <th>count</th>\n",
              "      <th>mean</th>\n",
              "      <th>std</th>\n",
              "      <th>min</th>\n",
              "      <th>25%</th>\n",
              "      <th>50%</th>\n",
              "      <th>75%</th>\n",
              "      <th>max</th>\n",
              "    </tr>\n",
              "  </thead>\n",
              "  <tbody>\n",
              "    <tr>\n",
              "      <th>Idade</th>\n",
              "      <td>36992.0</td>\n",
              "      <td>37.118161</td>\n",
              "      <td>15.867412</td>\n",
              "      <td>10.000000</td>\n",
              "      <td>23.0000</td>\n",
              "      <td>37.000</td>\n",
              "      <td>51.000</td>\n",
              "      <td>64.000000</td>\n",
              "    </tr>\n",
              "    <tr>\n",
              "      <th>dias desde o último login</th>\n",
              "      <td>36992.0</td>\n",
              "      <td>-41.915576</td>\n",
              "      <td>228.819900</td>\n",
              "      <td>-999.000000</td>\n",
              "      <td>8.0000</td>\n",
              "      <td>12.000</td>\n",
              "      <td>16.000</td>\n",
              "      <td>26.000000</td>\n",
              "    </tr>\n",
              "    <tr>\n",
              "      <th>tempo médio gasto</th>\n",
              "      <td>36992.0</td>\n",
              "      <td>243.472334</td>\n",
              "      <td>398.289149</td>\n",
              "      <td>-2814.109110</td>\n",
              "      <td>60.1025</td>\n",
              "      <td>161.765</td>\n",
              "      <td>356.515</td>\n",
              "      <td>3235.578521</td>\n",
              "    </tr>\n",
              "    <tr>\n",
              "      <th>valor médio de transação</th>\n",
              "      <td>36992.0</td>\n",
              "      <td>29271.194003</td>\n",
              "      <td>19444.806226</td>\n",
              "      <td>800.460000</td>\n",
              "      <td>14177.5400</td>\n",
              "      <td>27554.485</td>\n",
              "      <td>40855.110</td>\n",
              "      <td>99914.050000</td>\n",
              "    </tr>\n",
              "    <tr>\n",
              "      <th>pontos na carteira</th>\n",
              "      <td>33549.0</td>\n",
              "      <td>686.882199</td>\n",
              "      <td>194.063624</td>\n",
              "      <td>-760.661236</td>\n",
              "      <td>616.1500</td>\n",
              "      <td>697.620</td>\n",
              "      <td>763.950</td>\n",
              "      <td>2069.069761</td>\n",
              "    </tr>\n",
              "    <tr>\n",
              "      <th>pontuação de risco de rotatividade</th>\n",
              "      <td>36992.0</td>\n",
              "      <td>3.463397</td>\n",
              "      <td>1.409661</td>\n",
              "      <td>-1.000000</td>\n",
              "      <td>3.0000</td>\n",
              "      <td>4.000</td>\n",
              "      <td>5.000</td>\n",
              "      <td>5.000000</td>\n",
              "    </tr>\n",
              "  </tbody>\n",
              "</table>\n",
              "</div>"
            ],
            "text/plain": [
              "                                      count  ...           max\n",
              "Idade                               36992.0  ...     64.000000\n",
              "dias desde o último login           36992.0  ...     26.000000\n",
              "tempo médio gasto                   36992.0  ...   3235.578521\n",
              "valor médio de transação            36992.0  ...  99914.050000\n",
              "pontos na carteira                  33549.0  ...   2069.069761\n",
              "pontuação de risco de rotatividade  36992.0  ...      5.000000\n",
              "\n",
              "[6 rows x 8 columns]"
            ]
          },
          "metadata": {
            "tags": []
          },
          "execution_count": 4
        }
      ]
    },
    {
      "cell_type": "code",
      "metadata": {
        "id": "uYea_7tWKNDa"
      },
      "source": [
        "# Existe valores nulos?\n",
        "df.isnull().sum()\n",
        "# Retirando os valores null\n",
        "df.dropna(axis=0, inplace=True)"
      ],
      "execution_count": 5,
      "outputs": []
    },
    {
      "cell_type": "code",
      "metadata": {
        "id": "QpLcrClHNIuD",
        "colab": {
          "base_uri": "https://localhost:8080/"
        },
        "outputId": "a5749c08-02d8-4bd5-f69b-45a622c478ed"
      },
      "source": [
        "# Checando!!!\n",
        "df.isnull().sum().mean()"
      ],
      "execution_count": 6,
      "outputs": [
        {
          "output_type": "execute_result",
          "data": {
            "text/plain": [
              "0.0"
            ]
          },
          "metadata": {
            "tags": []
          },
          "execution_count": 6
        }
      ]
    },
    {
      "cell_type": "code",
      "metadata": {
        "id": "EUQ-R0hTNLgg",
        "colab": {
          "base_uri": "https://localhost:8080/",
          "height": 312
        },
        "outputId": "db0c1a74-9b7c-48a4-fd74-ae37f104027e"
      },
      "source": [
        "df.describe()\n",
        "# Agora precisamos trabalhar com o valor negativos em várias colunas"
      ],
      "execution_count": 7,
      "outputs": [
        {
          "output_type": "execute_result",
          "data": {
            "text/html": [
              "<div>\n",
              "<style scoped>\n",
              "    .dataframe tbody tr th:only-of-type {\n",
              "        vertical-align: middle;\n",
              "    }\n",
              "\n",
              "    .dataframe tbody tr th {\n",
              "        vertical-align: top;\n",
              "    }\n",
              "\n",
              "    .dataframe thead th {\n",
              "        text-align: right;\n",
              "    }\n",
              "</style>\n",
              "<table border=\"1\" class=\"dataframe\">\n",
              "  <thead>\n",
              "    <tr style=\"text-align: right;\">\n",
              "      <th></th>\n",
              "      <th>Idade</th>\n",
              "      <th>dias desde o último login</th>\n",
              "      <th>tempo médio gasto</th>\n",
              "      <th>valor médio de transação</th>\n",
              "      <th>pontos na carteira</th>\n",
              "      <th>pontuação de risco de rotatividade</th>\n",
              "    </tr>\n",
              "  </thead>\n",
              "  <tbody>\n",
              "    <tr>\n",
              "      <th>count</th>\n",
              "      <td>28373.000000</td>\n",
              "      <td>28373.000000</td>\n",
              "      <td>28373.000000</td>\n",
              "      <td>28373.000000</td>\n",
              "      <td>28373.000000</td>\n",
              "      <td>28373.000000</td>\n",
              "    </tr>\n",
              "    <tr>\n",
              "      <th>mean</th>\n",
              "      <td>37.081310</td>\n",
              "      <td>-42.587319</td>\n",
              "      <td>243.610043</td>\n",
              "      <td>29314.556610</td>\n",
              "      <td>688.008287</td>\n",
              "      <td>3.458253</td>\n",
              "    </tr>\n",
              "    <tr>\n",
              "      <th>std</th>\n",
              "      <td>15.894149</td>\n",
              "      <td>230.134583</td>\n",
              "      <td>401.153815</td>\n",
              "      <td>19509.169615</td>\n",
              "      <td>194.227585</td>\n",
              "      <td>1.411966</td>\n",
              "    </tr>\n",
              "    <tr>\n",
              "      <th>min</th>\n",
              "      <td>10.000000</td>\n",
              "      <td>-999.000000</td>\n",
              "      <td>-2814.109110</td>\n",
              "      <td>800.460000</td>\n",
              "      <td>-760.661236</td>\n",
              "      <td>-1.000000</td>\n",
              "    </tr>\n",
              "    <tr>\n",
              "      <th>25%</th>\n",
              "      <td>23.000000</td>\n",
              "      <td>8.000000</td>\n",
              "      <td>59.840000</td>\n",
              "      <td>14191.820000</td>\n",
              "      <td>616.620000</td>\n",
              "      <td>3.000000</td>\n",
              "    </tr>\n",
              "    <tr>\n",
              "      <th>50%</th>\n",
              "      <td>37.000000</td>\n",
              "      <td>12.000000</td>\n",
              "      <td>161.670000</td>\n",
              "      <td>27562.670000</td>\n",
              "      <td>698.480000</td>\n",
              "      <td>4.000000</td>\n",
              "    </tr>\n",
              "    <tr>\n",
              "      <th>75%</th>\n",
              "      <td>51.000000</td>\n",
              "      <td>16.000000</td>\n",
              "      <td>356.580000</td>\n",
              "      <td>40901.120000</td>\n",
              "      <td>764.960000</td>\n",
              "      <td>5.000000</td>\n",
              "    </tr>\n",
              "    <tr>\n",
              "      <th>max</th>\n",
              "      <td>64.000000</td>\n",
              "      <td>26.000000</td>\n",
              "      <td>3040.410000</td>\n",
              "      <td>99914.050000</td>\n",
              "      <td>2069.069761</td>\n",
              "      <td>5.000000</td>\n",
              "    </tr>\n",
              "  </tbody>\n",
              "</table>\n",
              "</div>"
            ],
            "text/plain": [
              "              Idade  ...  pontuação de risco de rotatividade\n",
              "count  28373.000000  ...                        28373.000000\n",
              "mean      37.081310  ...                            3.458253\n",
              "std       15.894149  ...                            1.411966\n",
              "min       10.000000  ...                           -1.000000\n",
              "25%       23.000000  ...                            3.000000\n",
              "50%       37.000000  ...                            4.000000\n",
              "75%       51.000000  ...                            5.000000\n",
              "max       64.000000  ...                            5.000000\n",
              "\n",
              "[8 rows x 6 columns]"
            ]
          },
          "metadata": {
            "tags": []
          },
          "execution_count": 7
        }
      ]
    },
    {
      "cell_type": "code",
      "metadata": {
        "id": "h-KvyRKNPZmH",
        "colab": {
          "base_uri": "https://localhost:8080/"
        },
        "outputId": "c2fd96e9-0f05-4a4e-ee1a-c4d0ad17cbbe"
      },
      "source": [
        "# Checando a quantidade de valores negativos nas três colunas.\n",
        "df[df['dias desde o último login']<0].shape[0],df[df['tempo médio gasto']<0].shape[0],df[df['pontos na carteira']<0].shape[0],df[df['pontuação de risco de rotatividade']<0].shape[0]"
      ],
      "execution_count": 8,
      "outputs": [
        {
          "output_type": "execute_result",
          "data": {
            "text/plain": [
              "(1552, 1345, 116, 901)"
            ]
          },
          "metadata": {
            "tags": []
          },
          "execution_count": 8
        }
      ]
    },
    {
      "cell_type": "code",
      "metadata": {
        "id": "jUj3G_3lUaVz"
      },
      "source": [
        "# Vamos retirar esses valores negativos do nosso dataset.\n",
        "\n",
        "df = df[df['dias desde o último login']>0]\n",
        "df = df[df['tempo médio gasto']>0]\n",
        "df = df[df['pontos na carteira']>0]\n",
        "df = df[df['pontuação de risco de rotatividade']>0]\n",
        "df = df[df['Gênero sexual']!='Unknown']\n",
        "df = df[df['juntou-se por referência']!='?']"
      ],
      "execution_count": 14,
      "outputs": []
    },
    {
      "cell_type": "code",
      "metadata": {
        "id": "EnGALNSeUxZ7",
        "colab": {
          "base_uri": "https://localhost:8080/",
          "height": 312
        },
        "outputId": "61bb48a0-56ea-44a9-ac3d-9062bd60e7f9"
      },
      "source": [
        " # Checando...\n",
        "df.describe()"
      ],
      "execution_count": 15,
      "outputs": [
        {
          "output_type": "execute_result",
          "data": {
            "text/html": [
              "<div>\n",
              "<style scoped>\n",
              "    .dataframe tbody tr th:only-of-type {\n",
              "        vertical-align: middle;\n",
              "    }\n",
              "\n",
              "    .dataframe tbody tr th {\n",
              "        vertical-align: top;\n",
              "    }\n",
              "\n",
              "    .dataframe thead th {\n",
              "        text-align: right;\n",
              "    }\n",
              "</style>\n",
              "<table border=\"1\" class=\"dataframe\">\n",
              "  <thead>\n",
              "    <tr style=\"text-align: right;\">\n",
              "      <th></th>\n",
              "      <th>Idade</th>\n",
              "      <th>dias desde o último login</th>\n",
              "      <th>tempo médio gasto</th>\n",
              "      <th>valor médio de transação</th>\n",
              "      <th>pontos na carteira</th>\n",
              "      <th>pontuação de risco de rotatividade</th>\n",
              "    </tr>\n",
              "  </thead>\n",
              "  <tbody>\n",
              "    <tr>\n",
              "      <th>count</th>\n",
              "      <td>20995.000000</td>\n",
              "      <td>20995.000000</td>\n",
              "      <td>20995.000000</td>\n",
              "      <td>20995.000000</td>\n",
              "      <td>20995.000000</td>\n",
              "      <td>20995.000000</td>\n",
              "    </tr>\n",
              "    <tr>\n",
              "      <th>mean</th>\n",
              "      <td>37.037056</td>\n",
              "      <td>12.758657</td>\n",
              "      <td>293.529208</td>\n",
              "      <td>29449.659131</td>\n",
              "      <td>691.079293</td>\n",
              "      <td>3.598762</td>\n",
              "    </tr>\n",
              "    <tr>\n",
              "      <th>std</th>\n",
              "      <td>15.880567</td>\n",
              "      <td>5.583893</td>\n",
              "      <td>334.287943</td>\n",
              "      <td>19647.201215</td>\n",
              "      <td>185.955539</td>\n",
              "      <td>1.180846</td>\n",
              "    </tr>\n",
              "    <tr>\n",
              "      <th>min</th>\n",
              "      <td>10.000000</td>\n",
              "      <td>1.000000</td>\n",
              "      <td>1.837399</td>\n",
              "      <td>800.460000</td>\n",
              "      <td>6.432208</td>\n",
              "      <td>1.000000</td>\n",
              "    </tr>\n",
              "    <tr>\n",
              "      <th>25%</th>\n",
              "      <td>23.000000</td>\n",
              "      <td>9.000000</td>\n",
              "      <td>71.390000</td>\n",
              "      <td>14243.605000</td>\n",
              "      <td>617.985000</td>\n",
              "      <td>3.000000</td>\n",
              "    </tr>\n",
              "    <tr>\n",
              "      <th>50%</th>\n",
              "      <td>37.000000</td>\n",
              "      <td>13.000000</td>\n",
              "      <td>173.300000</td>\n",
              "      <td>27680.160000</td>\n",
              "      <td>699.240000</td>\n",
              "      <td>4.000000</td>\n",
              "    </tr>\n",
              "    <tr>\n",
              "      <th>75%</th>\n",
              "      <td>51.000000</td>\n",
              "      <td>17.000000</td>\n",
              "      <td>371.690000</td>\n",
              "      <td>40934.845000</td>\n",
              "      <td>765.345000</td>\n",
              "      <td>5.000000</td>\n",
              "    </tr>\n",
              "    <tr>\n",
              "      <th>max</th>\n",
              "      <td>64.000000</td>\n",
              "      <td>26.000000</td>\n",
              "      <td>3040.410000</td>\n",
              "      <td>99914.050000</td>\n",
              "      <td>2069.069761</td>\n",
              "      <td>5.000000</td>\n",
              "    </tr>\n",
              "  </tbody>\n",
              "</table>\n",
              "</div>"
            ],
            "text/plain": [
              "              Idade  ...  pontuação de risco de rotatividade\n",
              "count  20995.000000  ...                        20995.000000\n",
              "mean      37.037056  ...                            3.598762\n",
              "std       15.880567  ...                            1.180846\n",
              "min       10.000000  ...                            1.000000\n",
              "25%       23.000000  ...                            3.000000\n",
              "50%       37.000000  ...                            4.000000\n",
              "75%       51.000000  ...                            5.000000\n",
              "max       64.000000  ...                            5.000000\n",
              "\n",
              "[8 rows x 6 columns]"
            ]
          },
          "metadata": {
            "tags": []
          },
          "execution_count": 15
        }
      ]
    },
    {
      "cell_type": "code",
      "metadata": {
        "id": "4Ua9wP--x3AE"
      },
      "source": [
        "colunas = ['Gênero sexual', 'categoria de região', 'categoria de associação',\n",
        "       'juntou-se por referência','tipos de oferta preferidos', 'meio de operação', 'opção de internet',\n",
        "       'desconto especial usado', 'oferecer preferência de aplicativo',\n",
        "       'reclamação anterior', 'status de reclamação', 'comentários' ]"
      ],
      "execution_count": 16,
      "outputs": []
    },
    {
      "cell_type": "code",
      "metadata": {
        "id": "8pJqaOVtyOXz",
        "outputId": "6746af4e-f862-4716-dc7e-1c4e2e099b19",
        "colab": {
          "base_uri": "https://localhost:8080/",
          "height": 1000
        }
      },
      "source": [
        "for i in colunas:\n",
        "  df.groupby([i])['pontuação de risco de rotatividade'].sum().plot(kind='bar',subplots=False,title=i)\n",
        "  plt.show();\n",
        "  print('\\n\\n')"
      ],
      "execution_count": 17,
      "outputs": [
        {
          "output_type": "display_data",
          "data": {
            "image/png": "[encoded data removed]",
            "text/plain": [
              "<Figure size 432x288 with 1 Axes>"
            ]
          },
          "metadata": {
            "tags": [],
            "needs_background": "light"
          }
        },
        {
          "output_type": "stream",
          "text": [
            "\n",
            "\n",
            "\n"
          ],
          "name": "stdout"
        },
        {
          "output_type": "display_data",
          "data": {
            "image/png": "[encoded data removed]",
            "text/plain": [
              "<Figure size 432x288 with 1 Axes>"
            ]
          },
          "metadata": {
            "tags": [],
            "needs_background": "light"
          }
        },
        {
          "output_type": "stream",
          "text": [
            "\n",
            "\n",
            "\n"
          ],
          "name": "stdout"
        },
        {
          "output_type": "display_data",
          "data": {
            "image/png": "[encoded data removed]",
            "text/plain": [
              "<Figure size 432x288 with 1 Axes>"
            ]
          },
          "metadata": {
            "tags": [],
            "needs_background": "light"
          }
        },
        {
          "output_type": "stream",
          "text": [
            "\n",
            "\n",
            "\n"
          ],
          "name": "stdout"
        },
        {
          "output_type": "display_data",
          "data": {
            "image/png": "[encoded data removed]",
            "text/plain": [
              "<Figure size 432x288 with 1 Axes>"
            ]
          },
          "metadata": {
            "tags": [],
            "needs_background": "light"
          }
        },
        {
          "output_type": "stream",
          "text": [
            "\n",
            "\n",
            "\n"
          ],
          "name": "stdout"
        },
        {
          "output_type": "display_data",
          "data": {
            "image/png": "[encoded data removed]",
            "text/plain": [
              "<Figure size 432x288 with 1 Axes>"
            ]
          },
          "metadata": {
            "tags": [],
            "needs_background": "light"
          }
        },
        {
          "output_type": "stream",
          "text": [
            "\n",
            "\n",
            "\n"
          ],
          "name": "stdout"
        },
        {
          "output_type": "display_data",
          "data": {
            "image/png": "[encoded data removed]",
            "text/plain": [
              "<Figure size 432x288 with 1 Axes>"
            ]
          },
          "metadata": {
            "tags": [],
            "needs_background": "light"
          }
        },
        {
          "output_type": "stream",
          "text": [
            "\n",
            "\n",
            "\n"
          ],
          "name": "stdout"
        },
        {
          "output_type": "display_data",
          "data": {
            "image/png": "[encoded data removed]",
            "text/plain": [
              "<Figure size 432x288 with 1 Axes>"
            ]
          },
          "metadata": {
            "tags": [],
            "needs_background": "light"
          }
        },
        {
          "output_type": "stream",
          "text": [
            "\n",
            "\n",
            "\n"
          ],
          "name": "stdout"
        },
        {
          "output_type": "display_data",
          "data": {
            "image/png": "[encoded data removed]",
            "text/plain": [
              "<Figure size 432x288 with 1 Axes>"
            ]
          },
          "metadata": {
            "tags": [],
            "needs_background": "light"
          }
        },
        {
          "output_type": "stream",
          "text": [
            "\n",
            "\n",
            "\n"
          ],
          "name": "stdout"
        },
        {
          "output_type": "display_data",
          "data": {
            "image/png": "[encoded data removed]",
            "text/plain": [
              "<Figure size 432x288 with 1 Axes>"
            ]
          },
          "metadata": {
            "tags": [],
            "needs_background": "light"
          }
        },
        {
          "output_type": "stream",
          "text": [
            "\n",
            "\n",
            "\n"
          ],
          "name": "stdout"
        },
        {
          "output_type": "display_data",
          "data": {
            "image/png": "[encoded data removed]",
            "text/plain": [
              "<Figure size 432x288 with 1 Axes>"
            ]
          },
          "metadata": {
            "tags": [],
            "needs_background": "light"
          }
        },
        {
          "output_type": "stream",
          "text": [
            "\n",
            "\n",
            "\n"
          ],
          "name": "stdout"
        },
        {
          "output_type": "display_data",
          "data": {
            "image/png": "[encoded data removed]",
            "text/plain": [
              "<Figure size 432x288 with 1 Axes>"
            ]
          },
          "metadata": {
            "tags": [],
            "needs_background": "light"
          }
        },
        {
          "output_type": "stream",
          "text": [
            "\n",
            "\n",
            "\n"
          ],
          "name": "stdout"
        },
        {
          "output_type": "display_data",
          "data": {
            "image/png": "[encoded data removed]",
            "text/plain": [
              "<Figure size 432x288 with 1 Axes>"
            ]
          },
          "metadata": {
            "tags": [],
            "needs_background": "light"
          }
        },
        {
          "output_type": "stream",
          "text": [
            "\n",
            "\n",
            "\n"
          ],
          "name": "stdout"
        }
      ]
    }
  ]
}