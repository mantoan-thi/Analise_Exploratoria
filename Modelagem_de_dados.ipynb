{
  "cells": [
    {
      "cell_type": "markdown",
      "metadata": {
        "id": "view-in-github",
        "colab_type": "text"
      },
      "source": [
        "<a href=\"https://colab.research.google.com/github/mantoan-thi/Exploratory-Analysis/blob/main/Modelagem_de_dados.ipynb\" target=\"_parent\"><img src=\"https://colab.research.google.com/assets/colab-badge.svg\" alt=\"Open In Colab\"/></a>"
      ]
    },
    {
      "cell_type": "code",
      "source": [
        "!pip install pycep-correios"
      ],
      "metadata": {
        "id": "fDXwOL6_36VT"
      },
      "execution_count": null,
      "outputs": []
    },
    {
      "cell_type": "code",
      "execution_count": 179,
      "metadata": {
        "id": "0w-yqkX1klq5"
      },
      "outputs": [],
      "source": [
        "import pandas as pd\n",
        "import re\n",
        "from pycep_correios import get_address_from_cep, WebService, exceptions\n",
        "import time\n",
        "import timeit"
      ]
    },
    {
      "cell_type": "code",
      "execution_count": 180,
      "metadata": {
        "id": "XDwiC0ApkuwF"
      },
      "outputs": [],
      "source": [
        "df = pd.read_csv('/content/GUIRRA E SANTANA clientes extraídos_7372.CSV', sep=';', encoding='latin-1')\n",
        "# Removendo dados duplicados e deixando a primeira ocorrência da repetição \n",
        "df.drop_duplicates(keep='first', inplace=True) "
      ]
    },
    {
      "cell_type": "code",
      "execution_count": 181,
      "metadata": {
        "id": "gxEJIdgSz1S4"
      },
      "outputs": [],
      "source": [
        "def verificar_cidade_bairro(x,y,z):\n",
        "  if pd.isna(x)== False:\n",
        "    try:\n",
        "        address = get_address_from_cep(x, webservice=WebService.APICEP)\n",
        "        cidade = str(address['cidade']).upper()\n",
        "        bairro = str(address['logradouro']).upper()\n",
        "        return cidade,bairro\n",
        "        #return address\n",
        "    except exceptions.InvalidCEP as eic:\n",
        "        return y,z\n",
        "    except exceptions.CEPNotFound as ecnf:\n",
        "        return y,z\n",
        "    except exceptions.ConnectionError as errc:\n",
        "        return y,z\n",
        "    except exceptions.Timeout as errt:\n",
        "        return y,z\n",
        "    except exceptions.HTTPError as errh:\n",
        "        return y,z\n",
        "    except exceptions.BaseException as e:\n",
        "        return y,z\n",
        "  else:\n",
        "    return y,z"
      ]
    },
    {
      "cell_type": "code",
      "execution_count": 182,
      "metadata": {
        "id": "7eQbAwGMWTOZ"
      },
      "outputs": [],
      "source": [
        "# Formatando CPF\n",
        "def formatar_cpf(x):\n",
        "  if pd.isna(x)== False:\n",
        "    x = str(x).replace('.','')\n",
        "    x = x.replace(' ','')\n",
        "    x = x.replace(',','')\n",
        "    x = x.replace('/','')\n",
        "    x = x.replace('-','')\n",
        "    x = x.replace(\"''\",'')\n",
        "    x = x.replace(\"'\",'')\n",
        "    x = x.replace(\"+\",'')\n",
        "    if len(x) == 11:\n",
        "        x = x.zfill(11)\n",
        "        cpf = '{}.{}.{}-{}'.format(x[:3], x[3:6], x[6:9], x[9:])\n",
        "        return cpf\n",
        "    elif len(x) == 10:\n",
        "        x = str(0)+x\n",
        "        x = x.zfill(11)\n",
        "        cpf = '{}.{}.{}-{}'.format(x[:3], x[3:6], x[6:9], x[9:])\n",
        "        return cpf\n",
        "    else:\n",
        "      return x\n",
        "  else:\n",
        "    return x"
      ]
    },
    {
      "cell_type": "code",
      "execution_count": 183,
      "metadata": {
        "id": "XVb44MniXchk"
      },
      "outputs": [],
      "source": [
        "# Checar valores duplicados\n",
        "def valore_duplicados(dados,coluna):\n",
        "  valores = []\n",
        "  repetidos = set()\n",
        "\n",
        "  for dado in dados[coluna]:\n",
        "      if dado not in valores:\n",
        "          valores.append(dado)\n",
        "      else:\n",
        "          repetidos.add(dado)\n",
        "  return valores,repetidos"
      ]
    },
    {
      "cell_type": "code",
      "execution_count": 184,
      "metadata": {
        "id": "-muPk2OZxWfj"
      },
      "outputs": [],
      "source": [
        "def juntar_nome_cpf1(df,repetidos):\n",
        "  for i in range(0,df.shape[0]):\n",
        "    nome = df['PES.nome'].iloc[i]\n",
        "    if nome in repetidos:\n",
        "      for j in range(i+1,df.shape[0]):\n",
        "        if str(df['PES.nome'].iloc[i]) == str(df['PES.nome'].iloc[j]) and str(df['PES.cpf_cnpj'].iloc[i]) != str(df['PES.cpf_cnpj'].iloc[j]):\n",
        "          df['PES.nome'].iloc[j] = str(df['PES.nome'].iloc[j])+' '+str(df['PES.cpf_cnpj'].iloc[j])\n",
        "        else:\n",
        "          if str(df['PES.nome'].iloc[i]) == str(df['PES.nome'].iloc[j]) and str(df['PES.cpf_cnpj'].iloc[i]) == str(df['PES.cpf_cnpj'].iloc[j]):\n",
        "\n",
        "            # Telefone\n",
        "            if len(str(df['PES.telefones'].iloc[i]))>= len(str(df['PES.telefones'].iloc[j])):\n",
        "                df['PES.telefones'].iloc[j] = df['PES.telefones'].iloc[i]\n",
        "            if len(str(df['PES.telefones'].iloc[i])) <= len(str(df['PES.telefones'].iloc[j])):\n",
        "                df['PES.telefones'].iloc[i] = df['PES.telefones'].iloc[j]\n",
        "\n",
        "            if str(df['PES.telefones'].iloc[i]) == 'NaN':\n",
        "                df['PES.telefones'].iloc[i] = df['PES.telefones'].iloc[j]\n",
        "            else:\n",
        "                df['PES.telefones'].iloc[j] = df['PES.telefones'].iloc[i]\n",
        "            # Endereço\n",
        "            if len(str(df['PES.endereco'].iloc[i]))>= len(str(df['PES.endereco'].iloc[j])):\n",
        "                df['PES.endereco'].iloc[j] = df['PES.endereco'].iloc[i]\n",
        "            if len(str(df['PES.endereco'].iloc[i])) <= len(str(df['PES.endereco'].iloc[j])):\n",
        "                df['PES.endereco'].iloc[i] = df['PES.endereco'].iloc[j]\n",
        "            \n",
        "            # Bairro\n",
        "            if len(str(df['PES.bairro'].iloc[i]))>= len(str(df['PES.bairro'].iloc[j])):\n",
        "                df['PES.bairro'].iloc[j] = df['PES.bairro'].iloc[i]\n",
        "            if len(str(df['PES.bairro'].iloc[i])) <= len(str(df['PES.bairro'].iloc[j])):\n",
        "                df['PES.bairro'].iloc[i] = df['PES.bairro'].iloc[j]\n",
        "            # cep\n",
        "            if len(str(df['PES.cep'].iloc[i]))>= len(str(df['PES.cep'].iloc[j])):\n",
        "                df['PES.cep'].iloc[j] = df['PES.cep'].iloc[i]\n",
        "            if len(str(df['PES.cep'].iloc[i])) <= len(str(df['PES.cep'].iloc[j])):\n",
        "                df['PES.cep'].iloc[i] = df['PES.cep'].iloc[j]\n",
        "\n",
        "            # Informações\n",
        "            if len(str(df['PES.outras_informacoes'].iloc[i]))>= len(str(df['PES.outras_informacoes'].iloc[j])):\n",
        "                df['PES.outras_informacoes'].iloc[j] = df['PES.outras_informacoes'].iloc[i]\n",
        "            if len(str(df['PES.outras_informacoes'].iloc[i])) <= len(str(df['PES.outras_informacoes'].iloc[j])):\n",
        "                df['PES.outras_informacoes'].iloc[i] = df['PES.outras_informacoes'].iloc[j]\n",
        "\n",
        "            # Cidade\n",
        "            if len(str(df['PES.cidade'].iloc[i]))>= len(str(df['PES.cidade'].iloc[j])):\n",
        "                df['PES.cidade'].iloc[j] = df['PES.cidade'].iloc[i]\n",
        "            if len(str(df['PES.cidade'].iloc[i])) <= len(str(df['PES.cidade'].iloc[j])):\n",
        "                df['PES.cidade'].iloc[i] = df['PES.cidade'].iloc[j]\n",
        "            break\n",
        "  df.drop_duplicates(keep='first', inplace=True) \n",
        "  return df"
      ]
    },
    {
      "cell_type": "code",
      "execution_count": 185,
      "metadata": {
        "id": "6DK93fwBWKQM"
      },
      "outputs": [],
      "source": [
        "def juntar_nome_cpf2(df,repetidos):\n",
        "  for i in range(0,df.shape[0]):\n",
        "    nome = df['PES.cpf_cnpj'].iloc[i]\n",
        "    if nome in repetidos:\n",
        "      for j in range(0,df.shape[0]):\n",
        "        if str(df['PES.nome'].iloc[i]) == str(df['PES.nome'].iloc[j]) and str(df['PES.cpf_cnpj'].iloc[i]) != str(df['PES.cpf_cnpj'].iloc[j]) and i!=j:\n",
        "          df['PES.nome'].iloc[j] = str(df['PES.nome'].iloc[j])+' '+str(df['PES.cpf_cnpj'].iloc[j])\n",
        "\n",
        "        elif str(df['PES.nome'].iloc[i]) != str(df['PES.nome'].iloc[j]) and str(df['PES.cpf_cnpj'].iloc[i]) == str(df['PES.cpf_cnpj'].iloc[j]):\n",
        "          if len(str(df['PES.nome'].iloc[i])) >= len(str(df['PES.nome'].iloc[j])):\n",
        "            df['PES.nome'].iloc[j] = str(df['PES.nome'].iloc[i])\n",
        "          else:\n",
        "              df['PES.nome'].iloc[i] = str(df['PES.nome'].iloc[j])\n",
        "\n",
        "        else:\n",
        "          if str(df['PES.nome'].iloc[i]) == str(df['PES.nome'].iloc[j]) and str(df['PES.cpf_cnpj'].iloc[i]) == str(df['PES.cpf_cnpj'].iloc[j]) and i!=j:\n",
        "\n",
        "            # Telefone\n",
        "            if len(str(df['PES.telefones'].iloc[i]))>= len(str(df['PES.telefones'].iloc[j])):\n",
        "                df['PES.telefones'].iloc[j] = df['PES.telefones'].iloc[i]\n",
        "            if len(str(df['PES.telefones'].iloc[i])) <= len(str(df['PES.telefones'].iloc[j])):\n",
        "                df['PES.telefones'].iloc[i] = df['PES.telefones'].iloc[j]\n",
        "            if pd.isna(str(df['PES.telefones'].iloc[i])):\n",
        "                df['PES.telefones'].iloc[i] = df['PES.telefones'].iloc[j]\n",
        "            else:\n",
        "                df['PES.telefones'].iloc[j] = df['PES.telefones'].iloc[i]\n",
        "            # Endereço\n",
        "            if len(str(df['PES.endereco'].iloc[i]))>= len(str(df['PES.endereco'].iloc[j])):\n",
        "                df['PES.endereco'].iloc[j] = df['PES.endereco'].iloc[i]\n",
        "            if len(str(df['PES.endereco'].iloc[i])) <= len(str(df['PES.endereco'].iloc[j])):\n",
        "                df['PES.endereco'].iloc[i] = df['PES.endereco'].iloc[j]\n",
        "            \n",
        "            # Bairro\n",
        "            if len(str(df['PES.bairro'].iloc[i]))>= len(str(df['PES.bairro'].iloc[j])):\n",
        "                df['PES.bairro'].iloc[j] = df['PES.bairro'].iloc[i]\n",
        "            if len(str(df['PES.bairro'].iloc[i])) <= len(str(df['PES.bairro'].iloc[j])):\n",
        "                df['PES.bairro'].iloc[i] = df['PES.bairro'].iloc[j]\n",
        "            # cep\n",
        "            if len(str(df['PES.cep'].iloc[i]))>= len(str(df['PES.cep'].iloc[j])):\n",
        "                df['PES.cep'].iloc[j] = df['PES.cep'].iloc[i]\n",
        "            if len(str(df['PES.cep'].iloc[i])) <= len(str(df['PES.cep'].iloc[j])):\n",
        "                df['PES.cep'].iloc[i] = df['PES.cep'].iloc[j]\n",
        "\n",
        "            # Informações\n",
        "            if len(str(df['PES.outras_informacoes'].iloc[i]))>= len(str(df['PES.outras_informacoes'].iloc[j])):\n",
        "                df['PES.outras_informacoes'].iloc[j] = df['PES.outras_informacoes'].iloc[i]\n",
        "            if len(str(df['PES.outras_informacoes'].iloc[i])) <= len(str(df['PES.outras_informacoes'].iloc[j])):\n",
        "                df['PES.outras_informacoes'].iloc[i] = df['PES.outras_informacoes'].iloc[j]\n",
        "\n",
        "            # Cidade\n",
        "            if len(str(df['PES.cidade'].iloc[i]))>= len(str(df['PES.cidade'].iloc[j])):\n",
        "                df['PES.cidade'].iloc[j] = df['PES.cidade'].iloc[i]\n",
        "            if len(str(df['PES.cidade'].iloc[i])) <= len(str(df['PES.cidade'].iloc[j])):\n",
        "                df['PES.cidade'].iloc[i] = df['PES.cidade'].iloc[j]\n",
        "            break\n",
        "  df.drop_duplicates(keep='first', inplace=True) \n",
        "  return df"
      ]
    },
    {
      "cell_type": "code",
      "execution_count": 186,
      "metadata": {
        "id": "UUTU25e7aHao"
      },
      "outputs": [],
      "source": [
        "def formatar_tel1(x):\n",
        "  if pd.isna(x)== False:\n",
        "    cel = str(x.split('/')[0])\n",
        "    cel = cel.replace('-','')\n",
        "    cel = cel.replace(' ','')\n",
        "    cel = cel.replace('.','')\n",
        "    cel = cel.replace('(','')\n",
        "    cel = cel.replace(')','')\n",
        "    if len(cel)>=8:\n",
        "      new_dig = ''\n",
        "      for dig in cel:\n",
        "        if dig.isdigit():\n",
        "          new_dig = new_dig+dig\n",
        "      cel =new_dig\n",
        "\n",
        "    if len(cel)>= 8 and len(cel)<=12:\n",
        "      cel = str(int(cel))\n",
        "      return cel\n",
        "    else:\n",
        "      return x\n",
        "  else:\n",
        "    return x"
      ]
    },
    {
      "cell_type": "code",
      "execution_count": 187,
      "metadata": {
        "id": "AGxExp4qlwDw"
      },
      "outputs": [],
      "source": [
        "def formatar_tel2(x):\n",
        "  if pd.isna(x) == False:\n",
        "    cel = str(x.split('-')[0])\n",
        "    cel = cel.replace('-','')\n",
        "    cel = cel.replace(' ','')\n",
        "    cel = cel.replace('.','')\n",
        "    cel = cel.replace('(','')\n",
        "    cel = cel.replace(')','')\n",
        "    if len(cel)>=8:\n",
        "      new_dig = ''\n",
        "      for dig in cel:\n",
        "        if dig.isdigit():\n",
        "          new_dig = new_dig+dig\n",
        "      cel =new_dig\n",
        "\n",
        "    if len(cel)>= 8 and len(cel)<=12:\n",
        "      cel = str(int(cel))\n",
        "      return cel\n",
        "    else:\n",
        "      return x\n",
        "  else:\n",
        "    return x"
      ]
    },
    {
      "cell_type": "code",
      "execution_count": 188,
      "metadata": {
        "id": "4sVUAD2BGAv0"
      },
      "outputs": [],
      "source": [
        "def formatar_tel3(x):\n",
        "  if pd.isna(x) == False:\n",
        "    cel = str(x.split('ou')[0])\n",
        "    cel = cel.replace('-','')\n",
        "    cel = cel.replace(' ','')\n",
        "    cel = cel.replace('.','')\n",
        "    cel = cel.replace('(','')\n",
        "    cel = cel.replace(')','')\n",
        "    if len(cel)>=8:\n",
        "      new_dig = ''\n",
        "      for dig in cel:\n",
        "        if dig.isdigit():\n",
        "          new_dig = new_dig+dig\n",
        "      cel =new_dig\n",
        "\n",
        "    if len(cel)>= 8 and len(cel)<=12:\n",
        "      cel = str(int(cel))\n",
        "      return cel\n",
        "    else:\n",
        "      return x\n",
        "  else:\n",
        "    return x"
      ]
    },
    {
      "cell_type": "code",
      "execution_count": 189,
      "metadata": {
        "id": "twl5yXm9GaNc"
      },
      "outputs": [],
      "source": [
        "def formatar_tel4(x):\n",
        "  if pd.isna(x) == False:\n",
        "    cel = str(x.split(' - ')[0])\n",
        "    cel = cel.replace('-','')\n",
        "    cel = cel.replace(' ','')\n",
        "    cel = cel.replace('.','')\n",
        "    cel = cel.replace('(','')\n",
        "    cel = cel.replace(')','')\n",
        "    if len(cel)>=8:\n",
        "      new_dig = ''\n",
        "      for dig in cel:\n",
        "        if dig.isdigit():\n",
        "          new_dig = new_dig+dig\n",
        "      cel =new_dig\n",
        "\n",
        "    if len(cel)>= 8 and len(cel)<=12:\n",
        "      cel = str(int(cel))\n",
        "      return cel\n",
        "    else:\n",
        "      return x\n",
        "  else:\n",
        "    return x"
      ]
    },
    {
      "cell_type": "code",
      "execution_count": 190,
      "metadata": {
        "id": "CsnGhYksGjNB"
      },
      "outputs": [],
      "source": [
        "def formatar_tel5(x):\n",
        "  if pd.isna(x) == False:\n",
        "    cel = str(x.split(' ')[0])\n",
        "    cel = cel.replace('-','')\n",
        "    cel = cel.replace(' ','')\n",
        "    cel = cel.replace('.','')\n",
        "    cel = cel.replace('(','')\n",
        "    cel = cel.replace(')','')\n",
        "    if len(cel)>=8:\n",
        "      new_dig = ''\n",
        "      for dig in cel:\n",
        "        if dig.isdigit():\n",
        "          new_dig = new_dig+dig\n",
        "      cel =new_dig\n",
        "\n",
        "    if len(cel)>= 8 and len(cel)<=12:\n",
        "      cel = str(int(cel))\n",
        "      return cel\n",
        "    else:\n",
        "      return x\n",
        "  else:\n",
        "    return x"
      ]
    },
    {
      "cell_type": "code",
      "execution_count": 191,
      "metadata": {
        "id": "NXsmuzYfHDqK"
      },
      "outputs": [],
      "source": [
        "def formatar_tel5(x):\n",
        "    if pd.isna(x) == False:\n",
        "      if len(str(x))==8:\n",
        "        return '(00) {}-{}'.format(x[:4],x[4:])\n",
        "      elif len(str(x))==9:\n",
        "        return '(00) {}-{}'.format(x[:5],x[5:])\n",
        "      elif len(str(x))==10:\n",
        "        return '({}) {}-{}'.format(x[:2],x[2:6],x[6:])\n",
        "      elif len(str(x))==11:\n",
        "        return '({}) {}-{}'.format(x[:2],x[2:7],x[7:])\n",
        "      return x\n",
        "    else:\n",
        "      return x"
      ]
    },
    {
      "cell_type": "code",
      "execution_count": 192,
      "metadata": {
        "id": "oj7EXckZK9wa"
      },
      "outputs": [],
      "source": [
        "def remove_ultimo_espaco(x):\n",
        "  if pd.isna(x) == False:\n",
        "    new_x = \" \".join(x.split())\n",
        "    return re.sub(r\"^\\s+|\\s+$\", \"\", new_x)\n",
        "  else:\n",
        "    return x"
      ]
    },
    {
      "cell_type": "code",
      "execution_count": 193,
      "metadata": {
        "id": "GHLhRGi3OsM_"
      },
      "outputs": [],
      "source": [
        "def format_cep(x):\n",
        "  if pd.isna(x) == False:\n",
        "    cep = str(x).replace('-','')\n",
        "    cep = cep.replace(' ','')\n",
        "    cep = cep.replace('.','')\n",
        "    cep = cep.replace('(','')\n",
        "    cep = cep.replace(')','')\n",
        "    if len(str(cep))==5:\n",
        "      return '{}-000'.format(cep[:5])\n",
        "    elif len(str(cep))==6:\n",
        "      return '{}-{}00'.format(cep[:5],cep[5:6])\n",
        "    elif len(str(cep))==7:\n",
        "      return '{}-{}0'.format(cep[:5],cep[5:7])\n",
        "    elif len(str(cep))==8:\n",
        "      return '{}-{}'.format(cep[:5],cep[5:])\n",
        "    else:\n",
        "      return None\n",
        "  else:\n",
        "    return x"
      ]
    },
    {
      "cell_type": "code",
      "source": [
        "def alguma_funcao():\n",
        "    for i in range(1, 5):\n",
        "        time.sleep(1)"
      ],
      "metadata": {
        "id": "R6vvSLOJJwBK"
      },
      "execution_count": 194,
      "outputs": []
    },
    {
      "cell_type": "code",
      "execution_count": null,
      "metadata": {
        "colab": {
          "base_uri": "https://localhost:8080/"
        },
        "id": "oT3EFlRJvNd7",
        "outputId": "f439b432-e9d2-400c-f7c3-08f1a959f89e"
      },
      "outputs": [
        {
          "output_type": "stream",
          "name": "stdout",
          "text": [
            "Qtde de linhas antes do processamento: 9993\n"
          ]
        }
      ],
      "source": [
        "inicio = timeit.default_timer()\n",
        "print('Qtde de linhas antes do processamento:',df.shape[0])\n",
        "\n",
        "\n",
        "# Manter somente linhas com pelo menos 2 valores que não sejam nan\n",
        "df.dropna(thresh=2,inplace=True)\n",
        "\n",
        "# Tratamento de Cep\n",
        "df['PES.cep'] = df['PES.cep'].apply(lambda x:format_cep(x))\n",
        "df.drop_duplicates(keep='first', inplace=True) \n",
        "\n",
        "# Tratamento de Bairro/cidade\n",
        "try:\n",
        "  df['PES.cidade'],df['PES.bairro'] = df.apply(lambda x:verificar_cidade_bairro(x['PES.cep'],x['PES.cidade'],x['PES.bairro']),axis=1)\n",
        "except:\n",
        "  print(\"An exception occurred\")\n",
        "\n",
        "df.drop_duplicates(keep='first', inplace=True) \n",
        "\n",
        "\n",
        "for i in range(0,2):\n",
        "\n",
        "  # Remove os espaços no final do nome\n",
        "  for c in df.columns:\n",
        "    df[c] = df[c].apply(lambda x:remove_ultimo_espaco(x))\n",
        "  df['PES.cpf_cnpj'] = df['PES.cpf_cnpj'].apply(lambda x:formatar_cpf(x))\n",
        "\n",
        "  # Tratamento dos números de telefones\n",
        "  df['PES.telefones'] = df['PES.telefones'].apply(lambda x:formatar_tel1(x))\n",
        "  df['PES.telefones'] = df['PES.telefones'].apply(lambda x:formatar_tel2(x))\n",
        "  df['PES.telefones'] = df['PES.telefones'].apply(lambda x:formatar_tel3(x))\n",
        "  df['PES.telefones'] = df['PES.telefones'].apply(lambda x:formatar_tel4(x))\n",
        "  df['PES.telefones'] = df['PES.telefones'].apply(lambda x:formatar_tel5(x))\n",
        "  df['PES.telefones'] = df['PES.telefones'].apply(lambda x:formatar_tel5(x))\n",
        "  df.drop_duplicates(keep='first', inplace=True) \n",
        "\n",
        "  # Tratamento dos números de CPF\n",
        "  df['PES.cpf_cnpj'] = df['PES.cpf_cnpj'].apply(lambda x:formatar_cpf(x))\n",
        "\n",
        "  # equiparando os dados\n",
        "  v_,repetidos = valore_duplicados(df,'PES.nome')\n",
        "  df = juntar_nome_cpf1(df,repetidos)\n",
        "\n",
        "\n",
        "  _repetidos = valore_duplicados(df,'PES.cpf_cnpj')\n",
        "  df = juntar_nome_cpf2(df,repetidos)\n",
        "print('Qtde de linhas após o processamento:',df.shape[0])\n",
        "\n",
        "print('\\n\\nVerificando valores duplicados por coluna\\n')\n",
        "for c in df.columns:\n",
        "  _,repetidos = valore_duplicados(df,c)\n",
        "  print(f'Valores repetidos em {c} ',len(repetidos))\n",
        "\n",
        "fim = timeit.default_timer()\n",
        "print ('Duracao: %f' % (fim - inicio))"
      ]
    },
    {
      "cell_type": "code",
      "source": [
        "df"
      ],
      "metadata": {
        "id": "z1abnkh75oNw"
      },
      "execution_count": null,
      "outputs": []
    }
  ],
  "metadata": {
    "colab": {
      "collapsed_sections": [],
      "name": "Modelagem de dados.ipynb",
      "provenance": [],
      "authorship_tag": "ABX9TyMv+oVmck0Wgu/hbeyjlmAS",
      "include_colab_link": true
    },
    "kernelspec": {
      "display_name": "Python 3",
      "name": "python3"
    },
    "language_info": {
      "name": "python"
    }
  },
  "nbformat": 4,
  "nbformat_minor": 0
}