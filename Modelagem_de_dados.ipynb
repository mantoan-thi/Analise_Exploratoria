{
  "nbformat": 4,
  "nbformat_minor": 0,
  "metadata": {
    "colab": {
      "name": "Modelagem de dados.ipynb",
      "provenance": [],
      "collapsed_sections": [],
      "authorship_tag": "ABX9TyO+fze4mVD9sLLlbj8FZ8kL",
      "include_colab_link": true
    },
    "kernelspec": {
      "name": "python3",
      "display_name": "Python 3"
    },
    "language_info": {
      "name": "python"
    }
  },
  "cells": [
    {
      "cell_type": "markdown",
      "metadata": {
        "id": "view-in-github",
        "colab_type": "text"
      },
      "source": [
        "<a href=\"https://colab.research.google.com/github/mantoan-thi/Exploratory-Analysis/blob/main/Modelagem_de_dados.ipynb\" target=\"_parent\"><img src=\"https://colab.research.google.com/assets/colab-badge.svg\" alt=\"Open In Colab\"/></a>"
      ]
    },
    {
      "cell_type": "code",
      "execution_count": 157,
      "metadata": {
        "id": "0w-yqkX1klq5"
      },
      "outputs": [],
      "source": [
        "import pandas as pd\n",
        "import re\n",
        "from pycep_correios import get_address_from_cep, WebService, exceptions"
      ]
    },
    {
      "cell_type": "code",
      "source": [
        "df = pd.read_csv('/content/GUIRRA E SANTANA clientes extraídos_7372.CSV', sep=';', encoding='latin-1')\n",
        "# Removendo dados duplicados e deixando a primeira ocorrência da repetição \n",
        "df.drop_duplicates(keep='first', inplace=True) "
      ],
      "metadata": {
        "id": "XDwiC0ApkuwF"
      },
      "execution_count": 158,
      "outputs": []
    },
    {
      "cell_type": "code",
      "source": [
        "def verificar_cidade(x):\n",
        "  if pd.isna(x)== False:\n",
        "    try:\n",
        "        address = get_address_from_cep(x, webservice=WebService.APICEP)\n",
        "        return str(address['cidade']).upper()\n",
        "        #return address\n",
        "    except exceptions.InvalidCEP as eic:\n",
        "        return x\n",
        "    except exceptions.CEPNotFound as ecnf:\n",
        "        return x\n",
        "    except exceptions.ConnectionError as errc:\n",
        "        return x\n",
        "    except exceptions.Timeout as errt:\n",
        "        return x\n",
        "    except exceptions.HTTPError as errh:\n",
        "        return x\n",
        "    except exceptions.BaseException as e:\n",
        "        return x\n",
        "  else:\n",
        "    return x"
      ],
      "metadata": {
        "id": "gxEJIdgSz1S4"
      },
      "execution_count": 159,
      "outputs": []
    },
    {
      "cell_type": "code",
      "source": [
        "def verificar_bairro(x):\n",
        "  if pd.isna(x)== False:\n",
        "    try:\n",
        "        address = get_address_from_cep(x, webservice=WebService.APICEP)\n",
        "        return str(address['logradouro']).upper()\n",
        "        #return address\n",
        "    except exceptions.InvalidCEP as eic:\n",
        "        return x\n",
        "    except exceptions.CEPNotFound as ecnf:\n",
        "        return x\n",
        "    except exceptions.ConnectionError as errc:\n",
        "        return x\n",
        "    except exceptions.Timeout as errt:\n",
        "        return x\n",
        "    except exceptions.HTTPError as errh:\n",
        "        return x\n",
        "    except exceptions.BaseException as e:\n",
        "        return x\n",
        "  else:\n",
        "    return x"
      ],
      "metadata": {
        "id": "qZDBaOYJ1wD7"
      },
      "execution_count": 160,
      "outputs": []
    },
    {
      "cell_type": "code",
      "source": [
        "# Formatando CPF\n",
        "def formatar_cpf(x):\n",
        "  if pd.isna(x)== False:\n",
        "    x = str(x).replace('.','')\n",
        "    x = x.replace(' ','')\n",
        "    x = x.replace(',','')\n",
        "    x = x.replace('/','')\n",
        "    x = x.replace('-','')\n",
        "    x = x.replace(\"''\",'')\n",
        "    x = x.replace(\"'\",'')\n",
        "    x = x.replace(\"+\",'')\n",
        "    if len(x) == 11:\n",
        "        x = x.zfill(11)\n",
        "        cpf = '{}.{}.{}-{}'.format(x[:3], x[3:6], x[6:9], x[9:])\n",
        "        return cpf\n",
        "    elif len(x) == 10:\n",
        "        x = str(0)+x\n",
        "        x = x.zfill(11)\n",
        "        cpf = '{}.{}.{}-{}'.format(x[:3], x[3:6], x[6:9], x[9:])\n",
        "        return cpf\n",
        "    else:\n",
        "      return x\n",
        "  else:\n",
        "    return x"
      ],
      "metadata": {
        "id": "7eQbAwGMWTOZ"
      },
      "execution_count": 161,
      "outputs": []
    },
    {
      "cell_type": "code",
      "source": [
        "# Checar valores duplicados\n",
        "def valore_duplicados(dados,coluna):\n",
        "  valores = []\n",
        "  repetidos = set()\n",
        "\n",
        "  for dado in dados[coluna]:\n",
        "      if dado not in valores:\n",
        "          valores.append(dado)\n",
        "      else:\n",
        "          repetidos.add(dado)\n",
        "  return valores,repetidos"
      ],
      "metadata": {
        "id": "XVb44MniXchk"
      },
      "execution_count": 162,
      "outputs": []
    },
    {
      "cell_type": "code",
      "source": [
        "def juntar_nome_cpf1(df,repetidos):\n",
        "  for i in range(0,df.shape[0]):\n",
        "    nome = df['PES.nome'].iloc[i]\n",
        "    if nome in repetidos:\n",
        "      for j in range(i+1,df.shape[0]):\n",
        "        if str(df['PES.nome'].iloc[i]) == str(df['PES.nome'].iloc[j]) and str(df['PES.cpf_cnpj'].iloc[i]) != str(df['PES.cpf_cnpj'].iloc[j]):\n",
        "          df['PES.nome'].iloc[j] = str(df['PES.nome'].iloc[j])+' '+str(df['PES.cpf_cnpj'].iloc[j])\n",
        "        else:\n",
        "          if str(df['PES.nome'].iloc[i]) == str(df['PES.nome'].iloc[j]) and str(df['PES.cpf_cnpj'].iloc[i]) == str(df['PES.cpf_cnpj'].iloc[j]):\n",
        "\n",
        "            # Telefone\n",
        "            if len(str(df['PES.telefones'].iloc[i]))>= len(str(df['PES.telefones'].iloc[j])):\n",
        "                df['PES.telefones'].iloc[j] = df['PES.telefones'].iloc[i]\n",
        "            if len(str(df['PES.telefones'].iloc[i])) <= len(str(df['PES.telefones'].iloc[j])):\n",
        "                df['PES.telefones'].iloc[i] = df['PES.telefones'].iloc[j]\n",
        "\n",
        "            if str(df['PES.telefones'].iloc[i]) == 'NaN':\n",
        "                df['PES.telefones'].iloc[i] = df['PES.telefones'].iloc[j]\n",
        "            else:\n",
        "                df['PES.telefones'].iloc[j] = df['PES.telefones'].iloc[i]\n",
        "            # Endereço\n",
        "            if len(str(df['PES.endereco'].iloc[i]))>= len(str(df['PES.endereco'].iloc[j])):\n",
        "                df['PES.endereco'].iloc[j] = df['PES.endereco'].iloc[i]\n",
        "            if len(str(df['PES.endereco'].iloc[i])) <= len(str(df['PES.endereco'].iloc[j])):\n",
        "                df['PES.endereco'].iloc[i] = df['PES.endereco'].iloc[j]\n",
        "            \n",
        "            # Bairro\n",
        "            if len(str(df['PES.bairro'].iloc[i]))>= len(str(df['PES.bairro'].iloc[j])):\n",
        "                df['PES.bairro'].iloc[j] = df['PES.bairro'].iloc[i]\n",
        "            if len(str(df['PES.bairro'].iloc[i])) <= len(str(df['PES.bairro'].iloc[j])):\n",
        "                df['PES.bairro'].iloc[i] = df['PES.bairro'].iloc[j]\n",
        "            # cep\n",
        "            if len(str(df['PES.cep'].iloc[i]))>= len(str(df['PES.cep'].iloc[j])):\n",
        "                df['PES.cep'].iloc[j] = df['PES.cep'].iloc[i]\n",
        "            if len(str(df['PES.cep'].iloc[i])) <= len(str(df['PES.cep'].iloc[j])):\n",
        "                df['PES.cep'].iloc[i] = df['PES.cep'].iloc[j]\n",
        "\n",
        "            # Informações\n",
        "            if len(str(df['PES.outras_informacoes'].iloc[i]))>= len(str(df['PES.outras_informacoes'].iloc[j])):\n",
        "                df['PES.outras_informacoes'].iloc[j] = df['PES.outras_informacoes'].iloc[i]\n",
        "            if len(str(df['PES.outras_informacoes'].iloc[i])) <= len(str(df['PES.outras_informacoes'].iloc[j])):\n",
        "                df['PES.outras_informacoes'].iloc[i] = df['PES.outras_informacoes'].iloc[j]\n",
        "\n",
        "            # Cidade\n",
        "            if len(str(df['PES.cidade'].iloc[i]))>= len(str(df['PES.cidade'].iloc[j])):\n",
        "                df['PES.cidade'].iloc[j] = df['PES.cidade'].iloc[i]\n",
        "            if len(str(df['PES.cidade'].iloc[i])) <= len(str(df['PES.cidade'].iloc[j])):\n",
        "                df['PES.cidade'].iloc[i] = df['PES.cidade'].iloc[j]\n",
        "            break\n",
        "  df.drop_duplicates(keep='first', inplace=True) \n",
        "  return df"
      ],
      "metadata": {
        "id": "-muPk2OZxWfj"
      },
      "execution_count": 163,
      "outputs": []
    },
    {
      "cell_type": "code",
      "source": [
        "def juntar_nome_cpf2(df,repetidos):\n",
        "  for i in range(0,df.shape[0]):\n",
        "    nome = df['PES.cpf_cnpj'].iloc[i]\n",
        "    if nome in repetidos:\n",
        "      for j in range(0,df.shape[0]):\n",
        "        if str(df['PES.nome'].iloc[i]) == str(df['PES.nome'].iloc[j]) and str(df['PES.cpf_cnpj'].iloc[i]) != str(df['PES.cpf_cnpj'].iloc[j]) and i!=j:\n",
        "          df['PES.nome'].iloc[j] = str(df['PES.nome'].iloc[j])+' '+str(df['PES.cpf_cnpj'].iloc[j])\n",
        "\n",
        "        elif str(df['PES.nome'].iloc[i]) != str(df['PES.nome'].iloc[j]) and str(df['PES.cpf_cnpj'].iloc[i]) == str(df['PES.cpf_cnpj'].iloc[j]):\n",
        "          if len(str(df['PES.nome'].iloc[i])) >= len(str(df['PES.nome'].iloc[j])):\n",
        "            df['PES.nome'].iloc[j] = str(df['PES.nome'].iloc[i])\n",
        "          else:\n",
        "              df['PES.nome'].iloc[i] = str(df['PES.nome'].iloc[j])\n",
        "\n",
        "        else:\n",
        "          if str(df['PES.nome'].iloc[i]) == str(df['PES.nome'].iloc[j]) and str(df['PES.cpf_cnpj'].iloc[i]) == str(df['PES.cpf_cnpj'].iloc[j]) and i!=j:\n",
        "\n",
        "            # Telefone\n",
        "            if len(str(df['PES.telefones'].iloc[i]))>= len(str(df['PES.telefones'].iloc[j])):\n",
        "                df['PES.telefones'].iloc[j] = df['PES.telefones'].iloc[i]\n",
        "            if len(str(df['PES.telefones'].iloc[i])) <= len(str(df['PES.telefones'].iloc[j])):\n",
        "                df['PES.telefones'].iloc[i] = df['PES.telefones'].iloc[j]\n",
        "            if pd.isna(str(df['PES.telefones'].iloc[i])):\n",
        "                df['PES.telefones'].iloc[i] = df['PES.telefones'].iloc[j]\n",
        "            else:\n",
        "                df['PES.telefones'].iloc[j] = df['PES.telefones'].iloc[i]\n",
        "            # Endereço\n",
        "            if len(str(df['PES.endereco'].iloc[i]))>= len(str(df['PES.endereco'].iloc[j])):\n",
        "                df['PES.endereco'].iloc[j] = df['PES.endereco'].iloc[i]\n",
        "            if len(str(df['PES.endereco'].iloc[i])) <= len(str(df['PES.endereco'].iloc[j])):\n",
        "                df['PES.endereco'].iloc[i] = df['PES.endereco'].iloc[j]\n",
        "            \n",
        "            # Bairro\n",
        "            if len(str(df['PES.bairro'].iloc[i]))>= len(str(df['PES.bairro'].iloc[j])):\n",
        "                df['PES.bairro'].iloc[j] = df['PES.bairro'].iloc[i]\n",
        "            if len(str(df['PES.bairro'].iloc[i])) <= len(str(df['PES.bairro'].iloc[j])):\n",
        "                df['PES.bairro'].iloc[i] = df['PES.bairro'].iloc[j]\n",
        "            # cep\n",
        "            if len(str(df['PES.cep'].iloc[i]))>= len(str(df['PES.cep'].iloc[j])):\n",
        "                df['PES.cep'].iloc[j] = df['PES.cep'].iloc[i]\n",
        "            if len(str(df['PES.cep'].iloc[i])) <= len(str(df['PES.cep'].iloc[j])):\n",
        "                df['PES.cep'].iloc[i] = df['PES.cep'].iloc[j]\n",
        "\n",
        "            # Informações\n",
        "            if len(str(df['PES.outras_informacoes'].iloc[i]))>= len(str(df['PES.outras_informacoes'].iloc[j])):\n",
        "                df['PES.outras_informacoes'].iloc[j] = df['PES.outras_informacoes'].iloc[i]\n",
        "            if len(str(df['PES.outras_informacoes'].iloc[i])) <= len(str(df['PES.outras_informacoes'].iloc[j])):\n",
        "                df['PES.outras_informacoes'].iloc[i] = df['PES.outras_informacoes'].iloc[j]\n",
        "\n",
        "            # Cidade\n",
        "            if len(str(df['PES.cidade'].iloc[i]))>= len(str(df['PES.cidade'].iloc[j])):\n",
        "                df['PES.cidade'].iloc[j] = df['PES.cidade'].iloc[i]\n",
        "            if len(str(df['PES.cidade'].iloc[i])) <= len(str(df['PES.cidade'].iloc[j])):\n",
        "                df['PES.cidade'].iloc[i] = df['PES.cidade'].iloc[j]\n",
        "            break\n",
        "  df.drop_duplicates(keep='first', inplace=True) \n",
        "  return df"
      ],
      "metadata": {
        "id": "6DK93fwBWKQM"
      },
      "execution_count": 164,
      "outputs": []
    },
    {
      "cell_type": "code",
      "source": [
        "def formatar_tel1(x):\n",
        "  if pd.isna(x)== False:\n",
        "    cel = str(x.split('/')[0])\n",
        "    cel = cel.replace('-','')\n",
        "    cel = cel.replace(' ','')\n",
        "    cel = cel.replace('.','')\n",
        "    cel = cel.replace('(','')\n",
        "    cel = cel.replace(')','')\n",
        "    if len(cel)>=8:\n",
        "      new_dig = ''\n",
        "      for dig in cel:\n",
        "        if dig.isdigit():\n",
        "          new_dig = new_dig+dig\n",
        "      cel =new_dig\n",
        "\n",
        "    if len(cel)>= 8 and len(cel)<=12:\n",
        "      cel = str(int(cel))\n",
        "      return cel\n",
        "    else:\n",
        "      return x\n",
        "  else:\n",
        "    return x"
      ],
      "metadata": {
        "id": "UUTU25e7aHao"
      },
      "execution_count": 165,
      "outputs": []
    },
    {
      "cell_type": "code",
      "source": [
        "def formatar_tel2(x):\n",
        "  if pd.isna(x) == False:\n",
        "    cel = str(x.split('-')[0])\n",
        "    cel = cel.replace('-','')\n",
        "    cel = cel.replace(' ','')\n",
        "    cel = cel.replace('.','')\n",
        "    cel = cel.replace('(','')\n",
        "    cel = cel.replace(')','')\n",
        "    if len(cel)>=8:\n",
        "      new_dig = ''\n",
        "      for dig in cel:\n",
        "        if dig.isdigit():\n",
        "          new_dig = new_dig+dig\n",
        "      cel =new_dig\n",
        "\n",
        "    if len(cel)>= 8 and len(cel)<=12:\n",
        "      cel = str(int(cel))\n",
        "      return cel\n",
        "    else:\n",
        "      return x\n",
        "  else:\n",
        "    return x"
      ],
      "metadata": {
        "id": "AGxExp4qlwDw"
      },
      "execution_count": 166,
      "outputs": []
    },
    {
      "cell_type": "code",
      "source": [
        "def formatar_tel3(x):\n",
        "  if pd.isna(x) == False:\n",
        "    cel = str(x.split('ou')[0])\n",
        "    cel = cel.replace('-','')\n",
        "    cel = cel.replace(' ','')\n",
        "    cel = cel.replace('.','')\n",
        "    cel = cel.replace('(','')\n",
        "    cel = cel.replace(')','')\n",
        "    if len(cel)>=8:\n",
        "      new_dig = ''\n",
        "      for dig in cel:\n",
        "        if dig.isdigit():\n",
        "          new_dig = new_dig+dig\n",
        "      cel =new_dig\n",
        "\n",
        "    if len(cel)>= 8 and len(cel)<=12:\n",
        "      cel = str(int(cel))\n",
        "      return cel\n",
        "    else:\n",
        "      return x\n",
        "  else:\n",
        "    return x"
      ],
      "metadata": {
        "id": "4sVUAD2BGAv0"
      },
      "execution_count": 167,
      "outputs": []
    },
    {
      "cell_type": "code",
      "source": [
        "def formatar_tel4(x):\n",
        "  if pd.isna(x) == False:\n",
        "    cel = str(x.split(' - ')[0])\n",
        "    cel = cel.replace('-','')\n",
        "    cel = cel.replace(' ','')\n",
        "    cel = cel.replace('.','')\n",
        "    cel = cel.replace('(','')\n",
        "    cel = cel.replace(')','')\n",
        "    if len(cel)>=8:\n",
        "      new_dig = ''\n",
        "      for dig in cel:\n",
        "        if dig.isdigit():\n",
        "          new_dig = new_dig+dig\n",
        "      cel =new_dig\n",
        "\n",
        "    if len(cel)>= 8 and len(cel)<=12:\n",
        "      cel = str(int(cel))\n",
        "      return cel\n",
        "    else:\n",
        "      return x\n",
        "  else:\n",
        "    return x"
      ],
      "metadata": {
        "id": "twl5yXm9GaNc"
      },
      "execution_count": 168,
      "outputs": []
    },
    {
      "cell_type": "code",
      "source": [
        "def formatar_tel5(x):\n",
        "  if pd.isna(x) == False:\n",
        "    cel = str(x.split(' ')[0])\n",
        "    cel = cel.replace('-','')\n",
        "    cel = cel.replace(' ','')\n",
        "    cel = cel.replace('.','')\n",
        "    cel = cel.replace('(','')\n",
        "    cel = cel.replace(')','')\n",
        "    if len(cel)>=8:\n",
        "      new_dig = ''\n",
        "      for dig in cel:\n",
        "        if dig.isdigit():\n",
        "          new_dig = new_dig+dig\n",
        "      cel =new_dig\n",
        "\n",
        "    if len(cel)>= 8 and len(cel)<=12:\n",
        "      cel = str(int(cel))\n",
        "      return cel\n",
        "    else:\n",
        "      return x\n",
        "  else:\n",
        "    return x"
      ],
      "metadata": {
        "id": "CsnGhYksGjNB"
      },
      "execution_count": 169,
      "outputs": []
    },
    {
      "cell_type": "code",
      "source": [
        "def formatar_tel5(x):\n",
        "    if pd.isna(x) == False:\n",
        "      if len(str(x))==8:\n",
        "        return '(00) {}-{}'.format(x[:4],x[4:])\n",
        "      elif len(str(x))==9:\n",
        "        return '(00) {}-{}'.format(x[:5],x[5:])\n",
        "      elif len(str(x))==10:\n",
        "        return '({}) {}-{}'.format(x[:2],x[2:6],x[6:])\n",
        "      elif len(str(x))==11:\n",
        "        return '({}) {}-{}'.format(x[:2],x[2:7],x[7:])\n",
        "      return x\n",
        "    else:\n",
        "      return x"
      ],
      "metadata": {
        "id": "NXsmuzYfHDqK"
      },
      "execution_count": 170,
      "outputs": []
    },
    {
      "cell_type": "code",
      "source": [
        "def remove_ultimo_espaco(x):\n",
        "  if pd.isna(x) == False:\n",
        "    new_x = \" \".join(x.split())\n",
        "    return re.sub(r\"^\\s+|\\s+$\", \"\", new_x)\n",
        "  else:\n",
        "    return x"
      ],
      "metadata": {
        "id": "oj7EXckZK9wa"
      },
      "execution_count": 171,
      "outputs": []
    },
    {
      "cell_type": "code",
      "source": [
        "def format_cep(x):\n",
        "  if pd.isna(x) == False:\n",
        "    cep = str(x).replace('-','')\n",
        "    cep = cep.replace(' ','')\n",
        "    cep = cep.replace('.','')\n",
        "    cep = cep.replace('(','')\n",
        "    cep = cep.replace(')','')\n",
        "    if len(str(cep))==5:\n",
        "      return '{}-000'.format(cep[:5])\n",
        "    elif len(str(cep))==6:\n",
        "      return '{}-{}00'.format(cep[:5],cep[5:6])\n",
        "    elif len(str(cep))==7:\n",
        "      return '{}-{}0'.format(cep[:5],cep[5:7])\n",
        "    elif len(str(cep))==8:\n",
        "      return '{}-{}'.format(cep[:5],cep[5:])\n",
        "    else:\n",
        "      return None\n",
        "  else:\n",
        "    return x"
      ],
      "metadata": {
        "id": "GHLhRGi3OsM_"
      },
      "execution_count": 172,
      "outputs": []
    },
    {
      "cell_type": "code",
      "source": [
        "print('Qtde de linhas antes do processamento:',df.shape[0])\n",
        "\n",
        "\n",
        "# Manter somente linhas com pelo menos 2 valores que não sejam nan\n",
        "df.dropna(thresh=2,inplace=True)\n",
        "valores,repetidos = valore_duplicados(df,'PES.nome')\n",
        "\n",
        "# Tratamento de Cep\n",
        "df['PES.cep'] = df['PES.cep'].apply(lambda x:format_cep(x))\n",
        "valores,repetidos = valore_duplicados(df,'PES.nome')\n",
        "\n",
        "# Tratamento de cidade\n",
        "df['PES.cidade'] = df['PES.cep'].apply(lambda x:verificar_cidade(x))\n",
        "valores,repetidos = valore_duplicados(df,'PES.nome')\n",
        "\n",
        "# Tratamento de Bairro\n",
        "df['PES.bairro'] = df['PES.cep'].apply(lambda x:verificar_bairro(x))\n",
        "valores,repetidos = valore_duplicados(df,'PES.nome')\n",
        "for i in range(0,2):\n",
        "\n",
        "  # Remove os espaços no final do nome\n",
        "  for c in df.columns:\n",
        "    df[c] = df[c].apply(lambda x:remove_ultimo_espaco(x))\n",
        "  df['PES.cpf_cnpj'] = df['PES.cpf_cnpj'].apply(lambda x:formatar_cpf(x))\n",
        "  # Tratamento dos números de telefones\n",
        "  df['PES.telefones'] = df['PES.telefones'].apply(lambda x:formatar_tel1(x))\n",
        "  df['PES.telefones'] = df['PES.telefones'].apply(lambda x:formatar_tel2(x))\n",
        "  df['PES.telefones'] = df['PES.telefones'].apply(lambda x:formatar_tel3(x))\n",
        "  df['PES.telefones'] = df['PES.telefones'].apply(lambda x:formatar_tel4(x))\n",
        "  df['PES.telefones'] = df['PES.telefones'].apply(lambda x:formatar_tel5(x))\n",
        "  df['PES.telefones'] = df['PES.telefones'].apply(lambda x:formatar_tel5(x))\n",
        "  df.drop_duplicates(keep='first', inplace=True) \n",
        "\n",
        "  # Tratamento dos números de CPF\n",
        "  df['PES.cpf_cnpj'] = df['PES.cpf_cnpj'].apply(lambda x:formatar_cpf(x))\n",
        "\n",
        "  # equiparando os dados\n",
        "  valores,repetidos = valore_duplicados(df,'PES.nome')\n",
        "  df = juntar_nome_cpf1(df,repetidos)\n",
        "\n",
        "\n",
        "  valores,repetidos = valore_duplicados(df,'PES.cpf_cnpj')\n",
        "  df = juntar_nome_cpf2(df,repetidos)\n",
        "print('Qtde de linhas após o processamento:',df.shape[0])\n",
        "\n",
        "print('\\n\\nVerificando valores duplicados por coluna\\n')\n",
        "for c in df.columns:\n",
        "  _,repetidos = valore_duplicados(df,c)\n",
        "  print(f'Valores repetidos em {c} ',len(repetidos))"
      ],
      "metadata": {
        "colab": {
          "base_uri": "https://localhost:8080/"
        },
        "id": "oT3EFlRJvNd7",
        "outputId": "a1e304de-2637-4317-d06d-abba8439fdae"
      },
      "execution_count": null,
      "outputs": [
        {
          "output_type": "stream",
          "name": "stdout",
          "text": [
            "Qtde de linhas antes do processamento: 9993\n"
          ]
        }
      ]
    },
    {
      "cell_type": "code",
      "source": [
        "df"
      ],
      "metadata": {
        "id": "ggxy-hCWy5MK"
      },
      "execution_count": null,
      "outputs": []
    }
  ]
}